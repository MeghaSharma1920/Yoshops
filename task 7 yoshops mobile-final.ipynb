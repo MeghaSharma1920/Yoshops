{
 "cells": [
  {
   "cell_type": "markdown",
   "id": "d60f737f",
   "metadata": {
    "papermill": {
     "duration": 0.004431,
     "end_time": "2022-10-22T09:51:05.047546",
     "exception": false,
     "start_time": "2022-10-22T09:51:05.043115",
     "status": "completed"
    },
    "tags": []
   },
   "source": [
    "# Name:Megha sharma\n",
    "# BeautifulSoup WebScraping\n",
    "# Mobile Data "
   ]
  },
  {
   "cell_type": "markdown",
   "id": "4d706bb6",
   "metadata": {
    "papermill": {
     "duration": 0.003325,
     "end_time": "2022-10-22T09:51:05.054623",
     "exception": false,
     "start_time": "2022-10-22T09:51:05.051298",
     "status": "completed"
    },
    "tags": []
   },
   "source": [
    "### Import Required Libraries:"
   ]
  },
  {
   "cell_type": "code",
   "execution_count": 19,
   "id": "f3ac685b",
   "metadata": {
    "execution": {
     "iopub.execute_input": "2022-10-22T09:51:05.063893Z",
     "iopub.status.busy": "2022-10-22T09:51:05.063426Z",
     "iopub.status.idle": "2022-10-22T09:51:05.256944Z",
     "shell.execute_reply": "2022-10-22T09:51:05.255465Z"
    },
    "papermill": {
     "duration": 0.201158,
     "end_time": "2022-10-22T09:51:05.259254",
     "exception": false,
     "start_time": "2022-10-22T09:51:05.058096",
     "status": "completed"
    },
    "tags": []
   },
   "outputs": [],
   "source": [
    "from bs4 import BeautifulSoup\n",
    "import requests\n",
    "import pandas as pd"
   ]
  },
  {
   "cell_type": "markdown",
   "id": "12aa3caa",
   "metadata": {},
   "source": [
    "# MOBILE"
   ]
  },
  {
   "cell_type": "markdown",
   "id": "0416658c",
   "metadata": {
    "papermill": {
     "duration": 0.003428,
     "end_time": "2022-10-22T09:51:05.266615",
     "exception": false,
     "start_time": "2022-10-22T09:51:05.263187",
     "status": "completed"
    },
    "tags": []
   },
   "source": [
    "### Base URL and URL:"
   ]
  },
  {
   "cell_type": "code",
   "execution_count": 20,
   "id": "5faa5628",
   "metadata": {
    "execution": {
     "iopub.execute_input": "2022-10-22T09:51:05.275186Z",
     "iopub.status.busy": "2022-10-22T09:51:05.274869Z",
     "iopub.status.idle": "2022-10-22T09:51:05.280033Z",
     "shell.execute_reply": "2022-10-22T09:51:05.278600Z"
    },
    "papermill": {
     "duration": 0.011885,
     "end_time": "2022-10-22T09:51:05.281944",
     "exception": false,
     "start_time": "2022-10-22T09:51:05.270059",
     "status": "completed"
    },
    "tags": []
   },
   "outputs": [],
   "source": [
    "Base_url = \"https://www.flipkart.com/search?q=MOBILES+&otracker=search&otracker1=search&marketplace=FLIPKART&as-show=on&as=off&p%5B%5D=facets.price_range.from%3DMin&p%5B%5D=facets.price_range.to%3D10000\""
   ]
  },
  {
   "cell_type": "code",
   "execution_count": 21,
   "id": "9822d5c4",
   "metadata": {
    "execution": {
     "iopub.execute_input": "2022-10-22T09:51:05.290881Z",
     "iopub.status.busy": "2022-10-22T09:51:05.290470Z",
     "iopub.status.idle": "2022-10-22T09:51:05.295812Z",
     "shell.execute_reply": "2022-10-22T09:51:05.294412Z"
    },
    "papermill": {
     "duration": 0.01213,
     "end_time": "2022-10-22T09:51:05.297846",
     "exception": false,
     "start_time": "2022-10-22T09:51:05.285716",
     "status": "completed"
    },
    "tags": []
   },
   "outputs": [],
   "source": [
    "url = \"https://www.flipkart.com/search?q=MOBILES+&otracker=search&otracker1=search&marketplace=FLIPKART&as-show=on&as=off&p%5B%5D=facets.price_range.from%3DMin&p%5B%5D=facets.price_range.to%3D10000\""
   ]
  },
  {
   "cell_type": "markdown",
   "id": "4d1e3052",
   "metadata": {
    "papermill": {
     "duration": 0.0035,
     "end_time": "2022-10-22T09:51:05.305218",
     "exception": false,
     "start_time": "2022-10-22T09:51:05.301718",
     "status": "completed"
    },
    "tags": []
   },
   "source": [
    "### Status_Code:"
   ]
  },
  {
   "cell_type": "code",
   "execution_count": 22,
   "id": "ddaf1dbb",
   "metadata": {
    "execution": {
     "iopub.execute_input": "2022-10-22T09:51:05.313938Z",
     "iopub.status.busy": "2022-10-22T09:51:05.313624Z",
     "iopub.status.idle": "2022-10-22T09:51:07.515030Z",
     "shell.execute_reply": "2022-10-22T09:51:07.513903Z"
    },
    "papermill": {
     "duration": 2.208396,
     "end_time": "2022-10-22T09:51:07.517242",
     "exception": false,
     "start_time": "2022-10-22T09:51:05.308846",
     "status": "completed"
    },
    "tags": []
   },
   "outputs": [],
   "source": [
    "req=requests.get(Base_url)"
   ]
  },
  {
   "cell_type": "code",
   "execution_count": 23,
   "id": "d80f45ab",
   "metadata": {
    "execution": {
     "iopub.execute_input": "2022-10-22T09:51:07.526069Z",
     "iopub.status.busy": "2022-10-22T09:51:07.525469Z",
     "iopub.status.idle": "2022-10-22T09:51:07.533565Z",
     "shell.execute_reply": "2022-10-22T09:51:07.532262Z"
    },
    "papermill": {
     "duration": 0.015306,
     "end_time": "2022-10-22T09:51:07.536339",
     "exception": false,
     "start_time": "2022-10-22T09:51:07.521033",
     "status": "completed"
    },
    "tags": []
   },
   "outputs": [
    {
     "data": {
      "text/plain": [
       "<Response [200]>"
      ]
     },
     "execution_count": 23,
     "metadata": {},
     "output_type": "execute_result"
    }
   ],
   "source": [
    "req"
   ]
  },
  {
   "cell_type": "markdown",
   "id": "acf63b30",
   "metadata": {
    "papermill": {
     "duration": 0.003441,
     "end_time": "2022-10-22T09:51:07.543921",
     "exception": false,
     "start_time": "2022-10-22T09:51:07.540480",
     "status": "completed"
    },
    "tags": []
   },
   "source": [
    "### Creating Empty Lists:"
   ]
  },
  {
   "cell_type": "code",
   "execution_count": 24,
   "id": "947f6b77",
   "metadata": {
    "execution": {
     "iopub.execute_input": "2022-10-22T09:51:07.552600Z",
     "iopub.status.busy": "2022-10-22T09:51:07.552274Z",
     "iopub.status.idle": "2022-10-22T09:51:07.557568Z",
     "shell.execute_reply": "2022-10-22T09:51:07.555927Z"
    },
    "papermill": {
     "duration": 0.01202,
     "end_time": "2022-10-22T09:51:07.559485",
     "exception": false,
     "start_time": "2022-10-22T09:51:07.547465",
     "status": "completed"
    },
    "tags": []
   },
   "outputs": [],
   "source": [
    "a1=[]\n",
    "b1=[]\n",
    "c1=[]\n",
    "d1=[]\n",
    "e1=[]\n",
    "f1=[]\n",
    "g1=[]"
   ]
  },
  {
   "cell_type": "code",
   "execution_count": 41,
   "id": "1cb6c0b4",
   "metadata": {
    "execution": {
     "iopub.execute_input": "2022-10-22T09:51:07.570604Z",
     "iopub.status.busy": "2022-10-22T09:51:07.570069Z",
     "iopub.status.idle": "2022-10-22T09:52:43.846906Z",
     "shell.execute_reply": "2022-10-22T09:52:43.845484Z"
    },
    "papermill": {
     "duration": 96.284583,
     "end_time": "2022-10-22T09:52:43.849404",
     "exception": false,
     "start_time": "2022-10-22T09:51:07.564821",
     "status": "completed"
    },
    "tags": []
   },
   "outputs": [],
   "source": [
    "for i in range(1,41):\n",
    "    url=Base_url+str(i)\n",
    "    req=requests.get(url)\n",
    "    soup=BeautifulSoup(req.text,\"html.parser\")\n",
    "    name=soup.find_all(\"div\",class_ = \"_4rR01T\")\n",
    "    rating=soup.find_all(\"div\",class_= \"_3LWZlK\")\n",
    "    NO_of_reviews_and_ratings = soup.find_all(\"span\",class_= \"_2_R_DZ\")\n",
    "    specifics = soup.find_all(\"li\",class_=\"rgWa7D\")\n",
    "    discounted_price=soup.find_all(\"div\",class_=\"_30jeq3 _1_WHN1\")\n",
    "    original_price=soup.find_all(\"div\",class_=\"_3I9_wc _27UcVY\")\n",
    "    discount_per=soup.find_all(\"div\",class_=\"_3Ay6Sb\")\n",
    "    for a,b,c,d,e,f,g in zip(name,rating,NO_of_reviews_and_ratings,specifics,discounted_price,original_price,discount_per):\n",
    "        a1.append(a.text)\n",
    "        b1.append(b.text)\n",
    "        c1.append(c.text)\n",
    "        d1.append(d.text)\n",
    "        e1.append(e.text)\n",
    "        f1.append(f.text)\n",
    "        g1.append(g.text)\n"
   ]
  },
  {
   "cell_type": "markdown",
   "id": "e383ef13",
   "metadata": {
    "papermill": {
     "duration": 0.00352,
     "end_time": "2022-10-22T09:52:43.857390",
     "exception": false,
     "start_time": "2022-10-22T09:52:43.853870",
     "status": "completed"
    },
    "tags": []
   },
   "source": [
    "### Print All data to check it is appended or not:"
   ]
  },
  {
   "cell_type": "code",
   "execution_count": 42,
   "id": "daff32bd",
   "metadata": {
    "execution": {
     "iopub.execute_input": "2022-10-22T09:52:43.866551Z",
     "iopub.status.busy": "2022-10-22T09:52:43.866172Z",
     "iopub.status.idle": "2022-10-22T09:52:43.878083Z",
     "shell.execute_reply": "2022-10-22T09:52:43.877397Z"
    },
    "papermill": {
     "duration": 0.030026,
     "end_time": "2022-10-22T09:52:43.891031",
     "exception": false,
     "start_time": "2022-10-22T09:52:43.861005",
     "status": "completed"
    },
    "tags": []
   },
   "outputs": [
    {
     "name": "stdout",
     "output_type": "stream",
     "text": [
      "['REDMI 10 (Caribbean Green, 64 GB)', 'APPLE iPhone 14 (Midnight, 128 GB)', 'APPLE iPhone 11 (White, 64 GB)', 'Cellecor A30i', 'APPLE iPhone 14 (Blue, 128 GB)', 'REDMI 10 (Pacific Blue, 64 GB)', 'APPLE iPhone 11 (Black, 64 GB)', 'Cellecor C60+', 'POCO M4 Pro (Cool Blue, 128 GB)', 'POCO M4 Pro (Cool Blue, 64 GB)', 'POCO M4 Pro (Yellow, 64 GB)', 'Cellecor R50', 'POCO C31 (Royal Blue, 64 GB)', 'SAMSUNG Galaxy F13 (Nightsky Green, 64 GB)', 'SAMSUNG Galaxy F23 5G (Forest Green, 128 GB)', 'Cellecor A5', 'MOTOROLA e40 (Carbon Gray, 64 GB)', 'POCO C31 (Shadow Gray, 64 GB)', 'POCO C31 (Royal Blue, 32 GB)', 'MOTOROLA e40 (Pink Clay, 64 GB)', 'REDMI 10 (Caribbean Green, 64 GB)', 'APPLE iPhone 14 (Midnight, 128 GB)', 'APPLE iPhone 11 (White, 64 GB)', 'Cellecor C60+', 'APPLE iPhone 14 (Blue, 128 GB)', 'APPLE iPhone 11 (Black, 64 GB)', 'REDMI 10 (Pacific Blue, 64 GB)', 'Cellecor R3+', 'POCO M4 Pro (Cool Blue, 128 GB)', 'POCO M4 Pro (Yellow, 64 GB)', 'POCO C31 (Royal Blue, 64 GB)', 'Cellecor X2', 'SAMSUNG Galaxy F13 (Nightsky Green, 64 GB)', 'POCO M4 Pro (Cool Blue, 64 GB)', 'SAMSUNG Galaxy F23 5G (Forest Green, 128 GB)', 'Cellecor X-1', 'MOTOROLA e40 (Carbon Gray, 64 GB)', 'POCO C31 (Shadow Gray, 64 GB)', 'REDMI 10 (Caribbean Green, 64 GB)', 'APPLE iPhone 14 (Midnight, 128 GB)', 'APPLE iPhone 11 (White, 64 GB)', 'Cellecor A30i', 'APPLE iPhone 14 (Blue, 128 GB)', 'APPLE iPhone 11 (Black, 64 GB)', 'REDMI 10 (Pacific Blue, 64 GB)', 'Cellecor R3+', 'REDMI 10 (Midnight Black, 64 GB)', 'POCO M4 Pro (Cool Blue, 128 GB)', 'POCO C31 (Royal Blue, 64 GB)', 'Cellecor C60+', 'POCO M4 Pro (Yellow, 64 GB)', 'POCO M4 Pro (Cool Blue, 64 GB)', 'SAMSUNG Galaxy F13 (Nightsky Green, 64 GB)', 'Cellecor E1', 'SAMSUNG Galaxy F23 5G (Forest Green, 128 GB)', 'MOTOROLA e40 (Carbon Gray, 64 GB)', 'POCO C31 (Shadow Gray, 64 GB)', 'REDMI 10 (Caribbean Green, 64 GB)', 'APPLE iPhone 14 (Midnight, 128 GB)', 'APPLE iPhone 11 (White, 64 GB)', 'Cellecor A30i', 'APPLE iPhone 14 (Blue, 128 GB)', 'APPLE iPhone 11 (Black, 64 GB)', 'REDMI 10 (Pacific Blue, 64 GB)', 'Cellecor C60+', 'POCO M4 Pro (Cool Blue, 128 GB)', 'POCO C31 (Royal Blue, 64 GB)', 'POCO M4 Pro (Yellow, 64 GB)', 'Cellecor A5', 'POCO M4 Pro (Cool Blue, 64 GB)', 'SAMSUNG Galaxy F13 (Nightsky Green, 64 GB)', 'SAMSUNG Galaxy F23 5G (Forest Green, 128 GB)', 'MOTOROLA e40 (Carbon Gray, 64 GB)', 'POCO C31 (Shadow Gray, 64 GB)', 'POCO C31 (Royal Blue, 32 GB)', 'MOTOROLA e40 (Pink Clay, 64 GB)', 'REDMI 9i Sport (Carbon Black, 64 GB)', 'SAMSUNG Galaxy F23 5G (Aqua Blue, 128 GB)', 'REDMI 10 (Caribbean Green, 64 GB)', 'APPLE iPhone 14 (Midnight, 128 GB)', 'APPLE iPhone 11 (White, 64 GB)', 'Cellecor A30i', 'APPLE iPhone 14 (Blue, 128 GB)', 'APPLE iPhone 11 (Black, 64 GB)', 'REDMI 10 (Pacific Blue, 64 GB)', 'Cellecor R3+', 'REDMI 10 (Midnight Black, 64 GB)', 'POCO M4 Pro (Cool Blue, 128 GB)', 'POCO M4 Pro (Yellow, 64 GB)', 'Cellecor C60+', 'POCO C31 (Royal Blue, 64 GB)', 'POCO M4 Pro (Cool Blue, 64 GB)', 'SAMSUNG Galaxy F13 (Nightsky Green, 64 GB)', 'Cellecor E1', 'SAMSUNG Galaxy F23 5G (Forest Green, 128 GB)', 'MOTOROLA e40 (Carbon Gray, 64 GB)', 'POCO C31 (Shadow Gray, 64 GB)', 'REDMI 10 (Caribbean Green, 64 GB)', 'APPLE iPhone 14 (Midnight, 128 GB)', 'APPLE iPhone 11 (White, 64 GB)', 'Cellecor A30i', 'APPLE iPhone 14 (Blue, 128 GB)', 'APPLE iPhone 11 (Black, 64 GB)', 'REDMI 10 (Pacific Blue, 64 GB)', 'Cellecor C60+', 'REDMI 10 (Midnight Black, 64 GB)', 'POCO M4 Pro (Cool Blue, 128 GB)', 'POCO C31 (Royal Blue, 64 GB)', 'Cellecor E1', 'POCO M4 Pro (Yellow, 64 GB)', 'POCO M4 Pro (Cool Blue, 64 GB)', 'SAMSUNG Galaxy F13 (Nightsky Green, 64 GB)', 'Cellecor X2', 'SAMSUNG Galaxy F23 5G (Forest Green, 128 GB)', 'POCO C31 (Shadow Gray, 64 GB)', 'REDMI 10 (Caribbean Green, 64 GB)', 'APPLE iPhone 11 (White, 64 GB)', 'APPLE iPhone 14 (Midnight, 128 GB)', 'Cellecor A30i', 'APPLE iPhone 14 (Blue, 128 GB)', 'APPLE iPhone 11 (Black, 64 GB)', 'REDMI 10 (Pacific Blue, 64 GB)', 'Cellecor C60+', 'POCO M4 Pro (Cool Blue, 128 GB)', 'POCO C31 (Royal Blue, 64 GB)', 'POCO M4 Pro (Yellow, 64 GB)', 'Cellecor R50', 'POCO M4 Pro (Cool Blue, 64 GB)', 'SAMSUNG Galaxy F13 (Nightsky Green, 64 GB)', 'SAMSUNG Galaxy F23 5G (Forest Green, 128 GB)', 'Cellecor A5', 'MOTOROLA e40 (Carbon Gray, 64 GB)', 'POCO C31 (Shadow Gray, 64 GB)', 'REDMI 9i Sport (Carbon Black, 64 GB)', 'POCO C31 (Royal Blue, 32 GB)', 'REDMI 10 (Caribbean Green, 64 GB)', 'APPLE iPhone 14 (Midnight, 128 GB)', 'APPLE iPhone 11 (White, 64 GB)', 'Cellecor R3+', 'APPLE iPhone 14 (Blue, 128 GB)', 'APPLE iPhone 11 (Black, 64 GB)', 'REDMI 10 (Pacific Blue, 64 GB)', 'Cellecor R50', 'POCO M4 Pro (Cool Blue, 128 GB)', 'POCO M4 Pro (Yellow, 64 GB)', 'POCO C31 (Royal Blue, 64 GB)', 'Cellecor A5', 'POCO M4 Pro (Cool Blue, 64 GB)', 'SAMSUNG Galaxy F13 (Nightsky Green, 64 GB)', 'SAMSUNG Galaxy F23 5G (Forest Green, 128 GB)', 'MOTOROLA e40 (Carbon Gray, 64 GB)', 'POCO C31 (Shadow Gray, 64 GB)', 'POCO C31 (Royal Blue, 32 GB)', 'MOTOROLA e40 (Pink Clay, 64 GB)', 'REDMI 9i Sport (Carbon Black, 64 GB)', 'REDMI 10 (Midnight Black, 64 GB)', 'REDMI 10 (Caribbean Green, 64 GB)', 'APPLE iPhone 14 (Midnight, 128 GB)', 'APPLE iPhone 11 (White, 64 GB)', 'Cellecor C60+', 'APPLE iPhone 14 (Blue, 128 GB)', 'APPLE iPhone 11 (Black, 64 GB)', 'REDMI 10 (Pacific Blue, 64 GB)', 'Cellecor R3+', 'POCO M4 Pro (Cool Blue, 128 GB)', 'POCO C31 (Royal Blue, 64 GB)', 'POCO M4 Pro (Yellow, 64 GB)', 'Cellecor X2', 'POCO M4 Pro (Cool Blue, 64 GB)', 'SAMSUNG Galaxy F13 (Nightsky Green, 64 GB)', 'SAMSUNG Galaxy F23 5G (Forest Green, 128 GB)', 'Cellecor X-1', 'POCO C31 (Shadow Gray, 64 GB)', 'MOTOROLA e40 (Carbon Gray, 64 GB)', 'REDMI 10 (Caribbean Green, 64 GB)', 'APPLE iPhone 14 (Midnight, 128 GB)', 'APPLE iPhone 11 (White, 64 GB)', 'Cellecor E3', 'APPLE iPhone 14 (Blue, 128 GB)', 'APPLE iPhone 11 (Black, 64 GB)', 'REDMI 10 (Pacific Blue, 64 GB)', 'Cellecor E1', 'POCO M4 Pro (Cool Blue, 128 GB)', 'POCO C31 (Royal Blue, 64 GB)', 'POCO M4 Pro (Yellow, 64 GB)', 'Cellecor R3+', 'SAMSUNG Galaxy F13 (Nightsky Green, 64 GB)', 'POCO M4 Pro (Cool Blue, 64 GB)', 'SAMSUNG Galaxy F23 5G (Forest Green, 128 GB)', 'Cellecor X2', 'POCO C31 (Shadow Gray, 64 GB)', 'MOTOROLA e40 (Carbon Gray, 64 GB)', 'REDMI 10 (Caribbean Green, 64 GB)', 'APPLE iPhone 14 (Midnight, 128 GB)', 'APPLE iPhone 11 (White, 64 GB)', 'Cellecor E3', 'APPLE iPhone 14 (Blue, 128 GB)', 'APPLE iPhone 11 (Black, 64 GB)', 'REDMI 10 (Pacific Blue, 64 GB)', 'Cellecor E7', 'POCO M4 Pro (Cool Blue, 128 GB)', 'POCO C31 (Royal Blue, 64 GB)', 'POCO M4 Pro (Yellow, 64 GB)', 'Cellecor C60+', 'POCO M4 Pro (Cool Blue, 64 GB)', 'SAMSUNG Galaxy F13 (Nightsky Green, 64 GB)', 'SAMSUNG Galaxy F23 5G (Forest Green, 128 GB)', 'Cellecor R3+', 'POCO C31 (Shadow Gray, 64 GB)', 'MOTOROLA e40 (Carbon Gray, 64 GB)', 'REDMI 10 (Caribbean Green, 64 GB)', 'APPLE iPhone 14 (Midnight, 128 GB)', 'APPLE iPhone 11 (White, 64 GB)', 'Cellecor A30i', 'REDMI 10 (Midnight Black, 64 GB)', 'APPLE iPhone 14 (Blue, 128 GB)', 'REDMI 10 (Pacific Blue, 64 GB)', 'Cellecor R3+', 'APPLE iPhone 11 (Black, 64 GB)', 'POCO M4 Pro (Cool Blue, 128 GB)', 'POCO C31 (Royal Blue, 64 GB)', 'Cellecor C60+', 'POCO M4 Pro (Yellow, 64 GB)', 'SAMSUNG Galaxy F13 (Nightsky Green, 64 GB)', 'POCO M4 Pro (Cool Blue, 64 GB)', 'Cellecor E1', 'SAMSUNG Galaxy F23 5G (Forest Green, 128 GB)', 'MOTOROLA e40 (Carbon Gray, 64 GB)', 'POCO C31 (Shadow Gray, 64 GB)', 'REDMI 10 (Caribbean Green, 64 GB)', 'APPLE iPhone 14 (Midnight, 128 GB)', 'APPLE iPhone 11 (White, 64 GB)', 'Cellecor A30i', 'APPLE iPhone 14 (Blue, 128 GB)', 'APPLE iPhone 11 (Black, 64 GB)', 'REDMI 10 (Pacific Blue, 64 GB)', 'Cellecor R3+', 'REDMI 10 (Midnight Black, 64 GB)', 'POCO M4 Pro (Cool Blue, 128 GB)', 'POCO M4 Pro (Yellow, 64 GB)', 'Cellecor C60+', 'POCO C31 (Royal Blue, 64 GB)', 'POCO M4 Pro (Cool Blue, 64 GB)', 'SAMSUNG Galaxy F13 (Nightsky Green, 64 GB)', 'Cellecor E1', 'SAMSUNG Galaxy F23 5G (Forest Green, 128 GB)', 'MOTOROLA e40 (Carbon Gray, 64 GB)', 'POCO C31 (Shadow Gray, 64 GB)', 'REDMI 10 (Caribbean Green, 64 GB)', 'APPLE iPhone 14 (Midnight, 128 GB)', 'APPLE iPhone 11 (White, 64 GB)', 'Cellecor R50', 'APPLE iPhone 14 (Blue, 128 GB)', 'REDMI 10 (Pacific Blue, 64 GB)', 'APPLE iPhone 11 (Black, 64 GB)', 'Cellecor C60+', 'REDMI 10 (Midnight Black, 64 GB)', 'POCO M4 Pro (Cool Blue, 128 GB)', 'POCO M4 Pro (Yellow, 64 GB)', 'Cellecor E1', 'POCO C31 (Royal Blue, 64 GB)', 'POCO M4 Pro (Cool Blue, 64 GB)', 'SAMSUNG Galaxy F13 (Nightsky Green, 64 GB)', 'Cellecor X2', 'SAMSUNG Galaxy F23 5G (Forest Green, 128 GB)', 'MOTOROLA e40 (Carbon Gray, 64 GB)', 'REDMI 10 (Caribbean Green, 64 GB)', 'APPLE iPhone 14 (Midnight, 128 GB)', 'APPLE iPhone 11 (White, 64 GB)', 'Cellecor R3+', 'APPLE iPhone 14 (Blue, 128 GB)', 'APPLE iPhone 11 (Black, 64 GB)', 'REDMI 10 (Pacific Blue, 64 GB)', 'Cellecor A5', 'POCO M4 Pro (Cool Blue, 128 GB)', 'POCO C31 (Royal Blue, 64 GB)', 'POCO M4 Pro (Yellow, 64 GB)', 'POCO M4 Pro (Cool Blue, 64 GB)', 'SAMSUNG Galaxy F13 (Nightsky Green, 64 GB)', 'SAMSUNG Galaxy F23 5G (Forest Green, 128 GB)', 'POCO C31 (Shadow Gray, 64 GB)', 'MOTOROLA e40 (Carbon Gray, 64 GB)', 'POCO C31 (Royal Blue, 32 GB)', 'REDMI 9i Sport (Carbon Black, 64 GB)', 'MOTOROLA e40 (Pink Clay, 64 GB)', 'SAMSUNG Galaxy F23 5G (Aqua Blue, 128 GB)', 'MOTOROLA G62 5G (Midnight Gray, 128 GB)', 'POCO M4 Pro 5G (Cool Blue, 64 GB)', 'REDMI 10 (Caribbean Green, 64 GB)', 'APPLE iPhone 14 (Midnight, 128 GB)', 'APPLE iPhone 11 (White, 64 GB)', 'Cellecor A30i', 'APPLE iPhone 14 (Blue, 128 GB)', 'REDMI 10 (Midnight Black, 64 GB)', 'APPLE iPhone 11 (Black, 64 GB)', 'Cellecor R3+', 'REDMI 10 (Pacific Blue, 64 GB)', 'POCO M4 Pro (Cool Blue, 128 GB)', 'POCO C31 (Royal Blue, 64 GB)', 'Cellecor C60+', 'POCO M4 Pro (Yellow, 64 GB)', 'POCO M4 Pro (Cool Blue, 64 GB)', 'SAMSUNG Galaxy F13 (Nightsky Green, 64 GB)', 'Cellecor E1', 'SAMSUNG Galaxy F23 5G (Forest Green, 128 GB)', 'MOTOROLA e40 (Carbon Gray, 64 GB)', 'POCO C31 (Shadow Gray, 64 GB)', 'REDMI 10 (Caribbean Green, 64 GB)', 'APPLE iPhone 14 (Midnight, 128 GB)', 'APPLE iPhone 11 (White, 64 GB)', 'Cellecor C60+', 'APPLE iPhone 14 (Blue, 128 GB)', 'APPLE iPhone 11 (Black, 64 GB)', 'REDMI 10 (Pacific Blue, 64 GB)', 'Cellecor E1', 'POCO M4 Pro (Cool Blue, 128 GB)', 'POCO C31 (Royal Blue, 64 GB)', 'POCO M4 Pro (Yellow, 64 GB)', 'Cellecor R3+', 'POCO M4 Pro (Cool Blue, 64 GB)', 'SAMSUNG Galaxy F13 (Nightsky Green, 64 GB)', 'SAMSUNG Galaxy F23 5G (Forest Green, 128 GB)', 'Cellecor X2', 'MOTOROLA e40 (Carbon Gray, 64 GB)', 'POCO C31 (Shadow Gray, 64 GB)', 'REDMI 10 (Caribbean Green, 64 GB)', 'APPLE iPhone 14 (Midnight, 128 GB)', 'APPLE iPhone 11 (White, 64 GB)', 'Cellecor E7', 'REDMI 10 (Midnight Black, 64 GB)', 'APPLE iPhone 14 (Blue, 128 GB)', 'APPLE iPhone 11 (Black, 64 GB)', 'Cellecor R3+', 'REDMI 10 (Pacific Blue, 64 GB)', 'POCO M4 Pro (Cool Blue, 128 GB)', 'POCO C31 (Royal Blue, 64 GB)', 'Cellecor C60+', 'POCO M4 Pro (Yellow, 64 GB)', 'POCO M4 Pro (Cool Blue, 64 GB)', 'SAMSUNG Galaxy F13 (Nightsky Green, 64 GB)', 'Cellecor E1', 'SAMSUNG Galaxy F23 5G (Forest Green, 128 GB)', 'POCO C31 (Shadow Gray, 64 GB)', 'MOTOROLA e40 (Carbon Gray, 64 GB)', 'REDMI 10 (Caribbean Green, 64 GB)', 'APPLE iPhone 14 (Midnight, 128 GB)', 'APPLE iPhone 11 (White, 64 GB)', 'Cellecor A30i', 'APPLE iPhone 14 (Blue, 128 GB)', 'REDMI 10 (Midnight Black, 64 GB)', 'REDMI 10 (Pacific Blue, 64 GB)', 'Cellecor C60+', 'APPLE iPhone 11 (Black, 64 GB)', 'POCO M4 Pro (Cool Blue, 128 GB)', 'POCO C31 (Royal Blue, 64 GB)', 'Cellecor R3+', 'POCO M4 Pro (Yellow, 64 GB)', 'POCO M4 Pro (Cool Blue, 64 GB)', 'SAMSUNG Galaxy F13 (Nightsky Green, 64 GB)', 'Cellecor E1', 'SAMSUNG Galaxy F23 5G (Forest Green, 128 GB)', 'MOTOROLA e40 (Carbon Gray, 64 GB)', 'POCO C31 (Shadow Gray, 64 GB)', 'REDMI 10 (Caribbean Green, 64 GB)', 'APPLE iPhone 14 (Midnight, 128 GB)', 'APPLE iPhone 11 (White, 64 GB)', 'Cellecor R50', 'APPLE iPhone 14 (Blue, 128 GB)', 'REDMI 10 (Pacific Blue, 64 GB)', 'REDMI 10 (Midnight Black, 64 GB)', 'Cellecor C60+', 'APPLE iPhone 11 (Black, 64 GB)', 'POCO M4 Pro (Cool Blue, 128 GB)', 'POCO M4 Pro (Yellow, 64 GB)', 'Cellecor E1', 'POCO M4 Pro (Cool Blue, 64 GB)', 'POCO C31 (Royal Blue, 64 GB)', 'SAMSUNG Galaxy F13 (Nightsky Green, 64 GB)', 'Cellecor X2', 'SAMSUNG Galaxy F23 5G (Forest Green, 128 GB)', 'MOTOROLA e40 (Carbon Gray, 64 GB)', 'REDMI 10 (Caribbean Green, 64 GB)', 'APPLE iPhone 14 (Midnight, 128 GB)', 'APPLE iPhone 11 (White, 64 GB)', 'Cellecor E7', 'APPLE iPhone 14 (Blue, 128 GB)', 'APPLE iPhone 11 (Black, 64 GB)', 'REDMI 10 (Pacific Blue, 64 GB)', 'Cellecor E1', 'POCO M4 Pro (Cool Blue, 128 GB)', 'POCO M4 Pro (Yellow, 64 GB)', 'POCO C31 (Royal Blue, 64 GB)', 'Cellecor R3+', 'SAMSUNG Galaxy F13 (Nightsky Green, 64 GB)', 'POCO M4 Pro (Cool Blue, 64 GB)', 'SAMSUNG Galaxy F23 5G (Forest Green, 128 GB)', 'Cellecor X2', 'POCO C31 (Shadow Gray, 64 GB)', 'MOTOROLA e40 (Carbon Gray, 64 GB)', 'REDMI 10 (Caribbean Green, 64 GB)', 'APPLE iPhone 14 (Midnight, 128 GB)', 'APPLE iPhone 11 (White, 64 GB)', 'Cellecor A30i', 'APPLE iPhone 14 (Blue, 128 GB)', 'REDMI 10 (Midnight Black, 64 GB)', 'APPLE iPhone 11 (Black, 64 GB)', 'Cellecor R3+', 'REDMI 10 (Pacific Blue, 64 GB)', 'POCO M4 Pro (Cool Blue, 128 GB)', 'POCO C31 (Royal Blue, 64 GB)', 'Cellecor C60+', 'POCO M4 Pro (Yellow, 64 GB)', 'POCO M4 Pro (Cool Blue, 64 GB)', 'SAMSUNG Galaxy F13 (Nightsky Green, 64 GB)', 'Cellecor E1', 'SAMSUNG Galaxy F23 5G (Forest Green, 128 GB)', 'MOTOROLA e40 (Carbon Gray, 64 GB)', 'POCO C31 (Shadow Gray, 64 GB)', 'REDMI 10 (Caribbean Green, 64 GB)', 'APPLE iPhone 14 (Midnight, 128 GB)', 'APPLE iPhone 11 (White, 64 GB)', 'Cellecor R50', 'APPLE iPhone 14 (Blue, 128 GB)', 'APPLE iPhone 11 (Black, 64 GB)', 'REDMI 10 (Pacific Blue, 64 GB)', 'Cellecor C60+', 'REDMI 10 (Midnight Black, 64 GB)', 'POCO M4 Pro (Cool Blue, 128 GB)', 'POCO C31 (Royal Blue, 64 GB)', 'Cellecor E1', 'POCO M4 Pro (Yellow, 64 GB)', 'POCO M4 Pro (Cool Blue, 64 GB)', 'SAMSUNG Galaxy F13 (Nightsky Green, 64 GB)', 'Cellecor X2', 'SAMSUNG Galaxy F23 5G (Forest Green, 128 GB)', 'MOTOROLA e40 (Carbon Gray, 64 GB)', 'REDMI 10 (Caribbean Green, 64 GB)', 'APPLE iPhone 11 (White, 64 GB)', 'APPLE iPhone 14 (Midnight, 128 GB)', 'Cellecor E7', 'REDMI 10 (Midnight Black, 64 GB)', 'APPLE iPhone 14 (Blue, 128 GB)', 'REDMI 10 (Pacific Blue, 64 GB)', 'Cellecor C60+', 'APPLE iPhone 11 (Black, 64 GB)', 'POCO M4 Pro (Cool Blue, 128 GB)', 'POCO M4 Pro (Yellow, 64 GB)', 'Cellecor E1', 'POCO C31 (Royal Blue, 64 GB)', 'SAMSUNG Galaxy F13 (Nightsky Green, 64 GB)', 'SAMSUNG Galaxy F23 5G (Forest Green, 128 GB)', 'Cellecor X2', 'POCO M4 Pro (Cool Blue, 64 GB)', 'POCO C31 (Shadow Gray, 64 GB)', 'REDMI 10 (Caribbean Green, 64 GB)', 'APPLE iPhone 14 (Midnight, 128 GB)', 'APPLE iPhone 11 (White, 64 GB)', 'Cellecor A30i', 'APPLE iPhone 14 (Blue, 128 GB)', 'APPLE iPhone 11 (Black, 64 GB)', 'REDMI 10 (Pacific Blue, 64 GB)', 'Cellecor E1', 'POCO M4 Pro (Cool Blue, 128 GB)', 'POCO C31 (Royal Blue, 64 GB)', 'POCO M4 Pro (Yellow, 64 GB)', 'Cellecor R3+', 'POCO M4 Pro (Cool Blue, 64 GB)', 'SAMSUNG Galaxy F13 (Nightsky Green, 64 GB)', 'SAMSUNG Galaxy F23 5G (Forest Green, 128 GB)', 'Cellecor X2', 'MOTOROLA e40 (Carbon Gray, 64 GB)', 'POCO C31 (Shadow Gray, 64 GB)', 'REDMI 10 (Caribbean Green, 64 GB)', 'APPLE iPhone 14 (Midnight, 128 GB)', 'APPLE iPhone 11 (White, 64 GB)', 'Cellecor A30i', 'APPLE iPhone 14 (Blue, 128 GB)', 'APPLE iPhone 11 (Black, 64 GB)', 'REDMI 10 (Pacific Blue, 64 GB)', 'Cellecor R3+', 'REDMI 10 (Midnight Black, 64 GB)', 'POCO M4 Pro (Cool Blue, 128 GB)', 'POCO M4 Pro (Yellow, 64 GB)', 'Cellecor C60+', 'POCO C31 (Royal Blue, 64 GB)', 'POCO M4 Pro (Cool Blue, 64 GB)', 'SAMSUNG Galaxy F13 (Nightsky Green, 64 GB)', 'Cellecor E1', 'SAMSUNG Galaxy F23 5G (Forest Green, 128 GB)', 'MOTOROLA e40 (Carbon Gray, 64 GB)', 'POCO C31 (Shadow Gray, 64 GB)', 'REDMI 10 (Caribbean Green, 64 GB)', 'APPLE iPhone 14 (Midnight, 128 GB)', 'APPLE iPhone 11 (White, 64 GB)', 'Cellecor R3+', 'APPLE iPhone 14 (Blue, 128 GB)', 'REDMI 10 (Pacific Blue, 64 GB)', 'APPLE iPhone 11 (Black, 64 GB)', 'Cellecor E1', 'REDMI 10 (Midnight Black, 64 GB)', 'POCO M4 Pro (Cool Blue, 128 GB)', 'POCO C31 (Royal Blue, 64 GB)', 'Cellecor X2', 'POCO M4 Pro (Yellow, 64 GB)', 'POCO M4 Pro (Cool Blue, 64 GB)', 'SAMSUNG Galaxy F13 (Nightsky Green, 64 GB)', 'Cellecor X-1', 'SAMSUNG Galaxy F23 5G (Forest Green, 128 GB)', 'POCO C31 (Shadow Gray, 64 GB)', 'MOTOROLA e40 (Carbon Gray, 64 GB)', 'REDMI 10 (Caribbean Green, 64 GB)', 'APPLE iPhone 11 (White, 64 GB)', 'APPLE iPhone 14 (Midnight, 128 GB)', 'Cellecor A30i', 'APPLE iPhone 14 (Blue, 128 GB)', 'REDMI 10 (Pacific Blue, 64 GB)', 'APPLE iPhone 11 (Black, 64 GB)', 'Cellecor C60+', 'POCO M4 Pro (Cool Blue, 128 GB)', 'POCO C31 (Royal Blue, 64 GB)', 'POCO M4 Pro (Yellow, 64 GB)', 'Cellecor A5', 'POCO M4 Pro (Cool Blue, 64 GB)', 'SAMSUNG Galaxy F13 (Nightsky Green, 64 GB)', 'SAMSUNG Galaxy F23 5G (Forest Green, 128 GB)', 'POCO C31 (Shadow Gray, 64 GB)', 'MOTOROLA e40 (Carbon Gray, 64 GB)', 'MOTOROLA e40 (Pink Clay, 64 GB)', 'REDMI 9i Sport (Carbon Black, 64 GB)', 'POCO C31 (Royal Blue, 32 GB)', 'SAMSUNG Galaxy F23 5G (Aqua Blue, 128 GB)', 'REDMI 10 (Caribbean Green, 64 GB)', 'APPLE iPhone 14 (Midnight, 128 GB)', 'APPLE iPhone 11 (White, 64 GB)', 'Cellecor R3+', 'APPLE iPhone 14 (Blue, 128 GB)', 'REDMI 10 (Midnight Black, 64 GB)', 'APPLE iPhone 11 (Black, 64 GB)', 'Cellecor E1', 'POCO M4 Pro (Cool Blue, 128 GB)', 'POCO M4 Pro (Yellow, 64 GB)', 'POCO C31 (Royal Blue, 64 GB)', 'Cellecor X2', 'POCO M4 Pro (Cool Blue, 64 GB)', 'SAMSUNG Galaxy F23 5G (Forest Green, 128 GB)', 'MOTOROLA e40 (Carbon Gray, 64 GB)', 'Cellecor X-1', 'POCO C31 (Shadow Gray, 64 GB)', 'POCO C31 (Royal Blue, 32 GB)', 'MOTOROLA G62 5G (Midnight Gray, 128 GB)', 'REDMI 10 (Caribbean Green, 64 GB)', 'APPLE iPhone 14 (Midnight, 128 GB)', 'APPLE iPhone 11 (White, 64 GB)', 'Cellecor A30i', 'APPLE iPhone 14 (Blue, 128 GB)', 'APPLE iPhone 11 (Black, 64 GB)', 'REDMI 10 (Pacific Blue, 64 GB)', 'Cellecor C60+', 'POCO M4 Pro (Cool Blue, 128 GB)', 'POCO M4 Pro (Yellow, 64 GB)', 'POCO C31 (Royal Blue, 64 GB)', 'Cellecor A5', 'POCO M4 Pro (Cool Blue, 64 GB)', 'SAMSUNG Galaxy F13 (Nightsky Green, 64 GB)', 'SAMSUNG Galaxy F23 5G (Forest Green, 128 GB)', 'MOTOROLA e40 (Carbon Gray, 64 GB)', 'POCO C31 (Shadow Gray, 64 GB)', 'POCO C31 (Royal Blue, 32 GB)', 'REDMI 9i Sport (Carbon Black, 64 GB)', 'MOTOROLA e40 (Pink Clay, 64 GB)', 'MOTOROLA G62 5G (Midnight Gray, 128 GB)', 'REDMI 10 (Caribbean Green, 64 GB)', 'APPLE iPhone 14 (Midnight, 128 GB)', 'APPLE iPhone 11 (White, 64 GB)', 'Cellecor R3+', 'APPLE iPhone 14 (Blue, 128 GB)', 'APPLE iPhone 11 (Black, 64 GB)', 'REDMI 10 (Pacific Blue, 64 GB)', 'Cellecor R50', 'POCO M4 Pro (Cool Blue, 128 GB)', 'POCO M4 Pro (Yellow, 64 GB)', 'POCO C31 (Royal Blue, 64 GB)', 'Cellecor A5', 'SAMSUNG Galaxy F13 (Nightsky Green, 64 GB)', 'POCO M4 Pro (Cool Blue, 64 GB)', 'SAMSUNG Galaxy F23 5G (Forest Green, 128 GB)', 'POCO C31 (Shadow Gray, 64 GB)', 'MOTOROLA e40 (Carbon Gray, 64 GB)', 'POCO C31 (Royal Blue, 32 GB)', 'MOTOROLA e40 (Pink Clay, 64 GB)', 'REDMI 9i Sport (Carbon Black, 64 GB)', 'REDMI 10 (Midnight Black, 64 GB)', 'REDMI 10 (Caribbean Green, 64 GB)', 'APPLE iPhone 14 (Midnight, 128 GB)', 'APPLE iPhone 11 (White, 64 GB)', 'Cellecor R3+', 'APPLE iPhone 14 (Blue, 128 GB)', 'REDMI 10 (Pacific Blue, 64 GB)', 'APPLE iPhone 11 (Black, 64 GB)', 'Cellecor E1', 'REDMI 10 (Midnight Black, 64 GB)', 'POCO M4 Pro (Cool Blue, 128 GB)', 'POCO M4 Pro (Yellow, 64 GB)', 'Cellecor X2', 'POCO C31 (Royal Blue, 64 GB)', 'POCO M4 Pro (Cool Blue, 64 GB)', 'SAMSUNG Galaxy F13 (Nightsky Green, 64 GB)', 'Cellecor X-1', 'SAMSUNG Galaxy F23 5G (Forest Green, 128 GB)', 'MOTOROLA e40 (Carbon Gray, 64 GB)', 'POCO C31 (Shadow Gray, 64 GB)', 'REDMI 10 (Caribbean Green, 64 GB)', 'APPLE iPhone 14 (Midnight, 128 GB)', 'APPLE iPhone 11 (White, 64 GB)', 'Cellecor A30i', 'APPLE iPhone 14 (Blue, 128 GB)', 'APPLE iPhone 11 (Black, 64 GB)', 'REDMI 10 (Pacific Blue, 64 GB)', 'Cellecor R3+', 'POCO M4 Pro (Cool Blue, 128 GB)', 'POCO C31 (Royal Blue, 64 GB)', 'POCO M4 Pro (Yellow, 64 GB)', 'Cellecor R50', 'POCO M4 Pro (Cool Blue, 64 GB)', 'SAMSUNG Galaxy F13 (Nightsky Green, 64 GB)', 'SAMSUNG Galaxy F23 5G (Forest Green, 128 GB)', 'Cellecor A5', 'POCO C31 (Shadow Gray, 64 GB)', 'MOTOROLA e40 (Carbon Gray, 64 GB)', 'REDMI 9i Sport (Carbon Black, 64 GB)', 'POCO C31 (Royal Blue, 32 GB)', 'REDMI 10 (Caribbean Green, 64 GB)', 'APPLE iPhone 14 (Midnight, 128 GB)', 'APPLE iPhone 11 (White, 64 GB)', 'Cellecor A30i', 'APPLE iPhone 14 (Blue, 128 GB)', 'REDMI 10 (Pacific Blue, 64 GB)', 'APPLE iPhone 11 (Black, 64 GB)', 'Cellecor C60+', 'POCO M4 Pro (Cool Blue, 128 GB)', 'POCO C31 (Royal Blue, 64 GB)', 'POCO M4 Pro (Cool Blue, 64 GB)', 'Cellecor A5', 'POCO M4 Pro (Yellow, 64 GB)', 'SAMSUNG Galaxy F13 (Nightsky Green, 64 GB)', 'SAMSUNG Galaxy F23 5G (Forest Green, 128 GB)', 'MOTOROLA e40 (Carbon Gray, 64 GB)', 'POCO C31 (Shadow Gray, 64 GB)', 'MOTOROLA e40 (Pink Clay, 64 GB)', 'POCO C31 (Royal Blue, 32 GB)', 'REDMI 9i Sport (Carbon Black, 64 GB)', 'POCO M4 Pro 5G (Cool Blue, 64 GB)', 'REDMI 10 (Caribbean Green, 64 GB)', 'APPLE iPhone 14 (Midnight, 128 GB)', 'APPLE iPhone 11 (White, 64 GB)', 'Cellecor R3+', 'APPLE iPhone 14 (Blue, 128 GB)', 'APPLE iPhone 11 (Black, 64 GB)', 'REDMI 10 (Pacific Blue, 64 GB)', 'Cellecor R50', 'POCO M4 Pro (Cool Blue, 128 GB)', 'POCO C31 (Royal Blue, 64 GB)', 'POCO M4 Pro (Cool Blue, 64 GB)', 'Cellecor A5', 'POCO M4 Pro (Yellow, 64 GB)', 'SAMSUNG Galaxy F13 (Nightsky Green, 64 GB)', 'SAMSUNG Galaxy F23 5G (Forest Green, 128 GB)', 'POCO C31 (Shadow Gray, 64 GB)', 'MOTOROLA e40 (Carbon Gray, 64 GB)', 'REDMI 9i Sport (Carbon Black, 64 GB)', 'POCO C31 (Royal Blue, 32 GB)', 'MOTOROLA e40 (Pink Clay, 64 GB)', 'POCO M4 Pro 5G (Cool Blue, 64 GB)', 'REDMI 10 (Caribbean Green, 64 GB)', 'APPLE iPhone 14 (Midnight, 128 GB)', 'APPLE iPhone 11 (White, 64 GB)', 'Cellecor R50', 'APPLE iPhone 14 (Blue, 128 GB)', 'APPLE iPhone 11 (Black, 64 GB)', 'REDMI 10 (Midnight Black, 64 GB)', 'Cellecor C60+', 'REDMI 10 (Pacific Blue, 64 GB)', 'POCO M4 Pro (Cool Blue, 128 GB)', 'POCO C31 (Royal Blue, 64 GB)', 'Cellecor E1', 'POCO M4 Pro (Yellow, 64 GB)', 'POCO M4 Pro (Cool Blue, 64 GB)', 'SAMSUNG Galaxy F13 (Nightsky Green, 64 GB)', 'Cellecor X2', 'SAMSUNG Galaxy F23 5G (Forest Green, 128 GB)', 'POCO C31 (Shadow Gray, 64 GB)', 'REDMI 10 (Caribbean Green, 64 GB)', 'APPLE iPhone 14 (Midnight, 128 GB)', 'APPLE iPhone 11 (White, 64 GB)', 'Cellecor A30i', 'APPLE iPhone 14 (Blue, 128 GB)', 'REDMI 10 (Pacific Blue, 64 GB)', 'APPLE iPhone 11 (Black, 64 GB)', 'Cellecor C60+', 'REDMI 10 (Midnight Black, 64 GB)', 'POCO M4 Pro (Cool Blue, 128 GB)', 'POCO C31 (Royal Blue, 64 GB)', 'Cellecor E1', 'POCO M4 Pro (Yellow, 64 GB)', 'POCO M4 Pro (Cool Blue, 64 GB)', 'SAMSUNG Galaxy F13 (Nightsky Green, 64 GB)', 'Cellecor X2', 'SAMSUNG Galaxy F23 5G (Forest Green, 128 GB)', 'POCO C31 (Shadow Gray, 64 GB)', 'REDMI 10 (Caribbean Green, 64 GB)', 'APPLE iPhone 14 (Midnight, 128 GB)', 'APPLE iPhone 11 (White, 64 GB)', 'Cellecor E7', 'APPLE iPhone 14 (Blue, 128 GB)', 'REDMI 10 (Pacific Blue, 64 GB)', 'APPLE iPhone 11 (Black, 64 GB)', 'Cellecor E1', 'POCO M4 Pro (Cool Blue, 128 GB)', 'POCO C31 (Royal Blue, 64 GB)', 'POCO M4 Pro (Yellow, 64 GB)', 'Cellecor R3+', 'SAMSUNG Galaxy F13 (Nightsky Green, 64 GB)', 'POCO M4 Pro (Cool Blue, 64 GB)', 'SAMSUNG Galaxy F23 5G (Forest Green, 128 GB)', 'Cellecor X2', 'POCO C31 (Shadow Gray, 64 GB)', 'MOTOROLA e40 (Carbon Gray, 64 GB)', 'REDMI 10 (Caribbean Green, 64 GB)', 'APPLE iPhone 14 (Midnight, 128 GB)', 'APPLE iPhone 11 (White, 64 GB)', 'Cellecor R3+', 'APPLE iPhone 14 (Blue, 128 GB)', 'APPLE iPhone 11 (Black, 64 GB)', 'REDMI 10 (Pacific Blue, 64 GB)', 'Cellecor A5', 'POCO M4 Pro (Cool Blue, 128 GB)', 'POCO C31 (Royal Blue, 64 GB)', 'POCO M4 Pro (Yellow, 64 GB)', 'POCO M4 Pro (Cool Blue, 64 GB)', 'SAMSUNG Galaxy F13 (Nightsky Green, 64 GB)', 'SAMSUNG Galaxy F23 5G (Forest Green, 128 GB)', 'POCO C31 (Shadow Gray, 64 GB)', 'MOTOROLA e40 (Carbon Gray, 64 GB)', 'POCO C31 (Royal Blue, 32 GB)', 'MOTOROLA e40 (Pink Clay, 64 GB)', 'REDMI 9i Sport (Carbon Black, 64 GB)', 'MOTOROLA G62 5G (Midnight Gray, 128 GB)', 'SAMSUNG Galaxy F23 5G (Aqua Blue, 128 GB)', 'POCO M4 Pro (Yellow, 128 GB)'] ['4.3', '4.7', '4.6', '3.4', '4.7', '4.3', '4.6', '3.6', '4.3', '4.3', '4.3', '4.1', '4.3', '4.4', '4.3', '4.4', '4.1', '4.3', '4.3', '4.1', '4.3', '4.7', '4.6', '3.6', '4.7', '4.6', '4.3', '3.5', '4.3', '4.3', '4.3', '4.4', '4.3', '4.3', '4.1', '4.3', '4.3', '2.3', '4.3', '4.7', '4.6', '3.4', '4.7', '4.6', '4.3', '3.5', '4.3', '4.3', '4.3', '3.6', '4.3', '4.3', '4.4', '3.6', '4.3', '4.1', '4.3', '4.3', '4.7', '4.6', '3.4', '4.7', '4.6', '4.3', '3.6', '4.3', '4.3', '4.3', '4.4', '4.3', '4.4', '4.3', '4.1', '4.3', '4.3', '4.1', '4.3', '4.3', '4.3', '4.7', '4.6', '3.4', '4.7', '4.6', '4.3', '3.5', '4.3', '4.3', '4.3', '3.6', '4.3', '4.3', '4.4', '3.6', '4.3', '4.1', '4.3', '4.3', '4.7', '4.6', '3.4', '4.7', '4.6', '4.3', '3.6', '4.3', '4.3', '4.3', '3.6', '4.3', '4.3', '4.4', '4.3', '4.3', '4.1', '4.3', '4.6', '4.7', '3.4', '4.7', '4.6', '4.3', '3.6', '4.3', '4.3', '4.3', '4.1', '4.3', '4.4', '4.3', '4.4', '4.1', '4.3', '4.3', '4.3', '4.3', '4.7', '4.6', '3.5', '4.7', '4.6', '4.3', '4.1', '4.3', '4.3', '4.3', '4.4', '4.3', '4.4', '4.3', '4.1', '4.3', '4.3', '4.1', '4.3', '4.3', '4.3', '4.7', '4.6', '3.6', '4.7', '4.6', '4.3', '3.5', '4.3', '4.3', '4.3', '4.3', '4.4', '4.3', '4.3', '4.1', '4.3', '2.3', '4.3', '4.7', '4.6', '3.2', '4.7', '4.6', '4.3', '3.6', '4.3', '4.3', '4.3', '3.5', '4.4', '4.3', '4.3', '4.3', '4.1', '4.3', '4.3', '4.7', '4.6', '3.2', '4.7', '4.6', '4.3', '2.3', '4.3', '4.3', '4.3', '3.6', '4.3', '4.4', '4.3', '3.5', '4.3', '4.1', '4.3', '4.7', '4.6', '3.4', '4.3', '4.7', '4.3', '3.5', '4.6', '4.3', '4.3', '3.6', '4.3', '4.4', '4.3', '3.6', '4.3', '4.1', '4.3', '4.3', '4.7', '4.6', '3.4', '4.7', '4.6', '4.3', '3.5', '4.3', '4.3', '4.3', '3.6', '4.3', '4.3', '4.4', '3.6', '4.3', '4.1', '4.3', '4.3', '4.7', '4.6', '4.1', '4.7', '4.3', '4.6', '3.6', '4.3', '4.3', '4.3', '3.6', '4.3', '4.3', '4.4', '4.3', '4.1', '4.3', '4.3', '4.7', '4.6', '3.5', '4.7', '4.6', '4.3', '4.4', '4.3', '4.3', '4.3', '4.3', '4.4', '4.3', '4.3', '4.1', '4.3', '4.3', '4.1', '4.3', '4.2', '4.3', '4.3', '4.7', '4.6', '3.4', '4.7', '4.3', '4.6', '3.5', '4.3', '4.3', '4.3', '3.6', '4.3', '4.3', '4.4', '3.6', '4.3', '4.1', '4.3', '4.3', '4.7', '4.6', '3.6', '4.7', '4.6', '4.3', '3.6', '4.3', '4.3', '4.3', '3.5', '4.3', '4.4', '4.3', '4.1', '4.3', '4.3', '4.3', '4.7', '4.6', '2.3', '4.3', '4.7', '4.6', '3.5', '4.3', '4.3', '4.3', '3.6', '4.3', '4.3', '4.4', '3.6', '4.3', '4.3', '4.1', '4.3', '4.7', '4.6', '3.4', '4.7', '4.3', '4.3', '3.6', '4.6', '4.3', '4.3', '3.5', '4.3', '4.3', '4.4', '3.6', '4.3', '4.1', '4.3', '4.3', '4.7', '4.6', '4.1', '4.7', '4.3', '4.3', '3.6', '4.6', '4.3', '4.3', '3.6', '4.3', '4.3', '4.4', '4.3', '4.1', '4.3', '4.3', '4.7', '4.6', '2.3', '4.7', '4.6', '4.3', '3.6', '4.3', '4.3', '4.3', '3.5', '4.4', '4.3', '4.3', '4.3', '4.1', '4.3', '4.3', '4.7', '4.6', '3.4', '4.7', '4.3', '4.6', '3.5', '4.3', '4.3', '4.3', '3.6', '4.3', '4.3', '4.4', '3.6', '4.3', '4.1', '4.3', '4.3', '4.7', '4.6', '4.1', '4.7', '4.6', '4.3', '3.6', '4.3', '4.3', '4.3', '3.6', '4.3', '4.3', '4.4', '4.3', '4.1', '4.3', '4.3', '4.6', '4.7', '2.3', '4.3', '4.7', '4.3', '3.6', '4.6', '4.3', '4.3', '3.6', '4.3', '4.4', '4.3', '4.3', '4.3', '4.1', '4.3', '4.7', '4.6', '3.4', '4.7', '4.6', '4.3', '3.6', '4.3', '4.3', '4.3', '3.5', '4.3', '4.4', '4.3', '4.1', '4.3', '4.3', '4.3', '4.7', '4.6', '3.4', '4.7', '4.6', '4.3', '3.5', '4.3', '4.3', '4.3', '3.6', '4.3', '4.3', '4.4', '3.6', '4.3', '4.1', '4.3', '4.3', '4.7', '4.6', '3.5', '4.7', '4.3', '4.6', '3.6', '4.3', '4.3', '4.3', '4.3', '4.3', '4.4', '4.3', '4.3', '4.1', '2.3', '4.3', '4.3', '4.6', '4.7', '3.4', '4.7', '4.3', '4.6', '3.6', '4.3', '4.3', '4.3', '4.4', '4.3', '4.4', '4.3', '4.3', '4.1', '4.1', '4.3', '4.3', '4.3', '4.3', '4.7', '4.6', '3.5', '4.7', '4.3', '4.6', '3.6', '4.3', '4.3', '4.3', '4.3', '4.3', '4.1', '4.3', '4.3', '4.2', '2.3', '4.3', '4.3', '4.7', '4.6', '3.4', '4.7', '4.6', '4.3', '3.6', '4.3', '4.3', '4.3', '4.4', '4.3', '4.4', '4.3', '4.1', '4.3', '4.3', '4.3', '4.1', '4.2', '4.3', '4.7', '4.6', '3.5', '4.7', '4.6', '4.3', '4.1', '4.3', '4.3', '4.3', '4.4', '4.4', '4.3', '4.3', '4.3', '4.1', '4.3', '4.1', '4.3', '4.3', '4.3', '4.7', '4.6', '3.5', '4.7', '4.3', '4.6', '3.6', '4.3', '4.3', '4.3', '4.3', '4.3', '4.4', '4.3', '4.1', '4.3', '2.3', '4.3', '4.3', '4.7', '4.6', '3.4', '4.7', '4.6', '4.3', '3.5', '4.3', '4.3', '4.3', '4.1', '4.3', '4.4', '4.3', '4.4', '4.3', '4.1', '4.3', '4.3', '4.3', '4.7', '4.6', '3.4', '4.7', '4.3', '4.6', '3.6', '4.3', '4.3', '4.3', '4.4', '4.3', '4.4', '4.3', '4.1', '4.3', '4.1', '4.3', '4.3', '4.3', '4.3', '4.7', '4.6', '3.5', '4.7', '4.6', '4.3', '4.1', '4.3', '4.3', '4.3', '4.4', '4.3', '4.4', '4.3', '4.3', '4.1', '4.3', '4.3', '4.1', '4.3', '4.3', '4.7', '4.6', '4.1', '4.7', '4.6', '4.3', '3.6', '4.3', '4.3', '4.3', '3.6', '4.3', '4.3', '4.4', '4.3', '4.3', '4.1', '4.3', '4.7', '4.6', '3.4', '4.7', '4.3', '4.6', '3.6', '4.3', '4.3', '4.3', '3.6', '4.3', '4.3', '4.4', '4.3', '4.3', '4.1', '4.3', '4.7', '4.6', '2.3', '4.7', '4.3', '4.6', '3.6', '4.3', '4.3', '4.3', '3.5', '4.4', '4.3', '4.3', '4.3', '4.1', '4.3', '4.3', '4.7', '4.6', '3.5', '4.7', '4.6', '4.3', '4.4', '4.3', '4.3', '4.3', '4.3', '4.4', '4.3', '4.3', '4.1', '4.3', '4.1', '4.3', '4.2', '4.3', '4.3'] ['1,70,664 Ratings\\xa0&\\xa010,998 Reviews', '4,247 Ratings\\xa0&\\xa0163 Reviews', '1,78,400 Ratings\\xa0&\\xa010,573 Reviews', '19 Ratings\\xa0&\\xa02 Reviews', '4,247 Ratings\\xa0&\\xa0163 Reviews', '1,70,664 Ratings\\xa0&\\xa010,998 Reviews', '1,78,400 Ratings\\xa0&\\xa010,573 Reviews', '96 Ratings\\xa0&\\xa06 Reviews', '1,34,634 Ratings\\xa0&\\xa012,280 Reviews', '1,34,634 Ratings\\xa0&\\xa012,280 Reviews', '1,34,634 Ratings\\xa0&\\xa012,280 Reviews', '52 Ratings\\xa0&\\xa07 Reviews', '1,87,995 Ratings\\xa0&\\xa011,329 Reviews', '1,11,744 Ratings\\xa0&\\xa06,424 Reviews', '1,40,978 Ratings\\xa0&\\xa011,531 Reviews', '41 Ratings\\xa0&\\xa03 Reviews', '59,846 Ratings\\xa0&\\xa05,853 Reviews', '1,87,995 Ratings\\xa0&\\xa011,329 Reviews', '1,25,511 Ratings\\xa0&\\xa07,439 Reviews', '59,846 Ratings\\xa0&\\xa05,853 Reviews', '1,70,664 Ratings\\xa0&\\xa010,998 Reviews', '4,247 Ratings\\xa0&\\xa0163 Reviews', '1,78,400 Ratings\\xa0&\\xa010,573 Reviews', '96 Ratings\\xa0&\\xa06 Reviews', '4,247 Ratings\\xa0&\\xa0163 Reviews', '1,78,400 Ratings\\xa0&\\xa010,573 Reviews', '1,70,664 Ratings\\xa0&\\xa010,998 Reviews', '13 Ratings\\xa0&\\xa02 Reviews', '1,34,634 Ratings\\xa0&\\xa012,280 Reviews', '1,34,634 Ratings\\xa0&\\xa012,280 Reviews', '1,87,995 Ratings\\xa0&\\xa011,329 Reviews', '1,11,744 Ratings\\xa0&\\xa06,424 Reviews', '1,34,634 Ratings\\xa0&\\xa012,280 Reviews', '1,40,978 Ratings\\xa0&\\xa011,531 Reviews', '59,846 Ratings\\xa0&\\xa05,853 Reviews', '1,87,995 Ratings\\xa0&\\xa011,329 Reviews', '1,25,511 Ratings\\xa0&\\xa07,439 Reviews', '6 Ratings\\xa0&\\xa00 Reviews', '1,70,664 Ratings\\xa0&\\xa010,998 Reviews', '4,247 Ratings\\xa0&\\xa0163 Reviews', '1,78,400 Ratings\\xa0&\\xa010,573 Reviews', '19 Ratings\\xa0&\\xa02 Reviews', '4,247 Ratings\\xa0&\\xa0163 Reviews', '1,78,400 Ratings\\xa0&\\xa010,573 Reviews', '1,70,664 Ratings\\xa0&\\xa010,998 Reviews', '13 Ratings\\xa0&\\xa02 Reviews', '1,70,664 Ratings\\xa0&\\xa010,998 Reviews', '1,34,634 Ratings\\xa0&\\xa012,280 Reviews', '1,87,995 Ratings\\xa0&\\xa011,329 Reviews', '96 Ratings\\xa0&\\xa06 Reviews', '1,34,634 Ratings\\xa0&\\xa012,280 Reviews', '1,34,634 Ratings\\xa0&\\xa012,280 Reviews', '1,11,744 Ratings\\xa0&\\xa06,424 Reviews', '38 Ratings\\xa0&\\xa02 Reviews', '1,40,978 Ratings\\xa0&\\xa011,531 Reviews', '59,846 Ratings\\xa0&\\xa05,853 Reviews', '1,87,995 Ratings\\xa0&\\xa011,329 Reviews', '1,70,664 Ratings\\xa0&\\xa010,998 Reviews', '4,247 Ratings\\xa0&\\xa0163 Reviews', '1,78,400 Ratings\\xa0&\\xa010,573 Reviews', '19 Ratings\\xa0&\\xa02 Reviews', '4,247 Ratings\\xa0&\\xa0163 Reviews', '1,78,400 Ratings\\xa0&\\xa010,573 Reviews', '1,70,664 Ratings\\xa0&\\xa010,998 Reviews', '96 Ratings\\xa0&\\xa06 Reviews', '1,34,634 Ratings\\xa0&\\xa012,280 Reviews', '1,87,995 Ratings\\xa0&\\xa011,329 Reviews', '1,34,634 Ratings\\xa0&\\xa012,280 Reviews', '41 Ratings\\xa0&\\xa03 Reviews', '1,34,634 Ratings\\xa0&\\xa012,280 Reviews', '1,11,744 Ratings\\xa0&\\xa06,424 Reviews', '1,40,978 Ratings\\xa0&\\xa011,531 Reviews', '59,846 Ratings\\xa0&\\xa05,853 Reviews', '1,87,995 Ratings\\xa0&\\xa011,329 Reviews', '1,25,511 Ratings\\xa0&\\xa07,439 Reviews', '59,846 Ratings\\xa0&\\xa05,853 Reviews', '2,17,141 Ratings\\xa0&\\xa012,271 Reviews', '1,40,978 Ratings\\xa0&\\xa011,531 Reviews', '1,70,664 Ratings\\xa0&\\xa010,998 Reviews', '4,247 Ratings\\xa0&\\xa0163 Reviews', '1,78,400 Ratings\\xa0&\\xa010,573 Reviews', '19 Ratings\\xa0&\\xa02 Reviews', '4,247 Ratings\\xa0&\\xa0163 Reviews', '1,78,400 Ratings\\xa0&\\xa010,573 Reviews', '1,70,664 Ratings\\xa0&\\xa010,998 Reviews', '13 Ratings\\xa0&\\xa02 Reviews', '1,70,664 Ratings\\xa0&\\xa010,998 Reviews', '1,34,634 Ratings\\xa0&\\xa012,280 Reviews', '1,34,634 Ratings\\xa0&\\xa012,280 Reviews', '96 Ratings\\xa0&\\xa06 Reviews', '1,87,995 Ratings\\xa0&\\xa011,329 Reviews', '1,34,634 Ratings\\xa0&\\xa012,280 Reviews', '1,11,744 Ratings\\xa0&\\xa06,424 Reviews', '38 Ratings\\xa0&\\xa02 Reviews', '1,40,978 Ratings\\xa0&\\xa011,531 Reviews', '59,846 Ratings\\xa0&\\xa05,853 Reviews', '1,87,995 Ratings\\xa0&\\xa011,329 Reviews', '1,70,664 Ratings\\xa0&\\xa010,998 Reviews', '4,247 Ratings\\xa0&\\xa0163 Reviews', '1,78,400 Ratings\\xa0&\\xa010,573 Reviews', '19 Ratings\\xa0&\\xa02 Reviews', '4,247 Ratings\\xa0&\\xa0163 Reviews', '1,78,400 Ratings\\xa0&\\xa010,573 Reviews', '1,70,664 Ratings\\xa0&\\xa010,998 Reviews', '96 Ratings\\xa0&\\xa06 Reviews', '1,70,664 Ratings\\xa0&\\xa010,998 Reviews', '1,34,634 Ratings\\xa0&\\xa012,280 Reviews', '1,87,995 Ratings\\xa0&\\xa011,329 Reviews', '38 Ratings\\xa0&\\xa02 Reviews', '1,34,634 Ratings\\xa0&\\xa012,280 Reviews', '1,34,634 Ratings\\xa0&\\xa012,280 Reviews', '1,11,744 Ratings\\xa0&\\xa06,424 Reviews', '1,40,978 Ratings\\xa0&\\xa011,531 Reviews', '1,87,995 Ratings\\xa0&\\xa011,329 Reviews', '59,846 Ratings\\xa0&\\xa05,853 Reviews', '1,70,664 Ratings\\xa0&\\xa010,998 Reviews', '1,78,400 Ratings\\xa0&\\xa010,573 Reviews', '4,247 Ratings\\xa0&\\xa0163 Reviews', '19 Ratings\\xa0&\\xa02 Reviews', '4,247 Ratings\\xa0&\\xa0163 Reviews', '1,78,400 Ratings\\xa0&\\xa010,573 Reviews', '1,70,664 Ratings\\xa0&\\xa010,998 Reviews', '96 Ratings\\xa0&\\xa06 Reviews', '1,34,634 Ratings\\xa0&\\xa012,280 Reviews', '1,87,995 Ratings\\xa0&\\xa011,329 Reviews', '1,34,634 Ratings\\xa0&\\xa012,280 Reviews', '52 Ratings\\xa0&\\xa07 Reviews', '1,34,634 Ratings\\xa0&\\xa012,280 Reviews', '1,11,744 Ratings\\xa0&\\xa06,424 Reviews', '1,40,978 Ratings\\xa0&\\xa011,531 Reviews', '41 Ratings\\xa0&\\xa03 Reviews', '59,846 Ratings\\xa0&\\xa05,853 Reviews', '1,87,995 Ratings\\xa0&\\xa011,329 Reviews', '2,17,141 Ratings\\xa0&\\xa012,271 Reviews', '1,25,511 Ratings\\xa0&\\xa07,439 Reviews', '1,70,664 Ratings\\xa0&\\xa010,998 Reviews', '4,247 Ratings\\xa0&\\xa0163 Reviews', '1,78,400 Ratings\\xa0&\\xa010,573 Reviews', '13 Ratings\\xa0&\\xa02 Reviews', '4,247 Ratings\\xa0&\\xa0163 Reviews', '1,78,400 Ratings\\xa0&\\xa010,573 Reviews', '1,70,664 Ratings\\xa0&\\xa010,998 Reviews', '52 Ratings\\xa0&\\xa07 Reviews', '1,34,634 Ratings\\xa0&\\xa012,280 Reviews', '1,34,634 Ratings\\xa0&\\xa012,280 Reviews', '1,87,995 Ratings\\xa0&\\xa011,329 Reviews', '41 Ratings\\xa0&\\xa03 Reviews', '1,34,634 Ratings\\xa0&\\xa012,280 Reviews', '1,11,744 Ratings\\xa0&\\xa06,424 Reviews', '1,40,978 Ratings\\xa0&\\xa011,531 Reviews', '59,846 Ratings\\xa0&\\xa05,853 Reviews', '1,87,995 Ratings\\xa0&\\xa011,329 Reviews', '1,25,511 Ratings\\xa0&\\xa07,439 Reviews', '59,846 Ratings\\xa0&\\xa05,853 Reviews', '2,17,141 Ratings\\xa0&\\xa012,271 Reviews', '1,70,664 Ratings\\xa0&\\xa010,998 Reviews', '1,70,664 Ratings\\xa0&\\xa010,998 Reviews', '4,247 Ratings\\xa0&\\xa0163 Reviews', '1,78,400 Ratings\\xa0&\\xa010,573 Reviews', '96 Ratings\\xa0&\\xa06 Reviews', '4,247 Ratings\\xa0&\\xa0163 Reviews', '1,78,400 Ratings\\xa0&\\xa010,573 Reviews', '1,70,664 Ratings\\xa0&\\xa010,998 Reviews', '13 Ratings\\xa0&\\xa02 Reviews', '1,34,634 Ratings\\xa0&\\xa012,280 Reviews', '1,87,995 Ratings\\xa0&\\xa011,329 Reviews', '1,34,634 Ratings\\xa0&\\xa012,280 Reviews', '1,34,634 Ratings\\xa0&\\xa012,280 Reviews', '1,11,744 Ratings\\xa0&\\xa06,424 Reviews', '1,40,978 Ratings\\xa0&\\xa011,531 Reviews', '1,87,995 Ratings\\xa0&\\xa011,329 Reviews', '59,846 Ratings\\xa0&\\xa05,853 Reviews', '1,25,511 Ratings\\xa0&\\xa07,439 Reviews', '6 Ratings\\xa0&\\xa00 Reviews', '1,70,664 Ratings\\xa0&\\xa010,998 Reviews', '4,247 Ratings\\xa0&\\xa0163 Reviews', '1,78,400 Ratings\\xa0&\\xa010,573 Reviews', '15 Ratings\\xa0&\\xa02 Reviews', '4,247 Ratings\\xa0&\\xa0163 Reviews', '1,78,400 Ratings\\xa0&\\xa010,573 Reviews', '1,70,664 Ratings\\xa0&\\xa010,998 Reviews', '38 Ratings\\xa0&\\xa02 Reviews', '1,34,634 Ratings\\xa0&\\xa012,280 Reviews', '1,87,995 Ratings\\xa0&\\xa011,329 Reviews', '1,34,634 Ratings\\xa0&\\xa012,280 Reviews', '13 Ratings\\xa0&\\xa02 Reviews', '1,11,744 Ratings\\xa0&\\xa06,424 Reviews', '1,34,634 Ratings\\xa0&\\xa012,280 Reviews', '1,40,978 Ratings\\xa0&\\xa011,531 Reviews', '1,87,995 Ratings\\xa0&\\xa011,329 Reviews', '59,846 Ratings\\xa0&\\xa05,853 Reviews', '1,25,511 Ratings\\xa0&\\xa07,439 Reviews', '1,70,664 Ratings\\xa0&\\xa010,998 Reviews', '4,247 Ratings\\xa0&\\xa0163 Reviews', '1,78,400 Ratings\\xa0&\\xa010,573 Reviews', '15 Ratings\\xa0&\\xa02 Reviews', '4,247 Ratings\\xa0&\\xa0163 Reviews', '1,78,400 Ratings\\xa0&\\xa010,573 Reviews', '1,70,664 Ratings\\xa0&\\xa010,998 Reviews', '6 Ratings\\xa0&\\xa00 Reviews', '1,34,634 Ratings\\xa0&\\xa012,280 Reviews', '1,87,995 Ratings\\xa0&\\xa011,329 Reviews', '1,34,634 Ratings\\xa0&\\xa012,280 Reviews', '96 Ratings\\xa0&\\xa06 Reviews', '1,34,634 Ratings\\xa0&\\xa012,280 Reviews', '1,11,744 Ratings\\xa0&\\xa06,424 Reviews', '1,40,978 Ratings\\xa0&\\xa011,531 Reviews', '13 Ratings\\xa0&\\xa02 Reviews', '1,87,995 Ratings\\xa0&\\xa011,329 Reviews', '59,846 Ratings\\xa0&\\xa05,853 Reviews', '1,70,664 Ratings\\xa0&\\xa010,998 Reviews', '4,247 Ratings\\xa0&\\xa0163 Reviews', '1,78,400 Ratings\\xa0&\\xa010,573 Reviews', '19 Ratings\\xa0&\\xa02 Reviews', '1,70,664 Ratings\\xa0&\\xa010,998 Reviews', '4,247 Ratings\\xa0&\\xa0163 Reviews', '1,70,664 Ratings\\xa0&\\xa010,998 Reviews', '13 Ratings\\xa0&\\xa02 Reviews', '1,78,400 Ratings\\xa0&\\xa010,573 Reviews', '1,34,634 Ratings\\xa0&\\xa012,280 Reviews', '1,87,995 Ratings\\xa0&\\xa011,329 Reviews', '96 Ratings\\xa0&\\xa06 Reviews', '1,34,634 Ratings\\xa0&\\xa012,280 Reviews', '1,11,744 Ratings\\xa0&\\xa06,424 Reviews', '1,34,634 Ratings\\xa0&\\xa012,280 Reviews', '38 Ratings\\xa0&\\xa02 Reviews', '1,40,978 Ratings\\xa0&\\xa011,531 Reviews', '59,846 Ratings\\xa0&\\xa05,853 Reviews', '1,87,995 Ratings\\xa0&\\xa011,329 Reviews', '1,70,664 Ratings\\xa0&\\xa010,998 Reviews', '4,247 Ratings\\xa0&\\xa0163 Reviews', '1,78,400 Ratings\\xa0&\\xa010,573 Reviews', '19 Ratings\\xa0&\\xa02 Reviews', '4,247 Ratings\\xa0&\\xa0163 Reviews', '1,78,400 Ratings\\xa0&\\xa010,573 Reviews', '1,70,664 Ratings\\xa0&\\xa010,998 Reviews', '13 Ratings\\xa0&\\xa02 Reviews', '1,70,664 Ratings\\xa0&\\xa010,998 Reviews', '1,34,634 Ratings\\xa0&\\xa012,280 Reviews', '1,34,634 Ratings\\xa0&\\xa012,280 Reviews', '96 Ratings\\xa0&\\xa06 Reviews', '1,87,995 Ratings\\xa0&\\xa011,329 Reviews', '1,34,634 Ratings\\xa0&\\xa012,280 Reviews', '1,11,744 Ratings\\xa0&\\xa06,424 Reviews', '38 Ratings\\xa0&\\xa02 Reviews', '1,40,978 Ratings\\xa0&\\xa011,531 Reviews', '59,846 Ratings\\xa0&\\xa05,853 Reviews', '1,87,995 Ratings\\xa0&\\xa011,329 Reviews', '1,70,664 Ratings\\xa0&\\xa010,998 Reviews', '4,247 Ratings\\xa0&\\xa0163 Reviews', '1,78,400 Ratings\\xa0&\\xa010,573 Reviews', '52 Ratings\\xa0&\\xa07 Reviews', '4,247 Ratings\\xa0&\\xa0163 Reviews', '1,70,664 Ratings\\xa0&\\xa010,998 Reviews', '1,78,400 Ratings\\xa0&\\xa010,573 Reviews', '96 Ratings\\xa0&\\xa06 Reviews', '1,70,664 Ratings\\xa0&\\xa010,998 Reviews', '1,34,634 Ratings\\xa0&\\xa012,280 Reviews', '1,34,634 Ratings\\xa0&\\xa012,280 Reviews', '38 Ratings\\xa0&\\xa02 Reviews', '1,87,995 Ratings\\xa0&\\xa011,329 Reviews', '1,34,634 Ratings\\xa0&\\xa012,280 Reviews', '1,11,744 Ratings\\xa0&\\xa06,424 Reviews', '1,40,978 Ratings\\xa0&\\xa011,531 Reviews', '59,846 Ratings\\xa0&\\xa05,853 Reviews', '1,87,995 Ratings\\xa0&\\xa011,329 Reviews', '1,70,664 Ratings\\xa0&\\xa010,998 Reviews', '4,247 Ratings\\xa0&\\xa0163 Reviews', '1,78,400 Ratings\\xa0&\\xa010,573 Reviews', '13 Ratings\\xa0&\\xa02 Reviews', '4,247 Ratings\\xa0&\\xa0163 Reviews', '1,78,400 Ratings\\xa0&\\xa010,573 Reviews', '1,70,664 Ratings\\xa0&\\xa010,998 Reviews', '41 Ratings\\xa0&\\xa03 Reviews', '1,34,634 Ratings\\xa0&\\xa012,280 Reviews', '1,87,995 Ratings\\xa0&\\xa011,329 Reviews', '1,34,634 Ratings\\xa0&\\xa012,280 Reviews', '1,34,634 Ratings\\xa0&\\xa012,280 Reviews', '1,11,744 Ratings\\xa0&\\xa06,424 Reviews', '1,40,978 Ratings\\xa0&\\xa011,531 Reviews', '1,87,995 Ratings\\xa0&\\xa011,329 Reviews', '59,846 Ratings\\xa0&\\xa05,853 Reviews', '1,25,511 Ratings\\xa0&\\xa07,439 Reviews', '2,17,141 Ratings\\xa0&\\xa012,271 Reviews', '59,846 Ratings\\xa0&\\xa05,853 Reviews', '1,40,978 Ratings\\xa0&\\xa011,531 Reviews', '10,284 Ratings\\xa0&\\xa01,098 Reviews', '35,159 Ratings\\xa0&\\xa03,125 Reviews', '1,70,664 Ratings\\xa0&\\xa010,998 Reviews', '4,247 Ratings\\xa0&\\xa0163 Reviews', '1,78,400 Ratings\\xa0&\\xa010,573 Reviews', '19 Ratings\\xa0&\\xa02 Reviews', '4,247 Ratings\\xa0&\\xa0163 Reviews', '1,70,664 Ratings\\xa0&\\xa010,998 Reviews', '1,78,400 Ratings\\xa0&\\xa010,573 Reviews', '13 Ratings\\xa0&\\xa02 Reviews', '1,70,664 Ratings\\xa0&\\xa010,998 Reviews', '1,34,634 Ratings\\xa0&\\xa012,280 Reviews', '1,87,995 Ratings\\xa0&\\xa011,329 Reviews', '96 Ratings\\xa0&\\xa06 Reviews', '1,34,634 Ratings\\xa0&\\xa012,280 Reviews', '1,34,634 Ratings\\xa0&\\xa012,280 Reviews', '1,11,744 Ratings\\xa0&\\xa06,424 Reviews', '38 Ratings\\xa0&\\xa02 Reviews', '1,40,978 Ratings\\xa0&\\xa011,531 Reviews', '59,846 Ratings\\xa0&\\xa05,853 Reviews', '1,87,995 Ratings\\xa0&\\xa011,329 Reviews', '1,70,664 Ratings\\xa0&\\xa010,998 Reviews', '4,247 Ratings\\xa0&\\xa0163 Reviews', '1,78,400 Ratings\\xa0&\\xa010,573 Reviews', '96 Ratings\\xa0&\\xa06 Reviews', '4,247 Ratings\\xa0&\\xa0163 Reviews', '1,78,400 Ratings\\xa0&\\xa010,573 Reviews', '1,70,664 Ratings\\xa0&\\xa010,998 Reviews', '38 Ratings\\xa0&\\xa02 Reviews', '1,34,634 Ratings\\xa0&\\xa012,280 Reviews', '1,87,995 Ratings\\xa0&\\xa011,329 Reviews', '1,34,634 Ratings\\xa0&\\xa012,280 Reviews', '13 Ratings\\xa0&\\xa02 Reviews', '1,34,634 Ratings\\xa0&\\xa012,280 Reviews', '1,11,744 Ratings\\xa0&\\xa06,424 Reviews', '1,40,978 Ratings\\xa0&\\xa011,531 Reviews', '59,846 Ratings\\xa0&\\xa05,853 Reviews', '1,87,995 Ratings\\xa0&\\xa011,329 Reviews', '1,25,511 Ratings\\xa0&\\xa07,439 Reviews', '1,70,664 Ratings\\xa0&\\xa010,998 Reviews', '4,247 Ratings\\xa0&\\xa0163 Reviews', '1,78,400 Ratings\\xa0&\\xa010,573 Reviews', '6 Ratings\\xa0&\\xa00 Reviews', '1,70,664 Ratings\\xa0&\\xa010,998 Reviews', '4,247 Ratings\\xa0&\\xa0163 Reviews', '1,78,400 Ratings\\xa0&\\xa010,573 Reviews', '13 Ratings\\xa0&\\xa02 Reviews', '1,70,664 Ratings\\xa0&\\xa010,998 Reviews', '1,34,634 Ratings\\xa0&\\xa012,280 Reviews', '1,87,995 Ratings\\xa0&\\xa011,329 Reviews', '96 Ratings\\xa0&\\xa06 Reviews', '1,34,634 Ratings\\xa0&\\xa012,280 Reviews', '1,34,634 Ratings\\xa0&\\xa012,280 Reviews', '1,11,744 Ratings\\xa0&\\xa06,424 Reviews', '38 Ratings\\xa0&\\xa02 Reviews', '1,40,978 Ratings\\xa0&\\xa011,531 Reviews', '1,87,995 Ratings\\xa0&\\xa011,329 Reviews', '59,846 Ratings\\xa0&\\xa05,853 Reviews', '1,70,664 Ratings\\xa0&\\xa010,998 Reviews', '4,247 Ratings\\xa0&\\xa0163 Reviews', '1,78,400 Ratings\\xa0&\\xa010,573 Reviews', '19 Ratings\\xa0&\\xa02 Reviews', '4,247 Ratings\\xa0&\\xa0163 Reviews', '1,70,664 Ratings\\xa0&\\xa010,998 Reviews', '1,70,664 Ratings\\xa0&\\xa010,998 Reviews', '96 Ratings\\xa0&\\xa06 Reviews', '1,78,400 Ratings\\xa0&\\xa010,573 Reviews', '1,34,634 Ratings\\xa0&\\xa012,280 Reviews', '1,87,995 Ratings\\xa0&\\xa011,329 Reviews', '13 Ratings\\xa0&\\xa02 Reviews', '1,34,634 Ratings\\xa0&\\xa012,280 Reviews', '1,34,634 Ratings\\xa0&\\xa012,280 Reviews', '1,11,744 Ratings\\xa0&\\xa06,424 Reviews', '38 Ratings\\xa0&\\xa02 Reviews', '1,40,978 Ratings\\xa0&\\xa011,531 Reviews', '59,846 Ratings\\xa0&\\xa05,853 Reviews', '1,87,995 Ratings\\xa0&\\xa011,329 Reviews', '1,70,664 Ratings\\xa0&\\xa010,998 Reviews', '4,247 Ratings\\xa0&\\xa0163 Reviews', '1,78,400 Ratings\\xa0&\\xa010,573 Reviews', '52 Ratings\\xa0&\\xa07 Reviews', '4,247 Ratings\\xa0&\\xa0163 Reviews', '1,70,664 Ratings\\xa0&\\xa010,998 Reviews', '1,70,664 Ratings\\xa0&\\xa010,998 Reviews', '96 Ratings\\xa0&\\xa06 Reviews', '1,78,400 Ratings\\xa0&\\xa010,573 Reviews', '1,34,634 Ratings\\xa0&\\xa012,280 Reviews', '1,34,634 Ratings\\xa0&\\xa012,280 Reviews', '38 Ratings\\xa0&\\xa02 Reviews', '1,34,634 Ratings\\xa0&\\xa012,280 Reviews', '1,87,995 Ratings\\xa0&\\xa011,329 Reviews', '1,11,744 Ratings\\xa0&\\xa06,424 Reviews', '1,40,978 Ratings\\xa0&\\xa011,531 Reviews', '59,846 Ratings\\xa0&\\xa05,853 Reviews', '1,87,995 Ratings\\xa0&\\xa011,329 Reviews', '1,70,664 Ratings\\xa0&\\xa010,998 Reviews', '4,247 Ratings\\xa0&\\xa0163 Reviews', '1,78,400 Ratings\\xa0&\\xa010,573 Reviews', '6 Ratings\\xa0&\\xa00 Reviews', '4,247 Ratings\\xa0&\\xa0163 Reviews', '1,78,400 Ratings\\xa0&\\xa010,573 Reviews', '1,70,664 Ratings\\xa0&\\xa010,998 Reviews', '38 Ratings\\xa0&\\xa02 Reviews', '1,34,634 Ratings\\xa0&\\xa012,280 Reviews', '1,34,634 Ratings\\xa0&\\xa012,280 Reviews', '1,87,995 Ratings\\xa0&\\xa011,329 Reviews', '13 Ratings\\xa0&\\xa02 Reviews', '1,11,744 Ratings\\xa0&\\xa06,424 Reviews', '1,34,634 Ratings\\xa0&\\xa012,280 Reviews', '1,40,978 Ratings\\xa0&\\xa011,531 Reviews', '1,87,995 Ratings\\xa0&\\xa011,329 Reviews', '59,846 Ratings\\xa0&\\xa05,853 Reviews', '1,25,511 Ratings\\xa0&\\xa07,439 Reviews', '1,70,664 Ratings\\xa0&\\xa010,998 Reviews', '4,247 Ratings\\xa0&\\xa0163 Reviews', '1,78,400 Ratings\\xa0&\\xa010,573 Reviews', '19 Ratings\\xa0&\\xa02 Reviews', '4,247 Ratings\\xa0&\\xa0163 Reviews', '1,70,664 Ratings\\xa0&\\xa010,998 Reviews', '1,78,400 Ratings\\xa0&\\xa010,573 Reviews', '13 Ratings\\xa0&\\xa02 Reviews', '1,70,664 Ratings\\xa0&\\xa010,998 Reviews', '1,34,634 Ratings\\xa0&\\xa012,280 Reviews', '1,87,995 Ratings\\xa0&\\xa011,329 Reviews', '96 Ratings\\xa0&\\xa06 Reviews', '1,34,634 Ratings\\xa0&\\xa012,280 Reviews', '1,34,634 Ratings\\xa0&\\xa012,280 Reviews', '1,11,744 Ratings\\xa0&\\xa06,424 Reviews', '38 Ratings\\xa0&\\xa02 Reviews', '1,40,978 Ratings\\xa0&\\xa011,531 Reviews', '59,846 Ratings\\xa0&\\xa05,853 Reviews', '1,87,995 Ratings\\xa0&\\xa011,329 Reviews', '1,70,664 Ratings\\xa0&\\xa010,998 Reviews', '4,247 Ratings\\xa0&\\xa0163 Reviews', '1,78,400 Ratings\\xa0&\\xa010,573 Reviews', '52 Ratings\\xa0&\\xa07 Reviews', '4,247 Ratings\\xa0&\\xa0163 Reviews', '1,78,400 Ratings\\xa0&\\xa010,573 Reviews', '1,70,664 Ratings\\xa0&\\xa010,998 Reviews', '96 Ratings\\xa0&\\xa06 Reviews', '1,70,664 Ratings\\xa0&\\xa010,998 Reviews', '1,34,634 Ratings\\xa0&\\xa012,280 Reviews', '1,87,995 Ratings\\xa0&\\xa011,329 Reviews', '38 Ratings\\xa0&\\xa02 Reviews', '1,34,634 Ratings\\xa0&\\xa012,280 Reviews', '1,34,634 Ratings\\xa0&\\xa012,280 Reviews', '1,11,744 Ratings\\xa0&\\xa06,424 Reviews', '1,40,978 Ratings\\xa0&\\xa011,531 Reviews', '59,846 Ratings\\xa0&\\xa05,853 Reviews', '1,87,995 Ratings\\xa0&\\xa011,329 Reviews', '1,70,664 Ratings\\xa0&\\xa010,998 Reviews', '1,78,400 Ratings\\xa0&\\xa010,573 Reviews', '4,247 Ratings\\xa0&\\xa0163 Reviews', '6 Ratings\\xa0&\\xa00 Reviews', '1,70,664 Ratings\\xa0&\\xa010,998 Reviews', '4,247 Ratings\\xa0&\\xa0163 Reviews', '1,70,664 Ratings\\xa0&\\xa010,998 Reviews', '96 Ratings\\xa0&\\xa06 Reviews', '1,78,400 Ratings\\xa0&\\xa010,573 Reviews', '1,34,634 Ratings\\xa0&\\xa012,280 Reviews', '1,34,634 Ratings\\xa0&\\xa012,280 Reviews', '38 Ratings\\xa0&\\xa02 Reviews', '1,87,995 Ratings\\xa0&\\xa011,329 Reviews', '1,11,744 Ratings\\xa0&\\xa06,424 Reviews', '1,40,978 Ratings\\xa0&\\xa011,531 Reviews', '1,34,634 Ratings\\xa0&\\xa012,280 Reviews', '1,87,995 Ratings\\xa0&\\xa011,329 Reviews', '59,846 Ratings\\xa0&\\xa05,853 Reviews', '1,70,664 Ratings\\xa0&\\xa010,998 Reviews', '4,247 Ratings\\xa0&\\xa0163 Reviews', '1,78,400 Ratings\\xa0&\\xa010,573 Reviews', '19 Ratings\\xa0&\\xa02 Reviews', '4,247 Ratings\\xa0&\\xa0163 Reviews', '1,78,400 Ratings\\xa0&\\xa010,573 Reviews', '1,70,664 Ratings\\xa0&\\xa010,998 Reviews', '38 Ratings\\xa0&\\xa02 Reviews', '1,34,634 Ratings\\xa0&\\xa012,280 Reviews', '1,87,995 Ratings\\xa0&\\xa011,329 Reviews', '1,34,634 Ratings\\xa0&\\xa012,280 Reviews', '13 Ratings\\xa0&\\xa02 Reviews', '1,34,634 Ratings\\xa0&\\xa012,280 Reviews', '1,11,744 Ratings\\xa0&\\xa06,424 Reviews', '1,40,978 Ratings\\xa0&\\xa011,531 Reviews', '59,846 Ratings\\xa0&\\xa05,853 Reviews', '1,87,995 Ratings\\xa0&\\xa011,329 Reviews', '2,17,141 Ratings\\xa0&\\xa012,271 Reviews', '1,70,664 Ratings\\xa0&\\xa010,998 Reviews', '4,247 Ratings\\xa0&\\xa0163 Reviews', '1,78,400 Ratings\\xa0&\\xa010,573 Reviews', '19 Ratings\\xa0&\\xa02 Reviews', '4,247 Ratings\\xa0&\\xa0163 Reviews', '1,78,400 Ratings\\xa0&\\xa010,573 Reviews', '1,70,664 Ratings\\xa0&\\xa010,998 Reviews', '13 Ratings\\xa0&\\xa02 Reviews', '1,70,664 Ratings\\xa0&\\xa010,998 Reviews', '1,34,634 Ratings\\xa0&\\xa012,280 Reviews', '1,34,634 Ratings\\xa0&\\xa012,280 Reviews', '96 Ratings\\xa0&\\xa06 Reviews', '1,87,995 Ratings\\xa0&\\xa011,329 Reviews', '1,34,634 Ratings\\xa0&\\xa012,280 Reviews', '1,11,744 Ratings\\xa0&\\xa06,424 Reviews', '38 Ratings\\xa0&\\xa02 Reviews', '1,40,978 Ratings\\xa0&\\xa011,531 Reviews', '59,846 Ratings\\xa0&\\xa05,853 Reviews', '1,87,995 Ratings\\xa0&\\xa011,329 Reviews', '1,70,664 Ratings\\xa0&\\xa010,998 Reviews', '4,247 Ratings\\xa0&\\xa0163 Reviews', '1,78,400 Ratings\\xa0&\\xa010,573 Reviews', '13 Ratings\\xa0&\\xa02 Reviews', '4,247 Ratings\\xa0&\\xa0163 Reviews', '1,70,664 Ratings\\xa0&\\xa010,998 Reviews', '1,78,400 Ratings\\xa0&\\xa010,573 Reviews', '38 Ratings\\xa0&\\xa02 Reviews', '1,70,664 Ratings\\xa0&\\xa010,998 Reviews', '1,34,634 Ratings\\xa0&\\xa012,280 Reviews', '1,87,995 Ratings\\xa0&\\xa011,329 Reviews', '1,34,634 Ratings\\xa0&\\xa012,280 Reviews', '1,34,634 Ratings\\xa0&\\xa012,280 Reviews', '1,11,744 Ratings\\xa0&\\xa06,424 Reviews', '1,40,978 Ratings\\xa0&\\xa011,531 Reviews', '1,87,995 Ratings\\xa0&\\xa011,329 Reviews', '59,846 Ratings\\xa0&\\xa05,853 Reviews', '6 Ratings\\xa0&\\xa00 Reviews', '1,25,511 Ratings\\xa0&\\xa07,439 Reviews', '1,70,664 Ratings\\xa0&\\xa010,998 Reviews', '1,78,400 Ratings\\xa0&\\xa010,573 Reviews', '4,247 Ratings\\xa0&\\xa0163 Reviews', '19 Ratings\\xa0&\\xa02 Reviews', '4,247 Ratings\\xa0&\\xa0163 Reviews', '1,70,664 Ratings\\xa0&\\xa010,998 Reviews', '1,78,400 Ratings\\xa0&\\xa010,573 Reviews', '96 Ratings\\xa0&\\xa06 Reviews', '1,34,634 Ratings\\xa0&\\xa012,280 Reviews', '1,87,995 Ratings\\xa0&\\xa011,329 Reviews', '1,34,634 Ratings\\xa0&\\xa012,280 Reviews', '41 Ratings\\xa0&\\xa03 Reviews', '1,34,634 Ratings\\xa0&\\xa012,280 Reviews', '1,11,744 Ratings\\xa0&\\xa06,424 Reviews', '1,40,978 Ratings\\xa0&\\xa011,531 Reviews', '1,87,995 Ratings\\xa0&\\xa011,329 Reviews', '59,846 Ratings\\xa0&\\xa05,853 Reviews', '59,846 Ratings\\xa0&\\xa05,853 Reviews', '2,17,141 Ratings\\xa0&\\xa012,271 Reviews', '1,25,511 Ratings\\xa0&\\xa07,439 Reviews', '1,40,978 Ratings\\xa0&\\xa011,531 Reviews', '1,70,664 Ratings\\xa0&\\xa010,998 Reviews', '4,247 Ratings\\xa0&\\xa0163 Reviews', '1,78,400 Ratings\\xa0&\\xa010,573 Reviews', '13 Ratings\\xa0&\\xa02 Reviews', '4,247 Ratings\\xa0&\\xa0163 Reviews', '1,70,664 Ratings\\xa0&\\xa010,998 Reviews', '1,78,400 Ratings\\xa0&\\xa010,573 Reviews', '38 Ratings\\xa0&\\xa02 Reviews', '1,34,634 Ratings\\xa0&\\xa012,280 Reviews', '1,34,634 Ratings\\xa0&\\xa012,280 Reviews', '1,87,995 Ratings\\xa0&\\xa011,329 Reviews', '1,34,634 Ratings\\xa0&\\xa012,280 Reviews', '1,40,978 Ratings\\xa0&\\xa011,531 Reviews', '59,846 Ratings\\xa0&\\xa05,853 Reviews', '1,87,995 Ratings\\xa0&\\xa011,329 Reviews', '1,25,511 Ratings\\xa0&\\xa07,439 Reviews', '10,284 Ratings\\xa0&\\xa01,098 Reviews', '6 Ratings\\xa0&\\xa00 Reviews', '1,40,978 Ratings\\xa0&\\xa011,531 Reviews', '1,70,664 Ratings\\xa0&\\xa010,998 Reviews', '4,247 Ratings\\xa0&\\xa0163 Reviews', '1,78,400 Ratings\\xa0&\\xa010,573 Reviews', '19 Ratings\\xa0&\\xa02 Reviews', '4,247 Ratings\\xa0&\\xa0163 Reviews', '1,78,400 Ratings\\xa0&\\xa010,573 Reviews', '1,70,664 Ratings\\xa0&\\xa010,998 Reviews', '96 Ratings\\xa0&\\xa06 Reviews', '1,34,634 Ratings\\xa0&\\xa012,280 Reviews', '1,34,634 Ratings\\xa0&\\xa012,280 Reviews', '1,87,995 Ratings\\xa0&\\xa011,329 Reviews', '41 Ratings\\xa0&\\xa03 Reviews', '1,34,634 Ratings\\xa0&\\xa012,280 Reviews', '1,11,744 Ratings\\xa0&\\xa06,424 Reviews', '1,40,978 Ratings\\xa0&\\xa011,531 Reviews', '59,846 Ratings\\xa0&\\xa05,853 Reviews', '1,87,995 Ratings\\xa0&\\xa011,329 Reviews', '1,25,511 Ratings\\xa0&\\xa07,439 Reviews', '2,17,141 Ratings\\xa0&\\xa012,271 Reviews', '59,846 Ratings\\xa0&\\xa05,853 Reviews', '10,284 Ratings\\xa0&\\xa01,098 Reviews', '1,70,664 Ratings\\xa0&\\xa010,998 Reviews', '4,247 Ratings\\xa0&\\xa0163 Reviews', '1,78,400 Ratings\\xa0&\\xa010,573 Reviews', '13 Ratings\\xa0&\\xa02 Reviews', '4,247 Ratings\\xa0&\\xa0163 Reviews', '1,78,400 Ratings\\xa0&\\xa010,573 Reviews', '1,70,664 Ratings\\xa0&\\xa010,998 Reviews', '52 Ratings\\xa0&\\xa07 Reviews', '1,34,634 Ratings\\xa0&\\xa012,280 Reviews', '1,34,634 Ratings\\xa0&\\xa012,280 Reviews', '1,87,995 Ratings\\xa0&\\xa011,329 Reviews', '41 Ratings\\xa0&\\xa03 Reviews', '1,11,744 Ratings\\xa0&\\xa06,424 Reviews', '1,34,634 Ratings\\xa0&\\xa012,280 Reviews', '1,40,978 Ratings\\xa0&\\xa011,531 Reviews', '1,87,995 Ratings\\xa0&\\xa011,329 Reviews', '59,846 Ratings\\xa0&\\xa05,853 Reviews', '1,25,511 Ratings\\xa0&\\xa07,439 Reviews', '59,846 Ratings\\xa0&\\xa05,853 Reviews', '2,17,141 Ratings\\xa0&\\xa012,271 Reviews', '1,70,664 Ratings\\xa0&\\xa010,998 Reviews', '1,70,664 Ratings\\xa0&\\xa010,998 Reviews', '4,247 Ratings\\xa0&\\xa0163 Reviews', '1,78,400 Ratings\\xa0&\\xa010,573 Reviews', '13 Ratings\\xa0&\\xa02 Reviews', '4,247 Ratings\\xa0&\\xa0163 Reviews', '1,70,664 Ratings\\xa0&\\xa010,998 Reviews', '1,78,400 Ratings\\xa0&\\xa010,573 Reviews', '38 Ratings\\xa0&\\xa02 Reviews', '1,70,664 Ratings\\xa0&\\xa010,998 Reviews', '1,34,634 Ratings\\xa0&\\xa012,280 Reviews', '1,34,634 Ratings\\xa0&\\xa012,280 Reviews', '1,87,995 Ratings\\xa0&\\xa011,329 Reviews', '1,34,634 Ratings\\xa0&\\xa012,280 Reviews', '1,11,744 Ratings\\xa0&\\xa06,424 Reviews', '1,40,978 Ratings\\xa0&\\xa011,531 Reviews', '59,846 Ratings\\xa0&\\xa05,853 Reviews', '1,87,995 Ratings\\xa0&\\xa011,329 Reviews', '6 Ratings\\xa0&\\xa00 Reviews', '1,25,511 Ratings\\xa0&\\xa07,439 Reviews', '1,70,664 Ratings\\xa0&\\xa010,998 Reviews', '4,247 Ratings\\xa0&\\xa0163 Reviews', '1,78,400 Ratings\\xa0&\\xa010,573 Reviews', '19 Ratings\\xa0&\\xa02 Reviews', '4,247 Ratings\\xa0&\\xa0163 Reviews', '1,78,400 Ratings\\xa0&\\xa010,573 Reviews', '1,70,664 Ratings\\xa0&\\xa010,998 Reviews', '13 Ratings\\xa0&\\xa02 Reviews', '1,34,634 Ratings\\xa0&\\xa012,280 Reviews', '1,87,995 Ratings\\xa0&\\xa011,329 Reviews', '1,34,634 Ratings\\xa0&\\xa012,280 Reviews', '52 Ratings\\xa0&\\xa07 Reviews', '1,34,634 Ratings\\xa0&\\xa012,280 Reviews', '1,11,744 Ratings\\xa0&\\xa06,424 Reviews', '1,40,978 Ratings\\xa0&\\xa011,531 Reviews', '41 Ratings\\xa0&\\xa03 Reviews', '1,87,995 Ratings\\xa0&\\xa011,329 Reviews', '59,846 Ratings\\xa0&\\xa05,853 Reviews', '2,17,141 Ratings\\xa0&\\xa012,271 Reviews', '1,25,511 Ratings\\xa0&\\xa07,439 Reviews', '1,70,664 Ratings\\xa0&\\xa010,998 Reviews', '4,247 Ratings\\xa0&\\xa0163 Reviews', '1,78,400 Ratings\\xa0&\\xa010,573 Reviews', '19 Ratings\\xa0&\\xa02 Reviews', '4,247 Ratings\\xa0&\\xa0163 Reviews', '1,70,664 Ratings\\xa0&\\xa010,998 Reviews', '1,78,400 Ratings\\xa0&\\xa010,573 Reviews', '96 Ratings\\xa0&\\xa06 Reviews', '1,34,634 Ratings\\xa0&\\xa012,280 Reviews', '1,87,995 Ratings\\xa0&\\xa011,329 Reviews', '1,34,634 Ratings\\xa0&\\xa012,280 Reviews', '41 Ratings\\xa0&\\xa03 Reviews', '1,34,634 Ratings\\xa0&\\xa012,280 Reviews', '1,11,744 Ratings\\xa0&\\xa06,424 Reviews', '1,40,978 Ratings\\xa0&\\xa011,531 Reviews', '59,846 Ratings\\xa0&\\xa05,853 Reviews', '1,87,995 Ratings\\xa0&\\xa011,329 Reviews', '59,846 Ratings\\xa0&\\xa05,853 Reviews', '1,25,511 Ratings\\xa0&\\xa07,439 Reviews', '2,17,141 Ratings\\xa0&\\xa012,271 Reviews', '35,159 Ratings\\xa0&\\xa03,125 Reviews', '1,70,664 Ratings\\xa0&\\xa010,998 Reviews', '4,247 Ratings\\xa0&\\xa0163 Reviews', '1,78,400 Ratings\\xa0&\\xa010,573 Reviews', '13 Ratings\\xa0&\\xa02 Reviews', '4,247 Ratings\\xa0&\\xa0163 Reviews', '1,78,400 Ratings\\xa0&\\xa010,573 Reviews', '1,70,664 Ratings\\xa0&\\xa010,998 Reviews', '52 Ratings\\xa0&\\xa07 Reviews', '1,34,634 Ratings\\xa0&\\xa012,280 Reviews', '1,87,995 Ratings\\xa0&\\xa011,329 Reviews', '1,34,634 Ratings\\xa0&\\xa012,280 Reviews', '41 Ratings\\xa0&\\xa03 Reviews', '1,34,634 Ratings\\xa0&\\xa012,280 Reviews', '1,11,744 Ratings\\xa0&\\xa06,424 Reviews', '1,40,978 Ratings\\xa0&\\xa011,531 Reviews', '1,87,995 Ratings\\xa0&\\xa011,329 Reviews', '59,846 Ratings\\xa0&\\xa05,853 Reviews', '2,17,141 Ratings\\xa0&\\xa012,271 Reviews', '1,25,511 Ratings\\xa0&\\xa07,439 Reviews', '59,846 Ratings\\xa0&\\xa05,853 Reviews', '35,159 Ratings\\xa0&\\xa03,125 Reviews', '1,70,664 Ratings\\xa0&\\xa010,998 Reviews', '4,247 Ratings\\xa0&\\xa0163 Reviews', '1,78,400 Ratings\\xa0&\\xa010,573 Reviews', '52 Ratings\\xa0&\\xa07 Reviews', '4,247 Ratings\\xa0&\\xa0163 Reviews', '1,78,400 Ratings\\xa0&\\xa010,573 Reviews', '1,70,664 Ratings\\xa0&\\xa010,998 Reviews', '96 Ratings\\xa0&\\xa06 Reviews', '1,70,664 Ratings\\xa0&\\xa010,998 Reviews', '1,34,634 Ratings\\xa0&\\xa012,280 Reviews', '1,87,995 Ratings\\xa0&\\xa011,329 Reviews', '38 Ratings\\xa0&\\xa02 Reviews', '1,34,634 Ratings\\xa0&\\xa012,280 Reviews', '1,34,634 Ratings\\xa0&\\xa012,280 Reviews', '1,11,744 Ratings\\xa0&\\xa06,424 Reviews', '1,40,978 Ratings\\xa0&\\xa011,531 Reviews', '1,87,995 Ratings\\xa0&\\xa011,329 Reviews', '59,846 Ratings\\xa0&\\xa05,853 Reviews', '1,70,664 Ratings\\xa0&\\xa010,998 Reviews', '4,247 Ratings\\xa0&\\xa0163 Reviews', '1,78,400 Ratings\\xa0&\\xa010,573 Reviews', '19 Ratings\\xa0&\\xa02 Reviews', '4,247 Ratings\\xa0&\\xa0163 Reviews', '1,70,664 Ratings\\xa0&\\xa010,998 Reviews', '1,78,400 Ratings\\xa0&\\xa010,573 Reviews', '96 Ratings\\xa0&\\xa06 Reviews', '1,70,664 Ratings\\xa0&\\xa010,998 Reviews', '1,34,634 Ratings\\xa0&\\xa012,280 Reviews', '1,87,995 Ratings\\xa0&\\xa011,329 Reviews', '38 Ratings\\xa0&\\xa02 Reviews', '1,34,634 Ratings\\xa0&\\xa012,280 Reviews', '1,34,634 Ratings\\xa0&\\xa012,280 Reviews', '1,11,744 Ratings\\xa0&\\xa06,424 Reviews', '1,40,978 Ratings\\xa0&\\xa011,531 Reviews', '1,87,995 Ratings\\xa0&\\xa011,329 Reviews', '59,846 Ratings\\xa0&\\xa05,853 Reviews', '1,70,664 Ratings\\xa0&\\xa010,998 Reviews', '4,247 Ratings\\xa0&\\xa0163 Reviews', '1,78,400 Ratings\\xa0&\\xa010,573 Reviews', '6 Ratings\\xa0&\\xa00 Reviews', '4,247 Ratings\\xa0&\\xa0163 Reviews', '1,70,664 Ratings\\xa0&\\xa010,998 Reviews', '1,78,400 Ratings\\xa0&\\xa010,573 Reviews', '38 Ratings\\xa0&\\xa02 Reviews', '1,34,634 Ratings\\xa0&\\xa012,280 Reviews', '1,87,995 Ratings\\xa0&\\xa011,329 Reviews', '1,34,634 Ratings\\xa0&\\xa012,280 Reviews', '13 Ratings\\xa0&\\xa02 Reviews', '1,11,744 Ratings\\xa0&\\xa06,424 Reviews', '1,34,634 Ratings\\xa0&\\xa012,280 Reviews', '1,40,978 Ratings\\xa0&\\xa011,531 Reviews', '1,87,995 Ratings\\xa0&\\xa011,329 Reviews', '59,846 Ratings\\xa0&\\xa05,853 Reviews', '1,25,511 Ratings\\xa0&\\xa07,439 Reviews', '1,70,664 Ratings\\xa0&\\xa010,998 Reviews', '4,247 Ratings\\xa0&\\xa0163 Reviews', '1,78,400 Ratings\\xa0&\\xa010,573 Reviews', '13 Ratings\\xa0&\\xa02 Reviews', '4,247 Ratings\\xa0&\\xa0163 Reviews', '1,78,400 Ratings\\xa0&\\xa010,573 Reviews', '1,70,664 Ratings\\xa0&\\xa010,998 Reviews', '41 Ratings\\xa0&\\xa03 Reviews', '1,34,634 Ratings\\xa0&\\xa012,280 Reviews', '1,87,995 Ratings\\xa0&\\xa011,329 Reviews', '1,34,634 Ratings\\xa0&\\xa012,280 Reviews', '1,34,634 Ratings\\xa0&\\xa012,280 Reviews', '1,11,744 Ratings\\xa0&\\xa06,424 Reviews', '1,40,978 Ratings\\xa0&\\xa011,531 Reviews', '1,87,995 Ratings\\xa0&\\xa011,329 Reviews', '59,846 Ratings\\xa0&\\xa05,853 Reviews', '1,25,511 Ratings\\xa0&\\xa07,439 Reviews', '59,846 Ratings\\xa0&\\xa05,853 Reviews', '2,17,141 Ratings\\xa0&\\xa012,271 Reviews', '10,284 Ratings\\xa0&\\xa01,098 Reviews', '1,40,978 Ratings\\xa0&\\xa011,531 Reviews', '1,34,634 Ratings\\xa0&\\xa012,280 Reviews'] ['4 GB RAM | 64 GB ROM | Expandable Upto 1 TB', '17.02 cm (6.7 inch) HD+ Display', '50MP + 2MP | 5MP Front Camera', '6000 mAh Lithium Polymer Battery', 'Qualcomm Snapdragon 680 Processor', '1 Year Warranty for Phone and 6 Months Warranty for In-Box Accessories', '128 GB ROM', '15.49 cm (6.1 inch) Super Retina XDR Display', '12MP + 12MP | 12MP Front Camera', 'A15 Bionic Chip, 6 Core Processor Processor', '1 Year Warranty for Phone and 6 Months Warranty for In-Box Accessories', '64 GB ROM', '15.49 cm (6.1 inch) Liquid Retina HD Display', '12MP + 12MP | 12MP Front Camera', 'A13 Bionic Chip Processor', 'Brand Warranty of 1 Year', '32 MB RAM | 32 MB ROM | Expandable Upto 32 GB', '6.1 cm (2.4 inch) Display', '0.8MP Rear Camera', '2000 mAh Battery', '4 GB RAM | 64 GB ROM | Expandable Upto 1 TB', '17.02 cm (6.7 inch) HD+ Display', '50MP + 2MP | 5MP Front Camera', '6000 mAh Lithium Polymer Battery', 'Qualcomm Snapdragon 680 Processor', '1 Year Warranty for Phone and 6 Months Warranty for In-Box Accessories', '128 GB ROM', '15.49 cm (6.1 inch) Super Retina XDR Display', '12MP + 12MP | 12MP Front Camera', 'A15 Bionic Chip, 6 Core Processor Processor', '1 Year Warranty for Phone and 6 Months Warranty for In-Box Accessories', '64 GB ROM', '15.49 cm (6.1 inch) Liquid Retina HD Display', '12MP + 12MP | 12MP Front Camera', 'A13 Bionic Chip Processor', 'Brand Warranty of 1 Year', '32 MB RAM | 32 MB ROM | Expandable Upto 32 GB', '4.57 cm (1.8 inch) Display', '4 GB RAM | 64 GB ROM | Expandable Upto 1 TB', '17.02 cm (6.7 inch) HD+ Display', '50MP + 2MP | 5MP Front Camera', '6000 mAh Lithium Polymer Battery', 'Qualcomm Snapdragon 680 Processor', '1 Year Warranty for Phone and 6 Months Warranty for In-Box Accessories', '128 GB ROM', '15.49 cm (6.1 inch) Super Retina XDR Display', '12MP + 12MP | 12MP Front Camera', 'A15 Bionic Chip, 6 Core Processor Processor', '1 Year Warranty for Phone and 6 Months Warranty for In-Box Accessories', '64 GB ROM', '15.49 cm (6.1 inch) Liquid Retina HD Display', '12MP + 12MP | 12MP Front Camera', 'A13 Bionic Chip Processor', 'Brand Warranty of 1 Year', '32 MB RAM | 32 MB ROM | Expandable Upto 32 GB', '6.1 cm (2.4 inch) Display', '0.8MP Rear Camera', '4 GB RAM | 64 GB ROM | Expandable Upto 1 TB', '17.02 cm (6.7 inch) HD+ Display', '50MP + 2MP | 5MP Front Camera', '6000 mAh Lithium Polymer Battery', 'Qualcomm Snapdragon 680 Processor', '1 Year Warranty for Phone and 6 Months Warranty for In-Box Accessories', '128 GB ROM', '15.49 cm (6.1 inch) Super Retina XDR Display', '12MP + 12MP | 12MP Front Camera', 'A15 Bionic Chip, 6 Core Processor Processor', '1 Year Warranty for Phone and 6 Months Warranty for In-Box Accessories', '64 GB ROM', '15.49 cm (6.1 inch) Liquid Retina HD Display', '12MP + 12MP | 12MP Front Camera', 'A13 Bionic Chip Processor', 'Brand Warranty of 1 Year', '32 MB RAM | 32 MB ROM | Expandable Upto 32 GB', '6.1 cm (2.4 inch) Display', '0.8MP Rear Camera', '2000 mAh Battery', '1 Year Manufacturer Warranty', '4 GB RAM | 64 GB ROM | Expandable Upto 1 TB', '17.02 cm (6.7 inch) HD+ Display', '50MP + 2MP | 5MP Front Camera', '6000 mAh Lithium Polymer Battery', 'Qualcomm Snapdragon 680 Processor', '1 Year Warranty for Phone and 6 Months Warranty for In-Box Accessories', '128 GB ROM', '15.49 cm (6.1 inch) Super Retina XDR Display', '12MP + 12MP | 12MP Front Camera', 'A15 Bionic Chip, 6 Core Processor Processor', '1 Year Warranty for Phone and 6 Months Warranty for In-Box Accessories', '64 GB ROM', '15.49 cm (6.1 inch) Liquid Retina HD Display', '12MP + 12MP | 12MP Front Camera', 'A13 Bionic Chip Processor', 'Brand Warranty of 1 Year', '32 MB RAM | 32 MB ROM | Expandable Upto 32 GB', '6.1 cm (2.4 inch) Display', '0.8MP Rear Camera', '4 GB RAM | 64 GB ROM | Expandable Upto 1 TB', '17.02 cm (6.7 inch) HD+ Display', '50MP + 2MP | 5MP Front Camera', '6000 mAh Lithium Polymer Battery', 'Qualcomm Snapdragon 680 Processor', '1 Year Warranty for Phone and 6 Months Warranty for In-Box Accessories', '128 GB ROM', '15.49 cm (6.1 inch) Super Retina XDR Display', '12MP + 12MP | 12MP Front Camera', 'A15 Bionic Chip, 6 Core Processor Processor', '1 Year Warranty for Phone and 6 Months Warranty for In-Box Accessories', '64 GB ROM', '15.49 cm (6.1 inch) Liquid Retina HD Display', '12MP + 12MP | 12MP Front Camera', 'A13 Bionic Chip Processor', 'Brand Warranty of 1 Year', '32 MB RAM | 32 MB ROM | Expandable Upto 32 GB', '6.1 cm (2.4 inch) Display', '4 GB RAM | 64 GB ROM | Expandable Upto 1 TB', '17.02 cm (6.7 inch) HD+ Display', '50MP + 2MP | 5MP Front Camera', '6000 mAh Lithium Polymer Battery', 'Qualcomm Snapdragon 680 Processor', '1 Year Warranty for Phone and 6 Months Warranty for In-Box Accessories', '64 GB ROM', '15.49 cm (6.1 inch) Liquid Retina HD Display', '12MP + 12MP | 12MP Front Camera', 'A13 Bionic Chip Processor', 'Brand Warranty of 1 Year', '128 GB ROM', '15.49 cm (6.1 inch) Super Retina XDR Display', '12MP + 12MP | 12MP Front Camera', 'A15 Bionic Chip, 6 Core Processor Processor', '1 Year Warranty for Phone and 6 Months Warranty for In-Box Accessories', '32 MB RAM | 32 MB ROM | Expandable Upto 32 GB', '6.1 cm (2.4 inch) Display', '0.8MP Rear Camera', '2000 mAh Battery', '4 GB RAM | 64 GB ROM | Expandable Upto 1 TB', '17.02 cm (6.7 inch) HD+ Display', '50MP + 2MP | 5MP Front Camera', '6000 mAh Lithium Polymer Battery', 'Qualcomm Snapdragon 680 Processor', '1 Year Warranty for Phone and 6 Months Warranty for In-Box Accessories', '128 GB ROM', '15.49 cm (6.1 inch) Super Retina XDR Display', '12MP + 12MP | 12MP Front Camera', 'A15 Bionic Chip, 6 Core Processor Processor', '1 Year Warranty for Phone and 6 Months Warranty for In-Box Accessories', '64 GB ROM', '15.49 cm (6.1 inch) Liquid Retina HD Display', '12MP + 12MP | 12MP Front Camera', 'A13 Bionic Chip Processor', 'Brand Warranty of 1 Year', '32 MB RAM | 32 MB ROM', '4.5 cm (1.77 inch) Display', '0.8MP Rear Camera', '1000 mAh Battery', '1 Year Manufacturer Warranty', '4 GB RAM | 64 GB ROM | Expandable Upto 1 TB', '17.02 cm (6.7 inch) HD+ Display', '50MP + 2MP | 5MP Front Camera', '6000 mAh Lithium Polymer Battery', 'Qualcomm Snapdragon 680 Processor', '1 Year Warranty for Phone and 6 Months Warranty for In-Box Accessories', '128 GB ROM', '15.49 cm (6.1 inch) Super Retina XDR Display', '12MP + 12MP | 12MP Front Camera', 'A15 Bionic Chip, 6 Core Processor Processor', '1 Year Warranty for Phone and 6 Months Warranty for In-Box Accessories', '64 GB ROM', '15.49 cm (6.1 inch) Liquid Retina HD Display', '12MP + 12MP | 12MP Front Camera', 'A13 Bionic Chip Processor', 'Brand Warranty of 1 Year', '32 MB RAM | 32 MB ROM | Expandable Upto 32 GB', '4.57 cm (1.8 inch) Display', '4 GB RAM | 64 GB ROM | Expandable Upto 1 TB', '17.02 cm (6.7 inch) HD+ Display', '50MP + 2MP | 5MP Front Camera', '6000 mAh Lithium Polymer Battery', 'Qualcomm Snapdragon 680 Processor', '1 Year Warranty for Phone and 6 Months Warranty for In-Box Accessories', '128 GB ROM', '15.49 cm (6.1 inch) Super Retina XDR Display', '12MP + 12MP | 12MP Front Camera', 'A15 Bionic Chip, 6 Core Processor Processor', '1 Year Warranty for Phone and 6 Months Warranty for In-Box Accessories', '64 GB ROM', '15.49 cm (6.1 inch) Liquid Retina HD Display', '12MP + 12MP | 12MP Front Camera', 'A13 Bionic Chip Processor', 'Brand Warranty of 1 Year', '32 MB RAM | 32 MB ROM | Expandable Upto 32 GB', '4.57 cm (1.8 inch) Display', '4 GB RAM | 64 GB ROM | Expandable Upto 1 TB', '17.02 cm (6.7 inch) HD+ Display', '50MP + 2MP | 5MP Front Camera', '6000 mAh Lithium Polymer Battery', 'Qualcomm Snapdragon 680 Processor', '1 Year Warranty for Phone and 6 Months Warranty for In-Box Accessories', '128 GB ROM', '15.49 cm (6.1 inch) Super Retina XDR Display', '12MP + 12MP | 12MP Front Camera', 'A15 Bionic Chip, 6 Core Processor Processor', '1 Year Warranty for Phone and 6 Months Warranty for In-Box Accessories', '64 GB ROM', '15.49 cm (6.1 inch) Liquid Retina HD Display', '12MP + 12MP | 12MP Front Camera', 'A13 Bionic Chip Processor', 'Brand Warranty of 1 Year', '32 MB RAM | 32 MB ROM | Expandable Upto 32 GB', '4.57 cm (1.8 inch) Display', '4 GB RAM | 64 GB ROM | Expandable Upto 1 TB', '17.02 cm (6.7 inch) HD+ Display', '50MP + 2MP | 5MP Front Camera', '6000 mAh Lithium Polymer Battery', 'Qualcomm Snapdragon 680 Processor', '1 Year Warranty for Phone and 6 Months Warranty for In-Box Accessories', '128 GB ROM', '15.49 cm (6.1 inch) Super Retina XDR Display', '12MP + 12MP | 12MP Front Camera', 'A15 Bionic Chip, 6 Core Processor Processor', '1 Year Warranty for Phone and 6 Months Warranty for In-Box Accessories', '64 GB ROM', '15.49 cm (6.1 inch) Liquid Retina HD Display', '12MP + 12MP | 12MP Front Camera', 'A13 Bionic Chip Processor', 'Brand Warranty of 1 Year', '32 MB RAM | 32 MB ROM | Expandable Upto 32 GB', '6.1 cm (2.4 inch) Display', '0.8MP Rear Camera', '4 GB RAM | 64 GB ROM | Expandable Upto 1 TB', '17.02 cm (6.7 inch) HD+ Display', '50MP + 2MP | 5MP Front Camera', '6000 mAh Lithium Polymer Battery', 'Qualcomm Snapdragon 680 Processor', '1 Year Warranty for Phone and 6 Months Warranty for In-Box Accessories', '128 GB ROM', '15.49 cm (6.1 inch) Super Retina XDR Display', '12MP + 12MP | 12MP Front Camera', 'A15 Bionic Chip, 6 Core Processor Processor', '1 Year Warranty for Phone and 6 Months Warranty for In-Box Accessories', '64 GB ROM', '15.49 cm (6.1 inch) Liquid Retina HD Display', '12MP + 12MP | 12MP Front Camera', 'A13 Bionic Chip Processor', 'Brand Warranty of 1 Year', '32 MB RAM | 32 MB ROM | Expandable Upto 32 GB', '6.1 cm (2.4 inch) Display', '0.8MP Rear Camera', '4 GB RAM | 64 GB ROM | Expandable Upto 1 TB', '17.02 cm (6.7 inch) HD+ Display', '50MP + 2MP | 5MP Front Camera', '6000 mAh Lithium Polymer Battery', 'Qualcomm Snapdragon 680 Processor', '1 Year Warranty for Phone and 6 Months Warranty for In-Box Accessories', '128 GB ROM', '15.49 cm (6.1 inch) Super Retina XDR Display', '12MP + 12MP | 12MP Front Camera', 'A15 Bionic Chip, 6 Core Processor Processor', '1 Year Warranty for Phone and 6 Months Warranty for In-Box Accessories', '64 GB ROM', '15.49 cm (6.1 inch) Liquid Retina HD Display', '12MP + 12MP | 12MP Front Camera', 'A13 Bionic Chip Processor', 'Brand Warranty of 1 Year', '32 MB RAM | 32 MB ROM | Expandable Upto 32 GB', '6.1 cm (2.4 inch) Display', '4 GB RAM | 64 GB ROM | Expandable Upto 1 TB', '17.02 cm (6.7 inch) HD+ Display', '50MP + 2MP | 5MP Front Camera', '6000 mAh Lithium Polymer Battery', 'Qualcomm Snapdragon 680 Processor', '1 Year Warranty for Phone and 6 Months Warranty for In-Box Accessories', '128 GB ROM', '15.49 cm (6.1 inch) Super Retina XDR Display', '12MP + 12MP | 12MP Front Camera', 'A15 Bionic Chip, 6 Core Processor Processor', '1 Year Warranty for Phone and 6 Months Warranty for In-Box Accessories', '64 GB ROM', '15.49 cm (6.1 inch) Liquid Retina HD Display', '12MP + 12MP | 12MP Front Camera', 'A13 Bionic Chip Processor', 'Brand Warranty of 1 Year', '32 MB RAM | 32 MB ROM', '4.5 cm (1.77 inch) Display', '0.8MP Rear Camera', '1000 mAh Battery', '1 Year Manufacturer Warranty', '128 GB ROM', '4 GB RAM | 64 GB ROM | Expandable Upto 1 TB', '17.02 cm (6.7 inch) HD+ Display', '50MP + 2MP | 5MP Front Camera', '6000 mAh Lithium Polymer Battery', 'Qualcomm Snapdragon 680 Processor', '1 Year Warranty for Phone and 6 Months Warranty for In-Box Accessories', '128 GB ROM', '15.49 cm (6.1 inch) Super Retina XDR Display', '12MP + 12MP | 12MP Front Camera', 'A15 Bionic Chip, 6 Core Processor Processor', '1 Year Warranty for Phone and 6 Months Warranty for In-Box Accessories', '64 GB ROM', '15.49 cm (6.1 inch) Liquid Retina HD Display', '12MP + 12MP | 12MP Front Camera', 'A13 Bionic Chip Processor', 'Brand Warranty of 1 Year', '32 MB RAM | 32 MB ROM | Expandable Upto 32 GB', '6.1 cm (2.4 inch) Display', '0.8MP Rear Camera', '4 GB RAM | 64 GB ROM | Expandable Upto 1 TB', '17.02 cm (6.7 inch) HD+ Display', '50MP + 2MP | 5MP Front Camera', '6000 mAh Lithium Polymer Battery', 'Qualcomm Snapdragon 680 Processor', '1 Year Warranty for Phone and 6 Months Warranty for In-Box Accessories', '128 GB ROM', '15.49 cm (6.1 inch) Super Retina XDR Display', '12MP + 12MP | 12MP Front Camera', 'A15 Bionic Chip, 6 Core Processor Processor', '1 Year Warranty for Phone and 6 Months Warranty for In-Box Accessories', '64 GB ROM', '15.49 cm (6.1 inch) Liquid Retina HD Display', '12MP + 12MP | 12MP Front Camera', 'A13 Bionic Chip Processor', 'Brand Warranty of 1 Year', '32 MB RAM | 32 MB ROM | Expandable Upto 32 GB', '4.57 cm (1.8 inch) Display', '4 GB RAM | 64 GB ROM | Expandable Upto 1 TB', '17.02 cm (6.7 inch) HD+ Display', '50MP + 2MP | 5MP Front Camera', '6000 mAh Lithium Polymer Battery', 'Qualcomm Snapdragon 680 Processor', '1 Year Warranty for Phone and 6 Months Warranty for In-Box Accessories', '128 GB ROM', '15.49 cm (6.1 inch) Super Retina XDR Display', '12MP + 12MP | 12MP Front Camera', 'A15 Bionic Chip, 6 Core Processor Processor', '1 Year Warranty for Phone and 6 Months Warranty for In-Box Accessories', '64 GB ROM', '15.49 cm (6.1 inch) Liquid Retina HD Display', '12MP + 12MP | 12MP Front Camera', 'A13 Bionic Chip Processor', 'Brand Warranty of 1 Year', '32 MB RAM | 32 MB ROM', '6.1 cm (2.4 inch) Display', '0.8MP Rear Camera', '4 GB RAM | 64 GB ROM | Expandable Upto 1 TB', '17.02 cm (6.7 inch) HD+ Display', '50MP + 2MP | 5MP Front Camera', '6000 mAh Lithium Polymer Battery', 'Qualcomm Snapdragon 680 Processor', '1 Year Warranty for Phone and 6 Months Warranty for In-Box Accessories', '128 GB ROM', '15.49 cm (6.1 inch) Super Retina XDR Display', '12MP + 12MP | 12MP Front Camera', 'A15 Bionic Chip, 6 Core Processor Processor', '1 Year Warranty for Phone and 6 Months Warranty for In-Box Accessories', '64 GB ROM', '15.49 cm (6.1 inch) Liquid Retina HD Display', '12MP + 12MP | 12MP Front Camera', 'A13 Bionic Chip Processor', 'Brand Warranty of 1 Year', '32 MB RAM | 32 MB ROM | Expandable Upto 32 GB', '6.1 cm (2.4 inch) Display', '0.8MP Rear Camera', '4 GB RAM | 64 GB ROM | Expandable Upto 1 TB', '17.02 cm (6.7 inch) HD+ Display', '50MP + 2MP | 5MP Front Camera', '6000 mAh Lithium Polymer Battery', 'Qualcomm Snapdragon 680 Processor', '1 Year Warranty for Phone and 6 Months Warranty for In-Box Accessories', '128 GB ROM', '15.49 cm (6.1 inch) Super Retina XDR Display', '12MP + 12MP | 12MP Front Camera', 'A15 Bionic Chip, 6 Core Processor Processor', '1 Year Warranty for Phone and 6 Months Warranty for In-Box Accessories', '64 GB ROM', '15.49 cm (6.1 inch) Liquid Retina HD Display', '12MP + 12MP | 12MP Front Camera', 'A13 Bionic Chip Processor', 'Brand Warranty of 1 Year', '32 MB RAM | 32 MB ROM | Expandable Upto 32 GB', '6.1 cm (2.4 inch) Display', '4 GB RAM | 64 GB ROM | Expandable Upto 1 TB', '17.02 cm (6.7 inch) HD+ Display', '50MP + 2MP | 5MP Front Camera', '6000 mAh Lithium Polymer Battery', 'Qualcomm Snapdragon 680 Processor', '1 Year Warranty for Phone and 6 Months Warranty for In-Box Accessories', '128 GB ROM', '15.49 cm (6.1 inch) Super Retina XDR Display', '12MP + 12MP | 12MP Front Camera', 'A15 Bionic Chip, 6 Core Processor Processor', '1 Year Warranty for Phone and 6 Months Warranty for In-Box Accessories', '64 GB ROM', '15.49 cm (6.1 inch) Liquid Retina HD Display', '12MP + 12MP | 12MP Front Camera', 'A13 Bionic Chip Processor', 'Brand Warranty of 1 Year', '32 MB RAM | 32 MB ROM', '6.1 cm (2.4 inch) Display', '4 GB RAM | 64 GB ROM | Expandable Upto 1 TB', '17.02 cm (6.7 inch) HD+ Display', '50MP + 2MP | 5MP Front Camera', '6000 mAh Lithium Polymer Battery', 'Qualcomm Snapdragon 680 Processor', '1 Year Warranty for Phone and 6 Months Warranty for In-Box Accessories', '128 GB ROM', '15.49 cm (6.1 inch) Super Retina XDR Display', '12MP + 12MP | 12MP Front Camera', 'A15 Bionic Chip, 6 Core Processor Processor', '1 Year Warranty for Phone and 6 Months Warranty for In-Box Accessories', '64 GB ROM', '15.49 cm (6.1 inch) Liquid Retina HD Display', '12MP + 12MP | 12MP Front Camera', 'A13 Bionic Chip Processor', 'Brand Warranty of 1 Year', '32 MB RAM | 32 MB ROM | Expandable Upto 32 GB', '6.1 cm (2.4 inch) Display', '0.8MP Rear Camera', '4 GB RAM | 64 GB ROM | Expandable Upto 1 TB', '17.02 cm (6.7 inch) HD+ Display', '50MP + 2MP | 5MP Front Camera', '6000 mAh Lithium Polymer Battery', 'Qualcomm Snapdragon 680 Processor', '1 Year Warranty for Phone and 6 Months Warranty for In-Box Accessories', '128 GB ROM', '15.49 cm (6.1 inch) Super Retina XDR Display', '12MP + 12MP | 12MP Front Camera', 'A15 Bionic Chip, 6 Core Processor Processor', '1 Year Warranty for Phone and 6 Months Warranty for In-Box Accessories', '64 GB ROM', '15.49 cm (6.1 inch) Liquid Retina HD Display', '12MP + 12MP | 12MP Front Camera', 'A13 Bionic Chip Processor', 'Brand Warranty of 1 Year', '32 MB RAM | 32 MB ROM | Expandable Upto 32 GB', '6.1 cm (2.4 inch) Display', '4 GB RAM | 64 GB ROM | Expandable Upto 1 TB', '17.02 cm (6.7 inch) HD+ Display', '50MP + 2MP | 5MP Front Camera', '6000 mAh Lithium Polymer Battery', 'Qualcomm Snapdragon 680 Processor', '1 Year Warranty for Phone and 6 Months Warranty for In-Box Accessories', '64 GB ROM', '15.49 cm (6.1 inch) Liquid Retina HD Display', '12MP + 12MP | 12MP Front Camera', 'A13 Bionic Chip Processor', 'Brand Warranty of 1 Year', '128 GB ROM', '15.49 cm (6.1 inch) Super Retina XDR Display', '12MP + 12MP | 12MP Front Camera', 'A15 Bionic Chip, 6 Core Processor Processor', '1 Year Warranty for Phone and 6 Months Warranty for In-Box Accessories', '32 MB RAM | 32 MB ROM', '6.1 cm (2.4 inch) Display', '4 GB RAM | 64 GB ROM | Expandable Upto 1 TB', '17.02 cm (6.7 inch) HD+ Display', '50MP + 2MP | 5MP Front Camera', '6000 mAh Lithium Polymer Battery', 'Qualcomm Snapdragon 680 Processor', '1 Year Warranty for Phone and 6 Months Warranty for In-Box Accessories', '128 GB ROM', '15.49 cm (6.1 inch) Super Retina XDR Display', '12MP + 12MP | 12MP Front Camera', 'A15 Bionic Chip, 6 Core Processor Processor', '1 Year Warranty for Phone and 6 Months Warranty for In-Box Accessories', '64 GB ROM', '15.49 cm (6.1 inch) Liquid Retina HD Display', '12MP + 12MP | 12MP Front Camera', 'A13 Bionic Chip Processor', 'Brand Warranty of 1 Year', '32 MB RAM | 32 MB ROM | Expandable Upto 32 GB', '6.1 cm (2.4 inch) Display', '4 GB RAM | 64 GB ROM | Expandable Upto 1 TB', '17.02 cm (6.7 inch) HD+ Display', '50MP + 2MP | 5MP Front Camera', '6000 mAh Lithium Polymer Battery', 'Qualcomm Snapdragon 680 Processor', '1 Year Warranty for Phone and 6 Months Warranty for In-Box Accessories', '128 GB ROM', '15.49 cm (6.1 inch) Super Retina XDR Display', '12MP + 12MP | 12MP Front Camera', 'A15 Bionic Chip, 6 Core Processor Processor', '1 Year Warranty for Phone and 6 Months Warranty for In-Box Accessories', '64 GB ROM', '15.49 cm (6.1 inch) Liquid Retina HD Display', '12MP + 12MP | 12MP Front Camera', 'A13 Bionic Chip Processor', 'Brand Warranty of 1 Year', '32 MB RAM | 32 MB ROM | Expandable Upto 32 GB', '6.1 cm (2.4 inch) Display', '0.8MP Rear Camera', '4 GB RAM | 64 GB ROM | Expandable Upto 1 TB', '17.02 cm (6.7 inch) HD+ Display', '50MP + 2MP | 5MP Front Camera', '6000 mAh Lithium Polymer Battery', 'Qualcomm Snapdragon 680 Processor', '1 Year Warranty for Phone and 6 Months Warranty for In-Box Accessories', '128 GB ROM', '15.49 cm (6.1 inch) Super Retina XDR Display', '12MP + 12MP | 12MP Front Camera', 'A15 Bionic Chip, 6 Core Processor Processor', '1 Year Warranty for Phone and 6 Months Warranty for In-Box Accessories', '64 GB ROM', '15.49 cm (6.1 inch) Liquid Retina HD Display', '12MP + 12MP | 12MP Front Camera', 'A13 Bionic Chip Processor', 'Brand Warranty of 1 Year', '32 MB RAM | 32 MB ROM', '4.5 cm (1.77 inch) Display', '0.8MP Rear Camera', '4 GB RAM | 64 GB ROM | Expandable Upto 1 TB', '17.02 cm (6.7 inch) HD+ Display', '50MP + 2MP | 5MP Front Camera', '6000 mAh Lithium Polymer Battery', 'Qualcomm Snapdragon 680 Processor', '1 Year Warranty for Phone and 6 Months Warranty for In-Box Accessories', '64 GB ROM', '15.49 cm (6.1 inch) Liquid Retina HD Display', '12MP + 12MP | 12MP Front Camera', 'A13 Bionic Chip Processor', 'Brand Warranty of 1 Year', '128 GB ROM', '15.49 cm (6.1 inch) Super Retina XDR Display', '12MP + 12MP | 12MP Front Camera', 'A15 Bionic Chip, 6 Core Processor Processor', '1 Year Warranty for Phone and 6 Months Warranty for In-Box Accessories', '32 MB RAM | 32 MB ROM | Expandable Upto 32 GB', '6.1 cm (2.4 inch) Display', '0.8MP Rear Camera', '2000 mAh Battery', '1 Year Manufacturer Warranty', '4 GB RAM | 64 GB ROM | Expandable Upto 1 TB', '17.02 cm (6.7 inch) HD+ Display', '50MP + 2MP | 5MP Front Camera', '6000 mAh Lithium Polymer Battery', 'Qualcomm Snapdragon 680 Processor', '1 Year Warranty for Phone and 6 Months Warranty for In-Box Accessories', '128 GB ROM', '15.49 cm (6.1 inch) Super Retina XDR Display', '12MP + 12MP | 12MP Front Camera', 'A15 Bionic Chip, 6 Core Processor Processor', '1 Year Warranty for Phone and 6 Months Warranty for In-Box Accessories', '64 GB ROM', '15.49 cm (6.1 inch) Liquid Retina HD Display', '12MP + 12MP | 12MP Front Camera', 'A13 Bionic Chip Processor', 'Brand Warranty of 1 Year', '32 MB RAM | 32 MB ROM', '4.5 cm (1.77 inch) Display', '0.8MP Rear Camera', '4 GB RAM | 64 GB ROM | Expandable Upto 1 TB', '17.02 cm (6.7 inch) HD+ Display', '50MP + 2MP | 5MP Front Camera', '6000 mAh Lithium Polymer Battery', 'Qualcomm Snapdragon 680 Processor', '1 Year Warranty for Phone and 6 Months Warranty for In-Box Accessories', '128 GB ROM', '15.49 cm (6.1 inch) Super Retina XDR Display', '12MP + 12MP | 12MP Front Camera', 'A15 Bionic Chip, 6 Core Processor Processor', '1 Year Warranty for Phone and 6 Months Warranty for In-Box Accessories', '64 GB ROM', '15.49 cm (6.1 inch) Liquid Retina HD Display', '12MP + 12MP | 12MP Front Camera', 'A13 Bionic Chip Processor', 'Brand Warranty of 1 Year', '32 MB RAM | 32 MB ROM | Expandable Upto 32 GB', '6.1 cm (2.4 inch) Display', '0.8MP Rear Camera', '2000 mAh Battery', '1 Year Manufacturer Warranty', '4 GB RAM | 64 GB ROM | Expandable Upto 1 TB', '17.02 cm (6.7 inch) HD+ Display', '50MP + 2MP | 5MP Front Camera', '6000 mAh Lithium Polymer Battery', 'Qualcomm Snapdragon 680 Processor', '1 Year Warranty for Phone and 6 Months Warranty for In-Box Accessories', '128 GB ROM', '15.49 cm (6.1 inch) Super Retina XDR Display', '12MP + 12MP | 12MP Front Camera', 'A15 Bionic Chip, 6 Core Processor Processor', '1 Year Warranty for Phone and 6 Months Warranty for In-Box Accessories', '64 GB ROM', '15.49 cm (6.1 inch) Liquid Retina HD Display', '12MP + 12MP | 12MP Front Camera', 'A13 Bionic Chip Processor', 'Brand Warranty of 1 Year', '32 MB RAM | 32 MB ROM', '4.5 cm (1.77 inch) Display', '0.8MP Rear Camera', '1000 mAh Battery', '1 Year Manufacturer Warranty', '4 GB RAM | 64 GB ROM | Expandable Upto 1 TB', '17.02 cm (6.7 inch) HD+ Display', '50MP + 2MP | 5MP Front Camera', '6000 mAh Lithium Polymer Battery', 'Qualcomm Snapdragon 680 Processor', '1 Year Warranty for Phone and 6 Months Warranty for In-Box Accessories', '128 GB ROM', '15.49 cm (6.1 inch) Super Retina XDR Display', '12MP + 12MP | 12MP Front Camera', 'A15 Bionic Chip, 6 Core Processor Processor', '1 Year Warranty for Phone and 6 Months Warranty for In-Box Accessories', '64 GB ROM', '15.49 cm (6.1 inch) Liquid Retina HD Display', '12MP + 12MP | 12MP Front Camera', 'A13 Bionic Chip Processor', 'Brand Warranty of 1 Year', '32 MB RAM | 32 MB ROM', '4.5 cm (1.77 inch) Display', '0.8MP Rear Camera', '4 GB RAM | 64 GB ROM | Expandable Upto 1 TB', '17.02 cm (6.7 inch) HD+ Display', '50MP + 2MP | 5MP Front Camera', '6000 mAh Lithium Polymer Battery', 'Qualcomm Snapdragon 680 Processor', '1 Year Warranty for Phone and 6 Months Warranty for In-Box Accessories', '128 GB ROM', '15.49 cm (6.1 inch) Super Retina XDR Display', '12MP + 12MP | 12MP Front Camera', 'A15 Bionic Chip, 6 Core Processor Processor', '1 Year Warranty for Phone and 6 Months Warranty for In-Box Accessories', '64 GB ROM', '15.49 cm (6.1 inch) Liquid Retina HD Display', '12MP + 12MP | 12MP Front Camera', 'A13 Bionic Chip Processor', 'Brand Warranty of 1 Year', '32 MB RAM | 32 MB ROM | Expandable Upto 32 GB', '6.1 cm (2.4 inch) Display', '0.8MP Rear Camera', '2000 mAh Battery', '4 GB RAM | 64 GB ROM | Expandable Upto 1 TB', '17.02 cm (6.7 inch) HD+ Display', '50MP + 2MP | 5MP Front Camera', '6000 mAh Lithium Polymer Battery', 'Qualcomm Snapdragon 680 Processor', '1 Year Warranty for Phone and 6 Months Warranty for In-Box Accessories', '128 GB ROM', '15.49 cm (6.1 inch) Super Retina XDR Display', '12MP + 12MP | 12MP Front Camera', 'A15 Bionic Chip, 6 Core Processor Processor', '1 Year Warranty for Phone and 6 Months Warranty for In-Box Accessories', '64 GB ROM', '15.49 cm (6.1 inch) Liquid Retina HD Display', '12MP + 12MP | 12MP Front Camera', 'A13 Bionic Chip Processor', 'Brand Warranty of 1 Year', '32 MB RAM | 32 MB ROM | Expandable Upto 32 GB', '6.1 cm (2.4 inch) Display', '0.8MP Rear Camera', '2000 mAh Battery', '1 Year Manufacturer Warranty', '4 GB RAM | 64 GB ROM | Expandable Upto 1 TB', '17.02 cm (6.7 inch) HD+ Display', '50MP + 2MP | 5MP Front Camera', '6000 mAh Lithium Polymer Battery', 'Qualcomm Snapdragon 680 Processor', '1 Year Warranty for Phone and 6 Months Warranty for In-Box Accessories', '128 GB ROM', '15.49 cm (6.1 inch) Super Retina XDR Display', '12MP + 12MP | 12MP Front Camera', 'A15 Bionic Chip, 6 Core Processor Processor', '1 Year Warranty for Phone and 6 Months Warranty for In-Box Accessories', '64 GB ROM', '15.49 cm (6.1 inch) Liquid Retina HD Display', '12MP + 12MP | 12MP Front Camera', 'A13 Bionic Chip Processor', 'Brand Warranty of 1 Year', '32 MB RAM | 32 MB ROM', '4.5 cm (1.77 inch) Display', '0.8MP Rear Camera', '1000 mAh Battery', '1 Year Manufacturer Warranty', '4 GB RAM | 64 GB ROM | Expandable Upto 1 TB', '17.02 cm (6.7 inch) HD+ Display', '50MP + 2MP | 5MP Front Camera', '6000 mAh Lithium Polymer Battery', 'Qualcomm Snapdragon 680 Processor', '1 Year Warranty for Phone and 6 Months Warranty for In-Box Accessories', '128 GB ROM', '15.49 cm (6.1 inch) Super Retina XDR Display', '12MP + 12MP | 12MP Front Camera', 'A15 Bionic Chip, 6 Core Processor Processor', '1 Year Warranty for Phone and 6 Months Warranty for In-Box Accessories', '64 GB ROM', '15.49 cm (6.1 inch) Liquid Retina HD Display', '12MP + 12MP | 12MP Front Camera', 'A13 Bionic Chip Processor', 'Brand Warranty of 1 Year', '32 MB RAM | 32 MB ROM | Expandable Upto 32 GB', '6.1 cm (2.4 inch) Display', '4 GB RAM | 64 GB ROM | Expandable Upto 1 TB', '17.02 cm (6.7 inch) HD+ Display', '50MP + 2MP | 5MP Front Camera', '6000 mAh Lithium Polymer Battery', 'Qualcomm Snapdragon 680 Processor', '1 Year Warranty for Phone and 6 Months Warranty for In-Box Accessories', '128 GB ROM', '15.49 cm (6.1 inch) Super Retina XDR Display', '12MP + 12MP | 12MP Front Camera', 'A15 Bionic Chip, 6 Core Processor Processor', '1 Year Warranty for Phone and 6 Months Warranty for In-Box Accessories', '64 GB ROM', '15.49 cm (6.1 inch) Liquid Retina HD Display', '12MP + 12MP | 12MP Front Camera', 'A13 Bionic Chip Processor', 'Brand Warranty of 1 Year', '32 MB RAM | 32 MB ROM | Expandable Upto 32 GB', '6.1 cm (2.4 inch) Display', '4 GB RAM | 64 GB ROM | Expandable Upto 1 TB', '17.02 cm (6.7 inch) HD+ Display', '50MP + 2MP | 5MP Front Camera', '6000 mAh Lithium Polymer Battery', 'Qualcomm Snapdragon 680 Processor', '1 Year Warranty for Phone and 6 Months Warranty for In-Box Accessories', '128 GB ROM', '15.49 cm (6.1 inch) Super Retina XDR Display', '12MP + 12MP | 12MP Front Camera', 'A15 Bionic Chip, 6 Core Processor Processor', '1 Year Warranty for Phone and 6 Months Warranty for In-Box Accessories', '64 GB ROM', '15.49 cm (6.1 inch) Liquid Retina HD Display', '12MP + 12MP | 12MP Front Camera', 'A13 Bionic Chip Processor', 'Brand Warranty of 1 Year', '32 MB RAM | 32 MB ROM', '6.1 cm (2.4 inch) Display', '4 GB RAM | 64 GB ROM | Expandable Upto 1 TB', '17.02 cm (6.7 inch) HD+ Display', '50MP + 2MP | 5MP Front Camera', '6000 mAh Lithium Polymer Battery', 'Qualcomm Snapdragon 680 Processor', '1 Year Warranty for Phone and 6 Months Warranty for In-Box Accessories', '128 GB ROM', '15.49 cm (6.1 inch) Super Retina XDR Display', '12MP + 12MP | 12MP Front Camera', 'A15 Bionic Chip, 6 Core Processor Processor', '1 Year Warranty for Phone and 6 Months Warranty for In-Box Accessories', '64 GB ROM', '15.49 cm (6.1 inch) Liquid Retina HD Display', '12MP + 12MP | 12MP Front Camera', 'A13 Bionic Chip Processor', 'Brand Warranty of 1 Year', '32 MB RAM | 32 MB ROM', '4.5 cm (1.77 inch) Display', '0.8MP Rear Camera', '1000 mAh Battery', '1 Year Manufacturer Warranty', '128 GB ROM'] ['₹8,999', '₹67,999', '₹37,999', '₹1,449', '₹67,999', '₹8,999', '₹37,999', '₹1,459', '₹11,999', '₹10,999', '₹10,999', '₹1,459', '₹7,499', '₹11,999', '₹14,999', '₹1,348', '₹7,999', '₹7,499', '₹6,499', '₹7,999', '₹8,999', '₹67,999', '₹37,999', '₹1,459', '₹67,999', '₹37,999', '₹8,999', '₹1,049', '₹11,999', '₹10,999', '₹7,499', '₹1,149', '₹11,999', '₹10,999', '₹14,999', '₹1,149', '₹7,999', '₹7,499', '₹8,999', '₹67,999', '₹37,999', '₹1,449', '₹67,999', '₹37,999', '₹8,999', '₹1,049', '₹8,999', '₹11,999', '₹7,499', '₹1,459', '₹10,999', '₹10,999', '₹11,999', '₹1,229', '₹14,999', '₹7,999', '₹7,499', '₹8,999', '₹67,999', '₹37,999', '₹1,449', '₹67,999', '₹37,999', '₹8,999', '₹1,459', '₹11,999', '₹7,499', '₹10,999', '₹1,348', '₹10,999', '₹11,999', '₹14,999', '₹7,999', '₹7,499', '₹6,499', '₹7,999', '₹7,199', '₹14,999', '₹8,999', '₹67,999', '₹37,999', '₹1,449', '₹67,999', '₹37,999', '₹8,999', '₹1,049', '₹8,999', '₹11,999', '₹10,999', '₹1,459', '₹7,499', '₹10,999', '₹11,999', '₹1,229', '₹14,999', '₹7,999', '₹7,499', '₹8,999', '₹67,999', '₹37,999', '₹1,449', '₹67,999', '₹37,999', '₹8,999', '₹1,459', '₹8,999', '₹11,999', '₹7,499', '₹1,229', '₹10,999', '₹10,999', '₹11,999', '₹1,149', '₹14,999', '₹7,499', '₹8,999', '₹37,999', '₹67,999', '₹1,449', '₹67,999', '₹37,999', '₹8,999', '₹1,459', '₹11,999', '₹7,499', '₹10,999', '₹1,459', '₹10,999', '₹11,999', '₹14,999', '₹1,348', '₹7,999', '₹7,499', '₹7,199', '₹6,499', '₹8,999', '₹67,999', '₹37,999', '₹1,049', '₹67,999', '₹37,999', '₹8,999', '₹1,459', '₹11,999', '₹10,999', '₹7,499', '₹1,348', '₹10,999', '₹11,999', '₹14,999', '₹7,999', '₹7,499', '₹6,499', '₹7,999', '₹7,199', '₹8,999', '₹8,999', '₹67,999', '₹37,999', '₹1,459', '₹67,999', '₹37,999', '₹8,999', '₹1,049', '₹11,999', '₹7,499', '₹10,999', '₹1,149', '₹10,999', '₹11,999', '₹14,999', '₹1,149', '₹7,499', '₹7,999', '₹8,999', '₹67,999', '₹37,999', '₹1,179', '₹67,999', '₹37,999', '₹8,999', '₹1,229', '₹11,999', '₹7,499', '₹10,999', '₹1,049', '₹11,999', '₹10,999', '₹14,999', '₹1,149', '₹7,499', '₹7,999', '₹8,999', '₹67,999', '₹37,999', '₹1,179', '₹67,999', '₹37,999', '₹8,999', '₹1,479', '₹11,999', '₹7,499', '₹10,999', '₹1,459', '₹10,999', '₹11,999', '₹14,999', '₹1,049', '₹7,499', '₹7,999', '₹8,999', '₹67,999', '₹37,999', '₹1,449', '₹8,999', '₹67,999', '₹8,999', '₹1,049', '₹37,999', '₹11,999', '₹7,499', '₹1,459', '₹10,999', '₹11,999', '₹10,999', '₹1,229', '₹14,999', '₹7,999', '₹7,499', '₹8,999', '₹67,999', '₹37,999', '₹1,449', '₹67,999', '₹37,999', '₹8,999', '₹1,049', '₹8,999', '₹11,999', '₹10,999', '₹1,459', '₹7,499', '₹10,999', '₹11,999', '₹1,229', '₹14,999', '₹7,999', '₹7,499', '₹8,999', '₹67,999', '₹37,999', '₹1,459', '₹67,999', '₹8,999', '₹37,999', '₹1,459', '₹8,999', '₹11,999', '₹10,999', '₹1,229', '₹7,499', '₹10,999', '₹11,999', '₹1,149', '₹14,999', '₹7,999', '₹8,999', '₹67,999', '₹37,999', '₹1,049', '₹67,999', '₹37,999', '₹8,999', '₹1,348', '₹11,999', '₹7,499', '₹10,999', '₹10,999', '₹11,999', '₹14,999', '₹7,499', '₹7,999', '₹6,499', '₹7,199', '₹7,999', '₹14,999', '₹14,999', '₹14,999', '₹8,999', '₹67,999', '₹37,999', '₹1,449', '₹67,999', '₹8,999', '₹37,999', '₹1,049', '₹8,999', '₹11,999', '₹7,499', '₹1,459', '₹10,999', '₹10,999', '₹11,999', '₹1,229', '₹14,999', '₹7,999', '₹7,499', '₹8,999', '₹67,999', '₹37,999', '₹1,459', '₹67,999', '₹37,999', '₹8,999', '₹1,229', '₹11,999', '₹7,499', '₹10,999', '₹1,049', '₹10,999', '₹11,999', '₹14,999', '₹1,149', '₹7,999', '₹7,499', '₹8,999', '₹67,999', '₹37,999', '₹1,479', '₹8,999', '₹67,999', '₹37,999', '₹1,049', '₹8,999', '₹11,999', '₹7,499', '₹1,459', '₹10,999', '₹10,999', '₹11,999', '₹1,229', '₹14,999', '₹7,499', '₹7,999', '₹8,999', '₹67,999', '₹37,999', '₹1,449', '₹67,999', '₹8,999', '₹8,999', '₹1,459', '₹37,999', '₹11,999', '₹7,499', '₹1,049', '₹10,999', '₹10,999', '₹11,999', '₹1,229', '₹14,999', '₹7,999', '₹7,499', '₹8,999', '₹67,999', '₹37,999', '₹1,459', '₹67,999', '₹8,999', '₹8,999', '₹1,459', '₹37,999', '₹11,999', '₹10,999', '₹1,229', '₹10,999', '₹7,499', '₹11,999', '₹1,149', '₹14,999', '₹7,999', '₹8,999', '₹67,999', '₹37,999', '₹1,479', '₹67,999', '₹37,999', '₹8,999', '₹1,229', '₹11,999', '₹10,999', '₹7,499', '₹1,049', '₹11,999', '₹10,999', '₹14,999', '₹1,149', '₹7,499', '₹7,999', '₹8,999', '₹67,999', '₹37,999', '₹1,449', '₹67,999', '₹8,999', '₹37,999', '₹1,049', '₹8,999', '₹11,999', '₹7,499', '₹1,459', '₹10,999', '₹10,999', '₹11,999', '₹1,229', '₹14,999', '₹7,999', '₹7,499', '₹8,999', '₹67,999', '₹37,999', '₹1,459', '₹67,999', '₹37,999', '₹8,999', '₹1,459', '₹8,999', '₹11,999', '₹7,499', '₹1,229', '₹10,999', '₹10,999', '₹11,999', '₹1,149', '₹14,999', '₹7,999', '₹8,999', '₹37,999', '₹67,999', '₹1,479', '₹8,999', '₹67,999', '₹8,999', '₹1,459', '₹37,999', '₹11,999', '₹10,999', '₹1,229', '₹7,499', '₹11,999', '₹14,999', '₹1,149', '₹10,999', '₹7,499', '₹8,999', '₹67,999', '₹37,999', '₹1,449', '₹67,999', '₹37,999', '₹8,999', '₹1,229', '₹11,999', '₹7,499', '₹10,999', '₹1,049', '₹10,999', '₹11,999', '₹14,999', '₹1,149', '₹7,999', '₹7,499', '₹8,999', '₹67,999', '₹37,999', '₹1,449', '₹67,999', '₹37,999', '₹8,999', '₹1,049', '₹8,999', '₹11,999', '₹10,999', '₹1,459', '₹7,499', '₹10,999', '₹11,999', '₹1,229', '₹14,999', '₹7,999', '₹7,499', '₹8,999', '₹67,999', '₹37,999', '₹1,049', '₹67,999', '₹8,999', '₹37,999', '₹1,229', '₹8,999', '₹11,999', '₹7,499', '₹1,149', '₹10,999', '₹10,999', '₹11,999', '₹1,149', '₹14,999', '₹7,499', '₹7,999', '₹8,999', '₹37,999', '₹67,999', '₹1,449', '₹67,999', '₹8,999', '₹37,999', '₹1,459', '₹11,999', '₹7,499', '₹10,999', '₹1,348', '₹10,999', '₹11,999', '₹14,999', '₹7,499', '₹7,999', '₹7,999', '₹7,199', '₹6,499', '₹14,999', '₹8,999', '₹67,999', '₹37,999', '₹1,049', '₹67,999', '₹8,999', '₹37,999', '₹1,229', '₹11,999', '₹10,999', '₹7,499', '₹1,149', '₹10,999', '₹14,999', '₹7,999', '₹1,149', '₹7,499', '₹6,499', '₹14,999', '₹8,999', '₹67,999', '₹37,999', '₹1,449', '₹67,999', '₹37,999', '₹8,999', '₹1,459', '₹11,999', '₹10,999', '₹7,499', '₹1,348', '₹10,999', '₹11,999', '₹14,999', '₹7,999', '₹7,499', '₹6,499', '₹7,199', '₹7,999', '₹14,999', '₹8,999', '₹67,999', '₹37,999', '₹1,049', '₹67,999', '₹37,999', '₹8,999', '₹1,459', '₹11,999', '₹10,999', '₹7,499', '₹1,348', '₹11,999', '₹10,999', '₹14,999', '₹7,499', '₹7,999', '₹6,499', '₹7,999', '₹7,199', '₹8,999', '₹8,999', '₹67,999', '₹37,999', '₹1,049', '₹67,999', '₹8,999', '₹37,999', '₹1,229', '₹8,999', '₹11,999', '₹10,999', '₹1,149', '₹7,499', '₹10,999', '₹11,999', '₹1,149', '₹14,999', '₹7,999', '₹7,499', '₹8,999', '₹67,999', '₹37,999', '₹1,449', '₹67,999', '₹37,999', '₹8,999', '₹1,049', '₹11,999', '₹7,499', '₹10,999', '₹1,459', '₹10,999', '₹11,999', '₹14,999', '₹1,348', '₹7,499', '₹7,999', '₹7,199', '₹6,499', '₹8,999', '₹67,999', '₹37,999', '₹1,449', '₹67,999', '₹8,999', '₹37,999', '₹1,459', '₹11,999', '₹7,499', '₹10,999', '₹1,348', '₹10,999', '₹11,999', '₹14,999', '₹7,999', '₹7,499', '₹7,999', '₹6,499', '₹7,199', '₹14,999', '₹8,999', '₹67,999', '₹37,999', '₹1,049', '₹67,999', '₹37,999', '₹8,999', '₹1,459', '₹11,999', '₹7,499', '₹10,999', '₹1,348', '₹10,999', '₹11,999', '₹14,999', '₹7,499', '₹7,999', '₹7,199', '₹6,499', '₹7,999', '₹14,999', '₹8,999', '₹67,999', '₹37,999', '₹1,459', '₹67,999', '₹37,999', '₹8,999', '₹1,459', '₹8,999', '₹11,999', '₹7,499', '₹1,229', '₹10,999', '₹10,999', '₹11,999', '₹1,149', '₹14,999', '₹7,499', '₹8,999', '₹67,999', '₹37,999', '₹1,449', '₹67,999', '₹8,999', '₹37,999', '₹1,459', '₹8,999', '₹11,999', '₹7,499', '₹1,229', '₹10,999', '₹10,999', '₹11,999', '₹1,149', '₹14,999', '₹7,499', '₹8,999', '₹67,999', '₹37,999', '₹1,479', '₹67,999', '₹8,999', '₹37,999', '₹1,229', '₹11,999', '₹7,499', '₹10,999', '₹1,049', '₹11,999', '₹10,999', '₹14,999', '₹1,149', '₹7,499', '₹7,999', '₹8,999', '₹67,999', '₹37,999', '₹1,049', '₹67,999', '₹37,999', '₹8,999', '₹1,348', '₹11,999', '₹7,499', '₹10,999', '₹10,999', '₹11,999', '₹14,999', '₹7,499', '₹7,999', '₹6,499', '₹7,999', '₹7,199', '₹14,999', '₹14,999', '₹11,999'] ['₹14,999', '₹79,900', '₹43,900', '₹79,900', '₹14,999', '₹43,900', '₹19,999', '₹17,999', '₹17,999', '₹11,999', '₹14,999', '₹23,999', '₹10,999', '₹11,999', '₹10,999', '₹10,999', '₹9,999', '₹16,999', '₹23,999', '₹14,999', '₹14,999', '₹79,900', '₹43,900', '₹79,900', '₹43,900', '₹14,999', '₹19,999', '₹17,999', '₹11,999', '₹14,999', '₹17,999', '₹23,999', '₹10,999', '₹11,999', '₹10,999', '₹10,999', '₹9,999', '₹14,999', '₹14,999', '₹79,900', '₹43,900', '₹79,900', '₹43,900', '₹14,999', '₹1,098', '₹14,999', '₹19,999', '₹11,999', '₹17,999', '₹17,999', '₹14,999', '₹23,999', '₹10,999', '₹11,999', '₹10,999', '₹10,999', '₹21,999', '₹14,999', '₹79,900', '₹43,900', '₹79,900', '₹43,900', '₹14,999', '₹19,999', '₹11,999', '₹17,999', '₹17,999', '₹14,999', '₹23,999', '₹10,999', '₹11,999', '₹10,999', '₹10,999', '₹9,999', '₹23,999', '₹19,999', '₹21,999', '₹16,999', '₹14,999', '₹79,900', '₹43,900', '₹79,900', '₹43,900', '₹14,999', '₹1,098', '₹14,999', '₹19,999', '₹17,999', '₹11,999', '₹17,999', '₹14,999', '₹23,999', '₹10,999', '₹11,999', '₹10,999', '₹10,999', '₹21,999', '₹14,999', '₹79,900', '₹43,900', '₹79,900', '₹43,900', '₹14,999', '₹14,999', '₹19,999', '₹11,999', '₹17,999', '₹17,999', '₹14,999', '₹23,999', '₹11,999', '₹10,999', '₹10,999', '₹10,999', '₹21,999', '₹14,999', '₹43,900', '₹79,900', '₹79,900', '₹43,900', '₹14,999', '₹19,999', '₹11,999', '₹17,999', '₹17,999', '₹14,999', '₹23,999', '₹10,999', '₹11,999', '₹9,999', '₹10,999', '₹10,999', '₹23,999', '₹21,999', '₹16,999', '₹14,999', '₹79,900', '₹43,900', '₹79,900', '₹43,900', '₹14,999', '₹19,999', '₹17,999', '₹11,999', '₹17,999', '₹14,999', '₹23,999', '₹10,999', '₹11,999', '₹10,999', '₹10,999', '₹9,999', '₹14,999', '₹23,999', '₹21,999', '₹16,999', '₹14,999', '₹79,900', '₹43,900', '₹79,900', '₹43,900', '₹14,999', '₹19,999', '₹11,999', '₹17,999', '₹17,999', '₹14,999', '₹23,999', '₹11,999', '₹10,999', '₹10,999', '₹10,999', '₹9,999', '₹23,999', '₹14,999', '₹79,900', '₹43,900', '₹79,900', '₹43,900', '₹14,999', '₹19,999', '₹11,999', '₹17,999', '₹14,999', '₹17,999', '₹23,999', '₹11,999', '₹10,999', '₹10,999', '₹9,999', '₹10,999', '₹21,999', '₹14,999', '₹79,900', '₹43,900', '₹79,900', '₹43,900', '₹14,999', '₹19,999', '₹11,999', '₹17,999', '₹17,999', '₹14,999', '₹23,999', '₹11,999', '₹10,999', '₹10,999', '₹9,999', '₹10,999', '₹21,999', '₹14,999', '₹79,900', '₹43,900', '₹14,999', '₹79,900', '₹14,999', '₹1,098', '₹43,900', '₹19,999', '₹11,999', '₹17,999', '₹14,999', '₹17,999', '₹23,999', '₹10,999', '₹11,999', '₹10,999', '₹10,999', '₹21,999', '₹14,999', '₹79,900', '₹43,900', '₹79,900', '₹43,900', '₹14,999', '₹1,098', '₹14,999', '₹19,999', '₹17,999', '₹11,999', '₹17,999', '₹14,999', '₹23,999', '₹10,999', '₹11,999', '₹10,999', '₹10,999', '₹21,999', '₹14,999', '₹79,900', '₹43,900', '₹79,900', '₹14,999', '₹43,900', '₹14,999', '₹19,999', '₹17,999', '₹11,999', '₹17,999', '₹14,999', '₹23,999', '₹10,999', '₹11,999', '₹10,999', '₹10,999', '₹21,999', '₹14,999', '₹79,900', '₹43,900', '₹79,900', '₹43,900', '₹14,999', '₹19,999', '₹11,999', '₹17,999', '₹17,999', '₹14,999', '₹23,999', '₹11,999', '₹10,999', '₹10,999', '₹9,999', '₹10,999', '₹23,999', '₹21,999', '₹16,999', '₹14,999', '₹19,999', '₹14,999', '₹79,900', '₹43,900', '₹79,900', '₹14,999', '₹43,900', '₹1,098', '₹14,999', '₹19,999', '₹11,999', '₹17,999', '₹17,999', '₹14,999', '₹23,999', '₹10,999', '₹11,999', '₹10,999', '₹10,999', '₹21,999', '₹14,999', '₹79,900', '₹43,900', '₹79,900', '₹43,900', '₹14,999', '₹19,999', '₹11,999', '₹17,999', '₹17,999', '₹14,999', '₹23,999', '₹10,999', '₹11,999', '₹10,999', '₹9,999', '₹10,999', '₹23,999', '₹14,999', '₹79,900', '₹43,900', '₹14,999', '₹79,900', '₹43,900', '₹1,098', '₹14,999', '₹19,999', '₹11,999', '₹17,999', '₹17,999', '₹14,999', '₹23,999', '₹11,999', '₹10,999', '₹10,999', '₹10,999', '₹23,999', '₹14,999', '₹79,900', '₹43,900', '₹79,900', '₹14,999', '₹14,999', '₹43,900', '₹19,999', '₹11,999', '₹1,098', '₹17,999', '₹17,999', '₹14,999', '₹23,999', '₹10,999', '₹11,999', '₹10,999', '₹10,999', '₹21,999', '₹14,999', '₹79,900', '₹43,900', '₹79,900', '₹14,999', '₹14,999', '₹43,900', '₹19,999', '₹17,999', '₹17,999', '₹11,999', '₹14,999', '₹23,999', '₹10,999', '₹11,999', '₹10,999', '₹10,999', '₹16,999', '₹14,999', '₹79,900', '₹43,900', '₹79,900', '₹43,900', '₹14,999', '₹19,999', '₹17,999', '₹11,999', '₹14,999', '₹17,999', '₹23,999', '₹11,999', '₹10,999', '₹10,999', '₹9,999', '₹10,999', '₹21,999', '₹14,999', '₹79,900', '₹43,900', '₹79,900', '₹14,999', '₹43,900', '₹1,098', '₹14,999', '₹19,999', '₹11,999', '₹17,999', '₹17,999', '₹14,999', '₹23,999', '₹10,999', '₹11,999', '₹10,999', '₹10,999', '₹23,999', '₹14,999', '₹79,900', '₹43,900', '₹79,900', '₹43,900', '₹14,999', '₹14,999', '₹19,999', '₹11,999', '₹17,999', '₹17,999', '₹14,999', '₹23,999', '₹10,999', '₹11,999', '₹10,999', '₹10,999', '₹21,999', '₹14,999', '₹43,900', '₹79,900', '₹14,999', '₹79,900', '₹14,999', '₹43,900', '₹19,999', '₹17,999', '₹11,999', '₹14,999', '₹23,999', '₹17,999', '₹11,999', '₹10,999', '₹10,999', '₹10,999', '₹23,999', '₹14,999', '₹79,900', '₹43,900', '₹79,900', '₹43,900', '₹14,999', '₹19,999', '₹11,999', '₹17,999', '₹17,999', '₹14,999', '₹23,999', '₹10,999', '₹11,999', '₹9,999', '₹10,999', '₹10,999', '₹14,999', '₹14,999', '₹79,900', '₹43,900', '₹79,900', '₹43,900', '₹14,999', '₹1,098', '₹14,999', '₹19,999', '₹17,999', '₹11,999', '₹17,999', '₹14,999', '₹23,999', '₹10,999', '₹11,999', '₹10,999', '₹10,999', '₹21,999', '₹14,999', '₹79,900', '₹43,900', '₹1,098', '₹79,900', '₹14,999', '₹43,900', '₹14,999', '₹19,999', '₹11,999', '₹17,999', '₹17,999', '₹14,999', '₹23,999', '₹11,999', '₹10,999', '₹10,999', '₹10,999', '₹16,999', '₹14,999', '₹43,900', '₹79,900', '₹79,900', '₹14,999', '₹43,900', '₹19,999', '₹11,999', '₹17,999', '₹17,999', '₹14,999', '₹23,999', '₹11,999', '₹10,999', '₹10,999', '₹9,999', '₹10,999', '₹23,999', '₹19,999', '₹16,999', '₹19,999', '₹14,999', '₹79,900', '₹43,900', '₹1,098', '₹79,900', '₹14,999', '₹43,900', '₹19,999', '₹17,999', '₹11,999', '₹17,999', '₹23,999', '₹10,999', '₹11,999', '₹10,999', '₹21,999', '₹23,999', '₹19,999', '₹16,999', '₹14,999', '₹79,900', '₹43,900', '₹79,900', '₹43,900', '₹14,999', '₹19,999', '₹17,999', '₹11,999', '₹17,999', '₹14,999', '₹23,999', '₹10,999', '₹11,999', '₹10,999', '₹9,999', '₹10,999', '₹21,999', '₹23,999', '₹19,999', '₹16,999', '₹14,999', '₹79,900', '₹43,900', '₹79,900', '₹43,900', '₹14,999', '₹19,999', '₹17,999', '₹11,999', '₹14,999', '₹17,999', '₹23,999', '₹11,999', '₹10,999', '₹10,999', '₹10,999', '₹9,999', '₹14,999', '₹21,999', '₹23,999', '₹19,999', '₹14,999', '₹79,900', '₹43,900', '₹1,098', '₹79,900', '₹14,999', '₹43,900', '₹14,999', '₹19,999', '₹17,999', '₹11,999', '₹17,999', '₹14,999', '₹23,999', '₹10,999', '₹11,999', '₹10,999', '₹10,999', '₹21,999', '₹14,999', '₹79,900', '₹43,900', '₹79,900', '₹43,900', '₹14,999', '₹19,999', '₹11,999', '₹17,999', '₹17,999', '₹14,999', '₹23,999', '₹11,999', '₹10,999', '₹9,999', '₹10,999', '₹10,999', '₹21,999', '₹23,999', '₹19,999', '₹14,999', '₹79,900', '₹43,900', '₹79,900', '₹14,999', '₹43,900', '₹19,999', '₹11,999', '₹17,999', '₹17,999', '₹14,999', '₹23,999', '₹10,999', '₹11,999', '₹10,999', '₹10,999', '₹9,999', '₹16,999', '₹23,999', '₹14,999', '₹21,999', '₹14,999', '₹79,900', '₹43,900', '₹79,900', '₹43,900', '₹14,999', '₹19,999', '₹11,999', '₹17,999', '₹17,999', '₹14,999', '₹23,999', '₹11,999', '₹10,999', '₹9,999', '₹10,999', '₹10,999', '₹16,999', '₹21,999', '₹23,999', '₹14,999', '₹14,999', '₹79,900', '₹43,900', '₹79,900', '₹43,900', '₹14,999', '₹14,999', '₹19,999', '₹11,999', '₹17,999', '₹17,999', '₹14,999', '₹23,999', '₹11,999', '₹10,999', '₹10,999', '₹10,999', '₹21,999', '₹14,999', '₹79,900', '₹43,900', '₹79,900', '₹14,999', '₹43,900', '₹14,999', '₹19,999', '₹11,999', '₹17,999', '₹17,999', '₹14,999', '₹23,999', '₹11,999', '₹10,999', '₹10,999', '₹10,999', '₹21,999', '₹14,999', '₹79,900', '₹43,900', '₹79,900', '₹14,999', '₹43,900', '₹19,999', '₹11,999', '₹17,999', '₹14,999', '₹17,999', '₹23,999', '₹11,999', '₹10,999', '₹10,999', '₹10,999', '₹9,999', '₹14,999', '₹14,999', '₹79,900', '₹43,900', '₹79,900', '₹43,900', '₹14,999', '₹19,999', '₹11,999', '₹17,999', '₹17,999', '₹14,999', '₹23,999', '₹11,999', '₹10,999', '₹10,999', '₹10,999', '₹9,999', '₹21,999', '₹23,999', '₹19,999', '₹16,999', '₹14,999'] ['40% off', '14% off', '13% off', '14% off', '40% off', '13% off', '40% off', '38% off', '38% off', '37% off', '20% off', '37% off', '27% off', '37% off', '40% off', '27% off', '28% off', '11% off', '37% off', '40% off', '40% off', '14% off', '13% off', '14% off', '13% off', '40% off', '40% off', '38% off', '37% off', '20% off', '38% off', '37% off', '27% off', '37% off', '40% off', '27% off', '28% off', '40% off', '40% off', '14% off', '13% off', '14% off', '13% off', '40% off', '4% off', '40% off', '40% off', '37% off', '38% off', '38% off', '20% off', '37% off', '27% off', '37% off', '40% off', '27% off', '31% off', '40% off', '14% off', '13% off', '14% off', '13% off', '40% off', '40% off', '37% off', '38% off', '38% off', '20% off', '37% off', '27% off', '37% off', '40% off', '27% off', '28% off', '37% off', '15% off', '31% off', '11% off', '40% off', '14% off', '13% off', '14% off', '13% off', '40% off', '4% off', '40% off', '40% off', '38% off', '37% off', '38% off', '20% off', '37% off', '27% off', '37% off', '40% off', '27% off', '31% off', '40% off', '14% off', '13% off', '14% off', '13% off', '40% off', '40% off', '40% off', '37% off', '38% off', '38% off', '20% off', '37% off', '37% off', '27% off', '40% off', '27% off', '31% off', '40% off', '13% off', '14% off', '14% off', '13% off', '40% off', '40% off', '37% off', '38% off', '38% off', '20% off', '37% off', '27% off', '37% off', '28% off', '40% off', '27% off', '37% off', '31% off', '11% off', '40% off', '14% off', '13% off', '14% off', '13% off', '40% off', '40% off', '38% off', '37% off', '38% off', '20% off', '37% off', '27% off', '37% off', '40% off', '27% off', '28% off', '40% off', '37% off', '31% off', '11% off', '40% off', '14% off', '13% off', '14% off', '13% off', '40% off', '40% off', '37% off', '38% off', '38% off', '20% off', '37% off', '37% off', '27% off', '40% off', '27% off', '28% off', '37% off', '40% off', '14% off', '13% off', '14% off', '13% off', '40% off', '40% off', '37% off', '38% off', '20% off', '38% off', '37% off', '37% off', '27% off', '40% off', '28% off', '27% off', '31% off', '40% off', '14% off', '13% off', '14% off', '13% off', '40% off', '40% off', '37% off', '38% off', '38% off', '20% off', '37% off', '37% off', '27% off', '27% off', '28% off', '40% off', '31% off', '40% off', '14% off', '13% off', '40% off', '14% off', '40% off', '4% off', '13% off', '40% off', '37% off', '38% off', '20% off', '38% off', '37% off', '27% off', '37% off', '40% off', '27% off', '31% off', '40% off', '14% off', '13% off', '14% off', '13% off', '40% off', '4% off', '40% off', '40% off', '38% off', '37% off', '38% off', '20% off', '37% off', '27% off', '37% off', '40% off', '27% off', '31% off', '40% off', '14% off', '13% off', '14% off', '40% off', '13% off', '40% off', '40% off', '38% off', '37% off', '38% off', '20% off', '37% off', '27% off', '37% off', '40% off', '27% off', '31% off', '40% off', '14% off', '13% off', '14% off', '13% off', '40% off', '40% off', '37% off', '38% off', '38% off', '20% off', '37% off', '37% off', '27% off', '40% off', '28% off', '27% off', '37% off', '31% off', '11% off', '40% off', '15% off', '40% off', '14% off', '13% off', '14% off', '40% off', '13% off', '4% off', '40% off', '40% off', '37% off', '38% off', '38% off', '20% off', '37% off', '27% off', '37% off', '40% off', '27% off', '31% off', '40% off', '14% off', '13% off', '14% off', '13% off', '40% off', '40% off', '37% off', '38% off', '38% off', '20% off', '37% off', '27% off', '37% off', '40% off', '28% off', '27% off', '37% off', '40% off', '14% off', '13% off', '40% off', '14% off', '13% off', '4% off', '40% off', '40% off', '37% off', '38% off', '38% off', '20% off', '37% off', '37% off', '27% off', '27% off', '40% off', '37% off', '40% off', '14% off', '13% off', '14% off', '40% off', '40% off', '13% off', '40% off', '37% off', '4% off', '38% off', '38% off', '20% off', '37% off', '27% off', '37% off', '27% off', '40% off', '31% off', '40% off', '14% off', '13% off', '14% off', '40% off', '40% off', '13% off', '40% off', '38% off', '38% off', '37% off', '20% off', '37% off', '27% off', '37% off', '40% off', '27% off', '11% off', '40% off', '14% off', '13% off', '14% off', '13% off', '40% off', '40% off', '38% off', '37% off', '20% off', '38% off', '37% off', '37% off', '27% off', '40% off', '28% off', '27% off', '31% off', '40% off', '14% off', '13% off', '14% off', '40% off', '13% off', '4% off', '40% off', '40% off', '37% off', '38% off', '38% off', '20% off', '37% off', '27% off', '37% off', '40% off', '27% off', '37% off', '40% off', '14% off', '13% off', '14% off', '13% off', '40% off', '40% off', '40% off', '37% off', '38% off', '38% off', '20% off', '37% off', '27% off', '37% off', '40% off', '27% off', '31% off', '40% off', '13% off', '14% off', '40% off', '14% off', '40% off', '13% off', '40% off', '38% off', '37% off', '20% off', '37% off', '38% off', '37% off', '27% off', '27% off', '40% off', '37% off', '40% off', '14% off', '13% off', '14% off', '13% off', '40% off', '40% off', '37% off', '38% off', '38% off', '20% off', '37% off', '27% off', '37% off', '28% off', '40% off', '27% off', '40% off', '40% off', '14% off', '13% off', '14% off', '13% off', '40% off', '4% off', '40% off', '40% off', '38% off', '37% off', '38% off', '20% off', '37% off', '27% off', '37% off', '40% off', '27% off', '31% off', '40% off', '14% off', '13% off', '4% off', '14% off', '40% off', '13% off', '40% off', '40% off', '37% off', '38% off', '38% off', '20% off', '37% off', '37% off', '27% off', '40% off', '27% off', '11% off', '40% off', '13% off', '14% off', '14% off', '40% off', '13% off', '40% off', '37% off', '38% off', '38% off', '20% off', '37% off', '37% off', '27% off', '27% off', '28% off', '40% off', '37% off', '40% off', '11% off', '15% off', '40% off', '14% off', '13% off', '4% off', '14% off', '40% off', '13% off', '40% off', '38% off', '37% off', '38% off', '37% off', '27% off', '37% off', '40% off', '31% off', '37% off', '15% off', '11% off', '40% off', '14% off', '13% off', '14% off', '13% off', '40% off', '40% off', '38% off', '37% off', '38% off', '20% off', '37% off', '27% off', '37% off', '40% off', '28% off', '27% off', '31% off', '37% off', '40% off', '11% off', '40% off', '14% off', '13% off', '14% off', '13% off', '40% off', '40% off', '38% off', '37% off', '20% off', '38% off', '37% off', '37% off', '27% off', '40% off', '27% off', '28% off', '40% off', '31% off', '37% off', '15% off', '40% off', '14% off', '13% off', '4% off', '14% off', '40% off', '13% off', '40% off', '40% off', '38% off', '37% off', '38% off', '20% off', '37% off', '27% off', '37% off', '40% off', '27% off', '31% off', '40% off', '14% off', '13% off', '14% off', '13% off', '40% off', '40% off', '37% off', '38% off', '38% off', '20% off', '37% off', '37% off', '27% off', '28% off', '40% off', '27% off', '31% off', '37% off', '15% off', '40% off', '14% off', '13% off', '14% off', '40% off', '13% off', '40% off', '37% off', '38% off', '38% off', '20% off', '37% off', '27% off', '37% off', '27% off', '40% off', '28% off', '11% off', '37% off', '40% off', '31% off', '40% off', '14% off', '13% off', '14% off', '13% off', '40% off', '40% off', '37% off', '38% off', '38% off', '20% off', '37% off', '37% off', '27% off', '28% off', '40% off', '27% off', '11% off', '31% off', '37% off', '40% off', '40% off', '14% off', '13% off', '14% off', '13% off', '40% off', '40% off', '40% off', '37% off', '38% off', '38% off', '20% off', '37% off', '37% off', '27% off', '40% off', '27% off', '31% off', '40% off', '14% off', '13% off', '14% off', '40% off', '13% off', '40% off', '40% off', '37% off', '38% off', '38% off', '20% off', '37% off', '37% off', '27% off', '27% off', '40% off', '31% off', '40% off', '14% off', '13% off', '14% off', '40% off', '13% off', '40% off', '37% off', '38% off', '20% off', '38% off', '37% off', '37% off', '27% off', '40% off', '27% off', '28% off', '40% off', '40% off', '14% off', '13% off', '14% off', '13% off', '40% off', '40% off', '37% off', '38% off', '38% off', '20% off', '37% off', '37% off', '27% off', '40% off', '27% off', '28% off', '31% off', '37% off', '40% off', '11% off', '40% off']\n"
     ]
    }
   ],
   "source": [
    "print(a1,b1,c1,d1,e1,f1,g1)"
   ]
  },
  {
   "cell_type": "markdown",
   "id": "0d845f33",
   "metadata": {
    "papermill": {
     "duration": 0.006738,
     "end_time": "2022-10-22T09:52:43.904905",
     "exception": false,
     "start_time": "2022-10-22T09:52:43.898167",
     "status": "completed"
    },
    "tags": []
   },
   "source": [
    "### Data Frame:"
   ]
  },
  {
   "cell_type": "code",
   "execution_count": 43,
   "id": "865b0c26",
   "metadata": {
    "execution": {
     "iopub.execute_input": "2022-10-22T09:52:43.920860Z",
     "iopub.status.busy": "2022-10-22T09:52:43.920528Z",
     "iopub.status.idle": "2022-10-22T09:52:43.933061Z",
     "shell.execute_reply": "2022-10-22T09:52:43.931869Z"
    },
    "papermill": {
     "duration": 0.023419,
     "end_time": "2022-10-22T09:52:43.935568",
     "exception": false,
     "start_time": "2022-10-22T09:52:43.912149",
     "status": "completed"
    },
    "tags": []
   },
   "outputs": [],
   "source": [
    "df=pd.DataFrame({\"Mobile_name\":a1,\"rating\":b1,\"NO_of_reviews_and_ratings\":c1,\"specifics\":d1,\"discounted_price\":e1,\"original_price\":f1,\"discount_per\":g1})"
   ]
  },
  {
   "cell_type": "code",
   "execution_count": 44,
   "id": "6bc125c4",
   "metadata": {
    "execution": {
     "iopub.execute_input": "2022-10-22T09:52:43.951899Z",
     "iopub.status.busy": "2022-10-22T09:52:43.951590Z",
     "iopub.status.idle": "2022-10-22T09:52:43.979204Z",
     "shell.execute_reply": "2022-10-22T09:52:43.978565Z"
    },
    "papermill": {
     "duration": 0.038706,
     "end_time": "2022-10-22T09:52:43.981383",
     "exception": false,
     "start_time": "2022-10-22T09:52:43.942677",
     "status": "completed"
    },
    "tags": []
   },
   "outputs": [
    {
     "data": {
      "text/html": [
       "<div>\n",
       "<style scoped>\n",
       "    .dataframe tbody tr th:only-of-type {\n",
       "        vertical-align: middle;\n",
       "    }\n",
       "\n",
       "    .dataframe tbody tr th {\n",
       "        vertical-align: top;\n",
       "    }\n",
       "\n",
       "    .dataframe thead th {\n",
       "        text-align: right;\n",
       "    }\n",
       "</style>\n",
       "<table border=\"1\" class=\"dataframe\">\n",
       "  <thead>\n",
       "    <tr style=\"text-align: right;\">\n",
       "      <th></th>\n",
       "      <th>Mobile_name</th>\n",
       "      <th>rating</th>\n",
       "      <th>NO_of_reviews_and_ratings</th>\n",
       "      <th>specifics</th>\n",
       "      <th>discounted_price</th>\n",
       "      <th>original_price</th>\n",
       "      <th>discount_per</th>\n",
       "    </tr>\n",
       "  </thead>\n",
       "  <tbody>\n",
       "    <tr>\n",
       "      <th>0</th>\n",
       "      <td>REDMI 10 (Caribbean Green, 64 GB)</td>\n",
       "      <td>4.3</td>\n",
       "      <td>1,70,664 Ratings &amp; 10,998 Reviews</td>\n",
       "      <td>4 GB RAM | 64 GB ROM | Expandable Upto 1 TB</td>\n",
       "      <td>₹8,999</td>\n",
       "      <td>₹14,999</td>\n",
       "      <td>40% off</td>\n",
       "    </tr>\n",
       "    <tr>\n",
       "      <th>1</th>\n",
       "      <td>APPLE iPhone 14 (Midnight, 128 GB)</td>\n",
       "      <td>4.7</td>\n",
       "      <td>4,247 Ratings &amp; 163 Reviews</td>\n",
       "      <td>17.02 cm (6.7 inch) HD+ Display</td>\n",
       "      <td>₹67,999</td>\n",
       "      <td>₹79,900</td>\n",
       "      <td>14% off</td>\n",
       "    </tr>\n",
       "    <tr>\n",
       "      <th>2</th>\n",
       "      <td>APPLE iPhone 11 (White, 64 GB)</td>\n",
       "      <td>4.6</td>\n",
       "      <td>1,78,400 Ratings &amp; 10,573 Reviews</td>\n",
       "      <td>50MP + 2MP | 5MP Front Camera</td>\n",
       "      <td>₹37,999</td>\n",
       "      <td>₹43,900</td>\n",
       "      <td>13% off</td>\n",
       "    </tr>\n",
       "    <tr>\n",
       "      <th>3</th>\n",
       "      <td>Cellecor A30i</td>\n",
       "      <td>3.4</td>\n",
       "      <td>19 Ratings &amp; 2 Reviews</td>\n",
       "      <td>6000 mAh Lithium Polymer Battery</td>\n",
       "      <td>₹1,449</td>\n",
       "      <td>₹79,900</td>\n",
       "      <td>14% off</td>\n",
       "    </tr>\n",
       "    <tr>\n",
       "      <th>4</th>\n",
       "      <td>APPLE iPhone 14 (Blue, 128 GB)</td>\n",
       "      <td>4.7</td>\n",
       "      <td>4,247 Ratings &amp; 163 Reviews</td>\n",
       "      <td>Qualcomm Snapdragon 680 Processor</td>\n",
       "      <td>₹67,999</td>\n",
       "      <td>₹14,999</td>\n",
       "      <td>40% off</td>\n",
       "    </tr>\n",
       "    <tr>\n",
       "      <th>...</th>\n",
       "      <td>...</td>\n",
       "      <td>...</td>\n",
       "      <td>...</td>\n",
       "      <td>...</td>\n",
       "      <td>...</td>\n",
       "      <td>...</td>\n",
       "      <td>...</td>\n",
       "    </tr>\n",
       "    <tr>\n",
       "      <th>744</th>\n",
       "      <td>MOTOROLA e40 (Pink Clay, 64 GB)</td>\n",
       "      <td>4.1</td>\n",
       "      <td>59,846 Ratings &amp; 5,853 Reviews</td>\n",
       "      <td>4.5 cm (1.77 inch) Display</td>\n",
       "      <td>₹7,999</td>\n",
       "      <td>₹21,999</td>\n",
       "      <td>31% off</td>\n",
       "    </tr>\n",
       "    <tr>\n",
       "      <th>745</th>\n",
       "      <td>REDMI 9i Sport (Carbon Black, 64 GB)</td>\n",
       "      <td>4.3</td>\n",
       "      <td>2,17,141 Ratings &amp; 12,271 Reviews</td>\n",
       "      <td>0.8MP Rear Camera</td>\n",
       "      <td>₹7,199</td>\n",
       "      <td>₹23,999</td>\n",
       "      <td>37% off</td>\n",
       "    </tr>\n",
       "    <tr>\n",
       "      <th>746</th>\n",
       "      <td>MOTOROLA G62 5G (Midnight Gray, 128 GB)</td>\n",
       "      <td>4.2</td>\n",
       "      <td>10,284 Ratings &amp; 1,098 Reviews</td>\n",
       "      <td>1000 mAh Battery</td>\n",
       "      <td>₹14,999</td>\n",
       "      <td>₹19,999</td>\n",
       "      <td>40% off</td>\n",
       "    </tr>\n",
       "    <tr>\n",
       "      <th>747</th>\n",
       "      <td>SAMSUNG Galaxy F23 5G (Aqua Blue, 128 GB)</td>\n",
       "      <td>4.3</td>\n",
       "      <td>1,40,978 Ratings &amp; 11,531 Reviews</td>\n",
       "      <td>1 Year Manufacturer Warranty</td>\n",
       "      <td>₹14,999</td>\n",
       "      <td>₹16,999</td>\n",
       "      <td>11% off</td>\n",
       "    </tr>\n",
       "    <tr>\n",
       "      <th>748</th>\n",
       "      <td>POCO M4 Pro (Yellow, 128 GB)</td>\n",
       "      <td>4.3</td>\n",
       "      <td>1,34,634 Ratings &amp; 12,280 Reviews</td>\n",
       "      <td>128 GB ROM</td>\n",
       "      <td>₹11,999</td>\n",
       "      <td>₹14,999</td>\n",
       "      <td>40% off</td>\n",
       "    </tr>\n",
       "  </tbody>\n",
       "</table>\n",
       "<p>749 rows × 7 columns</p>\n",
       "</div>"
      ],
      "text/plain": [
       "                                   Mobile_name rating  \\\n",
       "0            REDMI 10 (Caribbean Green, 64 GB)    4.3   \n",
       "1           APPLE iPhone 14 (Midnight, 128 GB)    4.7   \n",
       "2               APPLE iPhone 11 (White, 64 GB)    4.6   \n",
       "3                                Cellecor A30i    3.4   \n",
       "4               APPLE iPhone 14 (Blue, 128 GB)    4.7   \n",
       "..                                         ...    ...   \n",
       "744            MOTOROLA e40 (Pink Clay, 64 GB)    4.1   \n",
       "745       REDMI 9i Sport (Carbon Black, 64 GB)    4.3   \n",
       "746    MOTOROLA G62 5G (Midnight Gray, 128 GB)    4.2   \n",
       "747  SAMSUNG Galaxy F23 5G (Aqua Blue, 128 GB)    4.3   \n",
       "748               POCO M4 Pro (Yellow, 128 GB)    4.3   \n",
       "\n",
       "             NO_of_reviews_and_ratings  \\\n",
       "0    1,70,664 Ratings & 10,998 Reviews   \n",
       "1          4,247 Ratings & 163 Reviews   \n",
       "2    1,78,400 Ratings & 10,573 Reviews   \n",
       "3               19 Ratings & 2 Reviews   \n",
       "4          4,247 Ratings & 163 Reviews   \n",
       "..                                 ...   \n",
       "744     59,846 Ratings & 5,853 Reviews   \n",
       "745  2,17,141 Ratings & 12,271 Reviews   \n",
       "746     10,284 Ratings & 1,098 Reviews   \n",
       "747  1,40,978 Ratings & 11,531 Reviews   \n",
       "748  1,34,634 Ratings & 12,280 Reviews   \n",
       "\n",
       "                                       specifics discounted_price  \\\n",
       "0    4 GB RAM | 64 GB ROM | Expandable Upto 1 TB           ₹8,999   \n",
       "1                17.02 cm (6.7 inch) HD+ Display          ₹67,999   \n",
       "2                  50MP + 2MP | 5MP Front Camera          ₹37,999   \n",
       "3               6000 mAh Lithium Polymer Battery           ₹1,449   \n",
       "4              Qualcomm Snapdragon 680 Processor          ₹67,999   \n",
       "..                                           ...              ...   \n",
       "744                   4.5 cm (1.77 inch) Display           ₹7,999   \n",
       "745                            0.8MP Rear Camera           ₹7,199   \n",
       "746                             1000 mAh Battery          ₹14,999   \n",
       "747                 1 Year Manufacturer Warranty          ₹14,999   \n",
       "748                                   128 GB ROM          ₹11,999   \n",
       "\n",
       "    original_price discount_per  \n",
       "0          ₹14,999      40% off  \n",
       "1          ₹79,900      14% off  \n",
       "2          ₹43,900      13% off  \n",
       "3          ₹79,900      14% off  \n",
       "4          ₹14,999      40% off  \n",
       "..             ...          ...  \n",
       "744        ₹21,999      31% off  \n",
       "745        ₹23,999      37% off  \n",
       "746        ₹19,999      40% off  \n",
       "747        ₹16,999      11% off  \n",
       "748        ₹14,999      40% off  \n",
       "\n",
       "[749 rows x 7 columns]"
      ]
     },
     "execution_count": 44,
     "metadata": {},
     "output_type": "execute_result"
    }
   ],
   "source": [
    "df"
   ]
  },
  {
   "cell_type": "markdown",
   "id": "b56e3a75",
   "metadata": {
    "papermill": {
     "duration": 0.007473,
     "end_time": "2022-10-22T09:52:43.997094",
     "exception": false,
     "start_time": "2022-10-22T09:52:43.989621",
     "status": "completed"
    },
    "tags": []
   },
   "source": [
    "### DataFrame to .CSV:"
   ]
  },
  {
   "cell_type": "code",
   "execution_count": 45,
   "id": "d2b8ae67",
   "metadata": {
    "execution": {
     "iopub.execute_input": "2022-10-22T09:52:44.015010Z",
     "iopub.status.busy": "2022-10-22T09:52:44.013451Z",
     "iopub.status.idle": "2022-10-22T09:52:44.030304Z",
     "shell.execute_reply": "2022-10-22T09:52:44.028770Z"
    },
    "papermill": {
     "duration": 0.028022,
     "end_time": "2022-10-22T09:52:44.032711",
     "exception": false,
     "start_time": "2022-10-22T09:52:44.004689",
     "status": "completed"
    },
    "tags": []
   },
   "outputs": [],
   "source": [
    "df.to_csv(\"Mobiles data_task7.csv\")"
   ]
  },
  {
   "cell_type": "code",
   "execution_count": null,
   "id": "bea54e1b",
   "metadata": {},
   "outputs": [],
   "source": []
  }
 ],
 "metadata": {
  "kernelspec": {
   "display_name": "Python 3 (ipykernel)",
   "language": "python",
   "name": "python3"
  },
  "language_info": {
   "codemirror_mode": {
    "name": "ipython",
    "version": 3
   },
   "file_extension": ".py",
   "mimetype": "text/x-python",
   "name": "python",
   "nbconvert_exporter": "python",
   "pygments_lexer": "ipython3",
   "version": "3.9.13"
  },
  "papermill": {
   "default_parameters": {},
   "duration": 107.068051,
   "end_time": "2022-10-22T09:52:44.661422",
   "environment_variables": {},
   "exception": null,
   "input_path": "__notebook__.ipynb",
   "output_path": "__notebook__.ipynb",
   "parameters": {},
   "start_time": "2022-10-22T09:50:57.593371",
   "version": "2.3.4"
  }
 },
 "nbformat": 4,
 "nbformat_minor": 5
}
