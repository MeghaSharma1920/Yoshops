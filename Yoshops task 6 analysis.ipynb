{
 "cells": [
  {
   "cell_type": "code",
   "execution_count": 1,
   "id": "250a8e6b",
   "metadata": {},
   "outputs": [],
   "source": [
    "#IMPORT LIBRARIES\n",
    "import pandas as pd\n",
    "import seaborn as sns\n",
    "import matplotlib.pyplot as plt\n",
    "import numpy as np"
   ]
  },
  {
   "cell_type": "code",
   "execution_count": 2,
   "id": "850c3cdd",
   "metadata": {},
   "outputs": [],
   "source": [
    "# IMPORT DATASET\n",
    "df = pd.read_csv(\"E:\\\\internships\\\\yoshops\\\\crct\\\\task 6\\\\task6yo .csv\")"
   ]
  },
  {
   "cell_type": "markdown",
   "id": "2252c99b",
   "metadata": {},
   "source": [
    "Dropping duplicates and trimming column names\n"
   ]
  },
  {
   "cell_type": "code",
   "execution_count": 3,
   "id": "401c6472",
   "metadata": {},
   "outputs": [
    {
     "data": {
      "text/html": [
       "<div>\n",
       "<style scoped>\n",
       "    .dataframe tbody tr th:only-of-type {\n",
       "        vertical-align: middle;\n",
       "    }\n",
       "\n",
       "    .dataframe tbody tr th {\n",
       "        vertical-align: top;\n",
       "    }\n",
       "\n",
       "    .dataframe thead th {\n",
       "        text-align: right;\n",
       "    }\n",
       "</style>\n",
       "<table border=\"1\" class=\"dataframe\">\n",
       "  <thead>\n",
       "    <tr style=\"text-align: right;\">\n",
       "      <th></th>\n",
       "      <th>Brand</th>\n",
       "      <th>stars</th>\n",
       "      <th>Reviews</th>\n",
       "      <th>product_name</th>\n",
       "      <th>Disounted_price</th>\n",
       "      <th>Original_price</th>\n",
       "      <th>discount_per</th>\n",
       "    </tr>\n",
       "  </thead>\n",
       "  <tbody>\n",
       "    <tr>\n",
       "      <th>0</th>\n",
       "      <td>HRX</td>\n",
       "      <td>4.3</td>\n",
       "      <td>59.6</td>\n",
       "      <td>Printed Cotton Pure Cotton T-shirt</td>\n",
       "      <td>384</td>\n",
       "      <td>699</td>\n",
       "      <td>45</td>\n",
       "    </tr>\n",
       "    <tr>\n",
       "      <th>1</th>\n",
       "      <td>HRX</td>\n",
       "      <td>4.2</td>\n",
       "      <td>48.4</td>\n",
       "      <td>Printed Pure Cotton T-shirt</td>\n",
       "      <td>454</td>\n",
       "      <td>699</td>\n",
       "      <td>35</td>\n",
       "    </tr>\n",
       "    <tr>\n",
       "      <th>2</th>\n",
       "      <td>HRX</td>\n",
       "      <td>4.3</td>\n",
       "      <td>6.2</td>\n",
       "      <td>Men Running Socks</td>\n",
       "      <td>224</td>\n",
       "      <td>499</td>\n",
       "      <td>55</td>\n",
       "    </tr>\n",
       "    <tr>\n",
       "      <th>3</th>\n",
       "      <td>HRX</td>\n",
       "      <td>4.4</td>\n",
       "      <td>12.1</td>\n",
       "      <td>Ultralyte Men Running T-shirt</td>\n",
       "      <td>494</td>\n",
       "      <td>899</td>\n",
       "      <td>45</td>\n",
       "    </tr>\n",
       "    <tr>\n",
       "      <th>4</th>\n",
       "      <td>HRX</td>\n",
       "      <td>4.2</td>\n",
       "      <td>6.3</td>\n",
       "      <td>Printed Pure Cotton T-shirt</td>\n",
       "      <td>359</td>\n",
       "      <td>899</td>\n",
       "      <td>60</td>\n",
       "    </tr>\n",
       "  </tbody>\n",
       "</table>\n",
       "</div>"
      ],
      "text/plain": [
       "  Brand  stars  Reviews                        product_name  Disounted_price  \\\n",
       "0   HRX    4.3     59.6  Printed Cotton Pure Cotton T-shirt              384   \n",
       "1   HRX    4.2     48.4         Printed Pure Cotton T-shirt              454   \n",
       "2   HRX    4.3      6.2                   Men Running Socks              224   \n",
       "3   HRX    4.4     12.1       Ultralyte Men Running T-shirt              494   \n",
       "4   HRX    4.2      6.3         Printed Pure Cotton T-shirt              359   \n",
       "\n",
       "   Original_price discount_per  \n",
       "0             699           45  \n",
       "1             699           35  \n",
       "2             499           55  \n",
       "3             899           45  \n",
       "4             899           60  "
      ]
     },
     "execution_count": 3,
     "metadata": {},
     "output_type": "execute_result"
    }
   ],
   "source": [
    "df = df.drop_duplicates()\n",
    "df.columns =df.columns.str.replace(\" \",\"\")\n",
    "df.head()"
   ]
  },
  {
   "cell_type": "code",
   "execution_count": 4,
   "id": "2dfd2a68",
   "metadata": {},
   "outputs": [
    {
     "name": "stdout",
     "output_type": "stream",
     "text": [
      "Brand:['HRX']\n",
      "stars:[4.3 4.2 4.4 4.1 4.  3.6 4.5 3.8 4.6 nan 3.9 3.5 4.7 4.8 5.  3.7 3.2 3.\n",
      " 4.9 3.3 3.4 2.8 2.7 2.6 2.3 3.1]\n",
      "Reviews:[59.6 48.4  6.2 12.1  6.3  3.7  9.8  4.8  1.1 13.3  3.2  2.  11.7  2.4\n",
      "  8.7  1.3 13.6  3.3  1.  13.   1.2  1.4  2.9  3.  90.   1.6  5.3  4.\n",
      " 63.   nan 44.   4.2  9.2 57.  16.  27.   5.1 25.  45.  91.   1.5 95.\n",
      " 21.   2.2 32.  72.  74.  19.   5.  14.   7.   3.5 36.  31.  67.  10.\n",
      " 41.   2.7 22.  21.8 87.  30.   8.3  1.8 40.  23.   9.   6.  71.   2.5\n",
      " 56.  82.  47.  70.  29.  43.  24.  12.  11.  17.  79.  33.  65.  28.\n",
      " 48.  18.  38.  20.  92.  86.   8.  35.  37.  97.  64.  15.   6.5 52.\n",
      " 15.9 14.8 68.  39.   1.7 62.  50.   5.2 60.  96.  94.  46.   9.4  8.1\n",
      "  2.1 75.   1.9 93.  53.  76.  59.  11.8]\n",
      "product_name:['Printed Cotton Pure Cotton T-shirt' 'Printed Pure Cotton T-shirt'\n",
      " 'Men Running Socks' 'Ultralyte Men Running T-shirt' 'Men Training Socks'\n",
      " 'Raglan Sleeved T-shirt' 'Men Cotton Pure Cotton T-shirt'\n",
      " 'Pack of 2 Lifestyle Trunks' 'Colourblocked Round Neck T-shirt'\n",
      " 'U-17 Girls Rapid-Dry Tshirts' 'Rapid Dry Running T-shirt'\n",
      " 'Seamless Non Padded Sports Bra' 'Rapid Dry T-shirt'\n",
      " 'Training Bio-Wash Tshirts' 'Lifestyle Briefs'\n",
      " 'Printed Athleisure Cotton Pure Cotton T-shirt' 'Printed T-shirt'\n",
      " 'Men Lifestyle Cap' 'Women Knee Length Yoga Socks'\n",
      " 'Running Bio-Wash Tshirt' 'Running Rapid-Dry Tank Top'\n",
      " 'Yoga Organic Cotton Tshirts' 'Boys Regular Fit Sports Shorts'\n",
      " 'Lifestyle Trunk' 'Lifestyle Typographic Pure Cotton T-shirt'\n",
      " 'Training Bio-Wash Tshirt' 'U-17 Girls Lifestyle T-shirt'\n",
      " 'Print Detail T-shirt' 'U-17 Boys Lifestyle Tshirts' 'RAPID-DRY T-shirt'\n",
      " 'U-17 Girls Lifestyle Tshirts' 'Lifestyle Boxer Briefs'\n",
      " 'Lifestyle Innerwear Vest' 'Lifestyle Bio-Wash Tshirts'\n",
      " 'Lifestyle Antimicrobial Trunk' 'U-17 Girls Lifestyle Tshirt'\n",
      " 'Women Running Socks' 'Men Rapid Dry Running T-shirt'\n",
      " 'U-17 Girls Lycra Sports Bra' 'U-17 Girls Active Tshirts'\n",
      " 'Men Running Cap' 'Seamless Rapid Dry Yoga Bra' 'Men Lifestyle Socks'\n",
      " 'Slim Rapid Dry Raglan T-shirt' 'Lifestyle Antimicrobial Briefs'\n",
      " 'Women Lifestyle Socks' 'Rapid-Dry Tank Top' 'Girls U-17 Active Tshirt'\n",
      " 'Men Pack of 2 Trunks' 'Running Bio-Wash Pure Cotton T-shirt'\n",
      " 'Running Rapid-Dry T-shirts' 'Men Pack of 3 Sports Socks'\n",
      " 'Active Rapid-Dry Tshirt' 'Lifestyle Innerwear Vests' 'Unisex Beanie'\n",
      " 'U-17 Girls Active Lycra Tights' 'Racketsport Rapid-Dry Tshirts'\n",
      " 'Men Solid Shorts' 'Running Antimicrobial Tshirts'\n",
      " 'Training Rapid-Dry T-shirt' 'Non Padded Cami Sports Bra'\n",
      " 'Women Solid Yoga T-shirt' 'U-17 Girls Active Sports Bra'\n",
      " 'U-17 Girls Printed T-shirt' 'Brand Logo Running T-shirt'\n",
      " 'Training Rapid-Dry Tshirts' 'Running Antimicrobial T-shirt'\n",
      " 'Printed Active T-Shirt' 'Running Rapid-Dry Tshirt'\n",
      " 'Lifestyle Crew Neck Pure Cotton T-shirts' 'Lifestyle Throwback Briefs'\n",
      " 'Yoga Pure Cotton Sustainable T-shirt' 'Unisex Printed Beanie'\n",
      " 'Set of 2 PerformanceWristbands' 'Racketsport Rapid-Dry T-Shirt'\n",
      " 'Unisex 3 Pcs 4-Ply Facemasks' 'Solid Beginners Sports Bra'\n",
      " 'Men Printed Slim Fit T-shirt' 'Printed Detail Training Tank'\n",
      " 'Bio-Wash Athleisure Tshirt' 'Lifestyle Bio-Wash T-shirt' 'Men T-shirt'\n",
      " 'U-17 Boys Active Shorts' 'Men Printed Thong Flip-Flops'\n",
      " 'Rapid-Dry Training T-Shirt' 'Women Brand Logo Printed T-shirt'\n",
      " 'Lifestyle Typographic Tshirt' 'Girls Cotton T-shirt'\n",
      " 'Lifestyle Bio-Wash Pure Cotton T-shirt' 'Lifestyle Bio-Wash Tshirt'\n",
      " 'Men Pack of 3 Socks' 'U-17 Boys Lifestyle Tshirt'\n",
      " 'Men Typography Printed T-shirt' 'Women Training Socks'\n",
      " 'Men Rapid-Dry Running T-Shirt' 'U-17 Active Printed Sweatshirt'\n",
      " 'Men Training Rapid-Dry Tshirts' 'Racketsport Bio-Wash Tshirt'\n",
      " 'Men Lifestyle Bio-Wash T-shirt' 'Set of 3 Ankle-Length Socks'\n",
      " 'Running Rapid-Dry T-shirt' 'Solid Round Neck T-shirt'\n",
      " 'U-17 Girls Active T-shirts' 'Yoga Organic Cotton Sustainable Tshirts'\n",
      " 'Bio-Wash Running Pure Cotton T-shirt' 'Slip On Bio-Wash Sports Bra'\n",
      " 'Bio-Wash Football T-shirt' 'Yoga Melange Sustainable T-shirt'\n",
      " 'Girls Pack of 3 Socks' 'U-17 Girls Active Tshirt'\n",
      " 'Basketball Bio-Wash Tshirt' 'Pack Of 3 Ankle Length Socks'\n",
      " 'Yoga Bio-Wash Tshirt' 'Lifestyle Punt Briefs'\n",
      " 'Men Striped Thong Flip-Flops' 'Slip On Non Padded Sports Bra'\n",
      " 'Men Printed Rapid Dry T-shirt' 'U-17 Girls Active Shorts'\n",
      " 'Men Brand Logo Printed T-shirt' 'Lifestyle Printed Pure Cotton T-shirt'\n",
      " 'Racket Sports Bio-Wash T-shirt' 'Rapid Dry Running Tank Top'\n",
      " 'U-17 Boys Lifestyle T-shirt' 'Printed Top'\n",
      " 'Women Printed Running Pure Cotton T-shirt' 'Unisex Solid Beanie'\n",
      " 'Joggers' 'U-17 Boys Rapid-Dry Tshirts' 'Active Rapid-Dry Tshirts'\n",
      " 'Men 3 Pcs Ankle Length Socks' 'Unisex Set of 2 Wristbands'\n",
      " 'Basketball Rapid Dry Tank Top' 'Unisex Lifestyle Cap'\n",
      " 'Women Solid Yoga Socks' 'Outdoor Rapid-Dry T-shirt'\n",
      " 'U-17 Active RapidDry Tshirt' 'Boys Typography Cotton T-shirt'\n",
      " 'Printed Bio-Wash Yoga Pure Cotton T-shirt' 'Boys Pack of 3 Sports Socks'\n",
      " 'U-17 Active Solid Sweatshirt' 'Printed Round Neck T-shirt'\n",
      " 'Women Knee-Length Yoga Socks' 'U-17 Girls Lifestyle Shorts'\n",
      " 'Pack Of 3 Calf Length Socks' 'Running Rapid-Dry Tshirts'\n",
      " 'Men Typography Printed Loose T-shirt' 'Yoga Bio-Wash Tshirts'\n",
      " 'Running Bio-Wash Pure Cotton T-shirts'\n",
      " 'Yoga Bio-Wash Pure Cotton T-shirt' 'Unisex Self Design Beanie'\n",
      " 'U-17 Boys Lifestyle   Pure Cotton Tshirts'\n",
      " 'Girls HRX-U-17 Active T-shirt' 'Boys Printed T-shirt'\n",
      " 'Women Half-Toe Yoga Socks' 'U-17 Boys Lifestyle T-shirts'\n",
      " 'Running Antimicrobial T-shirts' 'Yoga Rapid-Dry Tops'\n",
      " 'Men Round Neck Running Pure Cotton T-shirt'\n",
      " 'Racket Sports Rapid-Dry Tshirt' 'Training Camo Tshirts'\n",
      " 'Women Lifestyle Cotton Shorts' 'Boys Running Rapid-Dry Tshirt'\n",
      " 'Women Solid Cut-Out Yoga Sock' 'Training Bio-Wash T-shirt'\n",
      " 'Men Pack of 4 Socks' 'U-17 Boys Lifestyle Track Pant'\n",
      " 'Womens Set of 3 Socks' 'Men Bio-Wash Training Pure Cotton T-shirt'\n",
      " 'Men Typography Shorts' 'Unisex Solid Baseball Cap'\n",
      " 'Boys Active Rapid-Dry Tshirts' 'Yoga Rapid-Dry Sustainable Tops'\n",
      " 'Unisex Cotton Baseball Cap' 'Boy Packof 3 Ankle-Length Sock'\n",
      " 'Printed Training T-shirt' 'Lifestyle Bio-Wash T-Shirts'\n",
      " 'Yoga Organic Cotton Sustainable Tshirt' 'Unisex Solid Face Towel'\n",
      " 'Girls Active Rapid-Dry T-shirt' 'Girls Running Rapid-Dry Tshirt'\n",
      " 'Pack of 3 Ankle Length Socks' 'Rapid-Dry Printed T-shirt'\n",
      " 'Racket Sport Rapid-Dry T-shirt' 'U-17 Girls Active Tights'\n",
      " '3 Pcs 4-Layer Face Masks' 'Women Training Rapid-Dry Tops'\n",
      " 'Boys Lifestyle Track Pants' 'Men Solid Lounge Sustainable T-shirt'\n",
      " 'U-17 Boys Bio-Wash Tshirts' 'Pure Cotton Yoga Sustainable T-shirt'\n",
      " 'Boys Solid Lifestyle Shorts' 'Men Cotton Printed T-shirt'\n",
      " 'Basketball Rapid-Dry Tshirt' 'Boys Pack of 3 Ankle Socks'\n",
      " 'Boys Brand Logo Cotton T-shirt' 'Training Rapid-Dry Tops'\n",
      " 'Yoga Organic Tshirt' 'Training Rapid-Dry Top'\n",
      " 'Boys U-17 Lifestyle Tshirt' 'Training Rapid-Dry Tshirt'\n",
      " 'Racketsport Rapid-Dry Tshirt' 'Girls Shorts'\n",
      " 'Basketball Rapid-Dry Tshirts' 'Men Printed T-shirt'\n",
      " 'Printed Athleisure Pure Cotton T-shirt' 'Unisex U-17 Drawstring Bag'\n",
      " 'Outdoor Rapid-Dry Tshirts' 'Men Charge Deodorant 250 ml' 'Yoga T-shirt'\n",
      " 'U17 Girls Rapid-Dry Shorts' 'Yoga Tshirts' 'Boys Slim Fit T-shirt'\n",
      " 'Yoga Rapid-Dry Sustainable T-shirt' 'Yoga Melange Sustainable Tops'\n",
      " 'Boys Pack of 3 Socks' 'Lifestyle Bio-Wash T-shirts'\n",
      " 'Outdoor Rapid-Dry T-Shirt' 'Boys Lifestyle Cotton Shorts'\n",
      " 'Boys Printed Lifestyle T-shirt' 'Women Printed Running T-shirt'\n",
      " 'Boys Running Rapid-Dry Tshirts' 'Football Rapid-Dry Tshirts'\n",
      " 'Yoga Organic Sustainable T-shirt' 'Boys Cotton Lifestyle Shorts'\n",
      " 'U-17 Boys Lifestyle Shorts' 'Unisex Printed Face Towel'\n",
      " 'Lifestyle Athleisure Tshirt' 'Boys 3-Pack Ankle-Length Socks'\n",
      " 'Yoga Sustainable T-shirt' 'U-17 Boys Lifestyle Pure Cotton T-shirts'\n",
      " 'Training Antimicrobial T-shirt' 'Men Rapid Dry T-shirt'\n",
      " 'Men Typography Printed Antimicrobial T-shirt' 'U-17 Boys Active Tshirts'\n",
      " 'Men Printed Hyper Printed Boxy Tee' 'Women Cotton Bio-Wash Tshirts'\n",
      " 'Men Yoga T-shirt' 'Unisex PROTEKT Pack of 3 Masks' 'Boys Set of 3 Socks'\n",
      " 'Pack of 3 Above Ankle Socks' 'Boys Printed Slim Fit T-shirt'\n",
      " 'Women Typography Printed T-shirt' 'Women Colourblocked T-shirt'\n",
      " 'Yoga Organic Cotton T-shirt' 'Girls Striped Cotton Shorts'\n",
      " 'Boys Typography Printed T-shirt' 'Women Ankle Length Yoga Socks'\n",
      " 'Printed Football T-shirt' 'Racketsport Rapid-Dry T-shirts'\n",
      " 'Typography Print T-shirt' 'U-17 Girls Lycra Shorts'\n",
      " 'Cricket Rapid-Dry Tshirts' 'Boys Lifestyle T-shirt'\n",
      " 'Yoga Organic Cotton T-shirts' 'Boys Typography T-shirt'\n",
      " 'Pack of 3 Reusable 4-Ply Masks'\n",
      " 'Yoga Organic Cotton Sustainable T-shirt' 'Outdoor Rapid-Dry T-shirts'\n",
      " 'Cotton Colorblocked T-shirt' 'Men Rapid-Dry Outdoor T-Shirt'\n",
      " 'Men Rapid-Dry Training T-Shirt' 'Football Rapid-Dry T-shirt'\n",
      " 'Rapid-Dry Running T-shirt' 'Outdoor Rapid-Dry Tshirt'\n",
      " 'Printed Round Neck Grey Melange T-shirt' 'Men Printed Cotton T-shirt'\n",
      " 'Men Printed Lifestyle T-shirt' 'Women Regular Fit Sports Shorts'\n",
      " 'Women Lifestyle Shorts' 'Men Extreme Deodorant 250 ml'\n",
      " 'Yoga Cotton Sustainable T-shirt' 'Women Solid Cotton T-shirt'\n",
      " 'Women Printed Cotton T-shirt' 'Women Cotton Lifestyle Tshirt'\n",
      " 'Unisex U-17 Running Cap' 'Women Solid T-shirt'\n",
      " 'Football Rapid-Dry Tshirt' '3 Pcs 4-Ply Face Masks'\n",
      " 'Training Slim-Fit T-shirt' 'Yoga  Tshirt' 'Yoga Tshirt'\n",
      " 'Mens Set of 3 Socks' 'Men Printed Athleisure T-shirt'\n",
      " 'Cotton Bio-Wash T-shirt' 'Men Brand Logo Printed Slim Fit T-shirt'\n",
      " 'Women Cotton Yoga Solid Sustainable T-shirt'\n",
      " 'Training Rapid-Dry T-Shirt' 'Escape For Men Deodorant 250 ml'\n",
      " 'Brand Logo Cotton T-shirt' 'Printed Round Neck Pure Cotton T-shirt'\n",
      " 'Women Brand Logo Print T-shirt' 'Women Brand Logo T-shirt'\n",
      " 'Solid Training Top' 'Men Running Rapid-Dry T-shirt'\n",
      " 'Men Lifestyle Bio-Wash Tshirts' 'Men Print Detail T-shirt'\n",
      " 'Solid Round Neck Pure Cotton T-shirt' 'Men Lifestyle Bio-Wash Tshirt'\n",
      " 'Bio-Wash Athleisure T-shirt' 'Cotton Bio-Wash Tshirts'\n",
      " 'Seamless Padded Sports Bra' 'Men Bio-Wash T-shirt'\n",
      " 'Training Antimicrobial Tshirts' 'Impact Deodorant 150 ml'\n",
      " 'Solid Goggle Style Face Shield' 'Men Pack Of 3 Ankle Socks'\n",
      " 'RAPID-DRY Printed Active T-Shirt' 'Training Rapid Dry T-shirt'\n",
      " 'Rapid Dry Sleeveless T-shirt' 'Men Outdoor Bio-Wash T-shirt'\n",
      " 'Yoga Bio-Wash Tops' 'Racket Sports Rapid-Dry Tank'\n",
      " 'U-17 Girls Active T-shirt' 'Women RapidDry Training Tshirt'\n",
      " 'Yoga Bio-Wash Pure Cotton T-shirts' 'Rapid-Dry Badminton T-shirt'\n",
      " 'Men Slim Fit Rapid Dry T-shirt' 'Running Camo T-shirt'\n",
      " 'Yoga Cotton Tshirt' 'Women Printed T-Shirt' 'Training Rapid Dry'\n",
      " 'Running Rapid Dry T-shirt' 'Rapid dry Running T-shirt'\n",
      " 'Women Yoga Typography Tshirt' 'HRX-U-17 Active T-shirt'\n",
      " 'Dyed Round Neck Crop Pure Cotton T-shirt'\n",
      " 'Women Training Printed T-shirt' 'Typography Cotton T-shirt'\n",
      " 'Boys Checked Sports T-shirt' 'U-17 Boys Football Tshirt'\n",
      " 'Girls Set of 3 Ankle Socks' 'Men Running Rapid Dry T-Shirt'\n",
      " 'Men Printed Training T-shirt' 'Women Yoga Cotton Tshirt'\n",
      " 'Pack of 3 Striped Socks' 'Cricket Rapid-Dry Tshirt'\n",
      " 'Boys Pack Of 3 Above Ankle Socks' 'Running Camo Tshirt'\n",
      " 'Printed Rapid-Dry T-shirt' 'Cotton Yoga Melange Sustainable T-shirt'\n",
      " 'Boys Cotton Slim Fit Pure Cotton T-shirt' 'U-17 Boys Bio-Wash T-shirts'\n",
      " 'Boys Solid Cotton Joggers' 'Typography Yoga T-shirt'\n",
      " 'Pack of 3 Assorted AL Socks' 'Racket Sports Rapid-Dry'\n",
      " 'Lifestyle Typographic T-shirt' 'Training Melange T-shirt'\n",
      " 'U-17 Girls Active Tank Top' 'Solid Boxy Top'\n",
      " 'Men Regular Fit Sports Shorts' 'Rapid Dry Training Tshirt'\n",
      " 'Outdoor Men Rapid-Dry T-shirt' 'Cotton Yoga Melange Tshirt'\n",
      " 'Men Solid Training T-shirts' 'Training Regular Fit Tshirt'\n",
      " 'Pure Cotton Solid T-shirt' 'Outdoor Bio-Wash Tshirts'\n",
      " 'Women Rapid Dry T-shirt' 'Rapid Dry Training T-shirt'\n",
      " 'Printed Racket T-shirt' 'Nautical Cotton T-shirt'\n",
      " 'Cotton Yoga Rapid-Dry Tshirts' 'Yoga Rapid-Dry Tshirt'\n",
      " 'U-17 Boys Lifestyle Joggers' 'Women Colourblocked Asymmetric Tshirt'\n",
      " 'U-17 Boys Lifestyle Track pant' 'Yoga Cotton T-shirt'\n",
      " 'Black Training Camo Tshirts' 'U-17 Girls Track pants' 'Men Joggers'\n",
      " 'Men Striped Rapid Dry T-shirt' 'Women Lifestyle Sports Shorts'\n",
      " 'Cotton Yoga Melange Tshirts' 'U-17 Active Printed Tshirt'\n",
      " 'Printed  Pure Cotton T-shirt' 'Boys Joggers' 'Lightly Padded Sports Bra'\n",
      " 'Boys Back Print T-shirt' 'Women Yoga Lycra Tshirts'\n",
      " 'RAPID-DRY Round Neck T-shirt' 'Lifestyle Printed T-shirt'\n",
      " 'U-17 Girls Track Pants' 'Yoga Printed T-shirts'\n",
      " 'Lifestyle Bio-Wash Cotton Tee' 'Basketball Bio-Wash Pure Cotton T-shirt'\n",
      " 'Girls Twisted Detail T-shirt' 'Rapid Dry Football T-shirt'\n",
      " 'Boys Regular Fit Active Shorts'\n",
      " 'Men Pure Cotton Yoga Organic Cotton T-shirt'\n",
      " 'U-17 Girls Lifestyle Pure Cotton T-shirt'\n",
      " 'U-17 Boys Lifestyle Pure Cotton T-shirt' 'Running Lycra Tshirts'\n",
      " 'Boys U-17 Active Lycra T-shirt' 'Men Sports Shorts'\n",
      " 'Men Lifestyle Track Pants' 'Men Lifestyle Joggers']\n",
      "Disounted_price:[384 454 224 494 359 244 404 399 174 299 324 389 249 199 279 271 215 319\n",
      " 274 247 443 419 449 407 179 192 202 439 239 349 287 489 409 262 257 479\n",
      " 314 329 405 472 227 499 431 400 339 295 360 475 269 440 312 455 209 246\n",
      " 372 335 386 441 447 368 311 265 370 341 383 450 293 272 164 194 369 166\n",
      " 480 203 221 184]\n",
      "Original_price:[ 699  499  899  799  999 1099 1299  599  549 1199  449 1499 1399  749\n",
      " 1599 1049  649  980  780  349]\n",
      "discount_per:['45' '35' '55' '60' '65' '50' '6' '70' '75' '73' '40' '52' '59' '57' '42'\n",
      " 'Rs' '4' '51' '62' '20' '68' '30' '61' '47' '58' '72']\n"
     ]
    }
   ],
   "source": [
    "for col in df.columns:\n",
    "    print('{}:{}'.format(col,df[col].unique()))"
   ]
  },
  {
   "cell_type": "code",
   "execution_count": 5,
   "id": "21948732",
   "metadata": {},
   "outputs": [
    {
     "name": "stdout",
     "output_type": "stream",
     "text": [
      "<class 'pandas.core.frame.DataFrame'>\n",
      "Int64Index: 1183 entries, 0 to 1352\n",
      "Data columns (total 7 columns):\n",
      " #   Column           Non-Null Count  Dtype  \n",
      "---  ------           --------------  -----  \n",
      " 0   Brand            1183 non-null   object \n",
      " 1   stars            1033 non-null   float64\n",
      " 2   Reviews          903 non-null    float64\n",
      " 3   product_name     1183 non-null   object \n",
      " 4   Disounted_price  1183 non-null   int64  \n",
      " 5   Original_price   1183 non-null   int64  \n",
      " 6   discount_per     1183 non-null   object \n",
      "dtypes: float64(2), int64(2), object(3)\n",
      "memory usage: 73.9+ KB\n"
     ]
    }
   ],
   "source": [
    "df.info()"
   ]
  },
  {
   "cell_type": "code",
   "execution_count": 6,
   "id": "26e5703f",
   "metadata": {},
   "outputs": [
    {
     "data": {
      "text/plain": [
       "(1183, 7)"
      ]
     },
     "execution_count": 6,
     "metadata": {},
     "output_type": "execute_result"
    }
   ],
   "source": [
    "df.shape"
   ]
  },
  {
   "cell_type": "markdown",
   "id": "715be6b8",
   "metadata": {},
   "source": [
    "# BRAND"
   ]
  },
  {
   "cell_type": "code",
   "execution_count": 7,
   "id": "80ffd51e",
   "metadata": {},
   "outputs": [
    {
     "data": {
      "text/plain": [
       "1"
      ]
     },
     "execution_count": 7,
     "metadata": {},
     "output_type": "execute_result"
    }
   ],
   "source": [
    "len(df.Brand.unique())"
   ]
  },
  {
   "cell_type": "code",
   "execution_count": 8,
   "id": "5ebf2509",
   "metadata": {},
   "outputs": [],
   "source": [
    "y = np.array([len(df.Brand.unique())])"
   ]
  },
  {
   "cell_type": "code",
   "execution_count": 9,
   "id": "8896e199",
   "metadata": {},
   "outputs": [
    {
     "data": {
      "image/png": "[encoded data removed]",
      "text/plain": [
       "<Figure size 640x480 with 1 Axes>"
      ]
     },
     "metadata": {},
     "output_type": "display_data"
    }
   ],
   "source": [
    "mylabels = [\"The Brand we are representing:HRX\"]\n",
    "plt.pie(y, labels = mylabels, )\n",
    "plt.show()"
   ]
  },
  {
   "cell_type": "markdown",
   "id": "728b815c",
   "metadata": {},
   "source": [
    "# Stars"
   ]
  },
  {
   "cell_type": "code",
   "execution_count": 10,
   "id": "1d62b7c8",
   "metadata": {},
   "outputs": [],
   "source": [
    "df = df.assign(Star_sec = df.stars)\n",
    "df['Star_sec'] = df['Star_sec'].dropna()"
   ]
  },
  {
   "cell_type": "code",
   "execution_count": 11,
   "id": "a2beee3f",
   "metadata": {},
   "outputs": [],
   "source": [
    "# Make Reviews clearly in terms of numbers\n",
    "df['Star_sec'] = df['Star_sec'].replace(5,'4-5')\n",
    "df['Star_sec'] = df['Star_sec'].replace(4.7,'4-5')\n",
    "df['Star_sec'] = df['Star_sec'].replace(4.8,'4-5')\n",
    "df['Star_sec'] = df['Star_sec'].replace(4.9,'4-5')\n",
    "df['Star_sec'] = df['Star_sec'].replace(4.6,'4-5')\n",
    "df['Star_sec'] = df['Star_sec'].replace(4.5,'4-5')\n",
    "df['Star_sec'] = df['Star_sec'].replace(4.1,'4-5')\n",
    "df['Star_sec'] = df['Star_sec'].replace(4.4,'4-5')\n",
    "df['Star_sec'] = df['Star_sec'].replace(4.3,'4-5')\n",
    "df['Star_sec'] = df['Star_sec'].replace(4.2,'4-5')\n",
    "\n",
    "df['Star_sec'] = df['Star_sec'].replace(3.1,'3-5')\n",
    "df['Star_sec'] = df['Star_sec'].replace(4.,'3-5')\n",
    "df['Star_sec'] = df['Star_sec'].replace(3.6,'3-5')\n",
    "df['Star_sec'] = df['Star_sec'].replace(3.3,'3-5')\n",
    "df['Star_sec'] = df['Star_sec'].replace(3.4,'3-5')\n",
    "df['Star_sec'] = df['Star_sec'].replace(3.8,'3-5')\n",
    "df['Star_sec'] = df['Star_sec'].replace(3.9,'3-5')\n",
    "df['Star_sec'] = df['Star_sec'].replace(3.5,'3-5')\n",
    "df['Star_sec'] = df['Star_sec'].replace(3.7,'3-5')\n",
    "df['Star_sec'] = df['Star_sec'].replace(3.2,'3-5')\n",
    "\n",
    "df['Star_sec'] = df['Star_sec'].replace(2.8,'2-5')\n",
    "df['Star_sec'] = df['Star_sec'].replace(3. ,'2-5')\n",
    "df['Star_sec'] = df['Star_sec'].replace(2.3 ,'2-5')\n",
    "df['Star_sec'] = df['Star_sec'].replace(2.7,'2-5')\n",
    "df['Star_sec'] = df['Star_sec'].replace(2.6,'2-5')"
   ]
  },
  {
   "cell_type": "code",
   "execution_count": 12,
   "id": "743d4f80",
   "metadata": {},
   "outputs": [
    {
     "data": {
      "text/plain": [
       "array(['4-5', '3-5', nan, '2-5'], dtype=object)"
      ]
     },
     "execution_count": 12,
     "metadata": {},
     "output_type": "execute_result"
    }
   ],
   "source": [
    "df.Star_sec.unique()"
   ]
  },
  {
   "cell_type": "code",
   "execution_count": 13,
   "id": "bf6c0af8",
   "metadata": {},
   "outputs": [
    {
     "data": {
      "image/png": "[encoded data removed]",
      "text/plain": [
       "<Figure size 500x300 with 1 Axes>"
      ]
     },
     "metadata": {},
     "output_type": "display_data"
    }
   ],
   "source": [
    "import seaborn as sns\n",
    "plt.figure(figsize = (5,3))\n",
    "pal = sns.color_palette(['#35193e', '#701f57', '#ad1759'])\n",
    "ax = sns.countplot(y =df['Star_sec'],palette = pal)\n",
    "#pal = sns.color_palette(\"Greens_d\", len(df['Star_sec'].unique()))\n",
    "\n",
    "for i in ax.containers:\n",
    "    ax.bar_label(i,)\n",
    "\n"
   ]
  },
  {
   "cell_type": "markdown",
   "id": "e7788bf2",
   "metadata": {},
   "source": [
    "# Reviews"
   ]
  },
  {
   "cell_type": "code",
   "execution_count": 14,
   "id": "677a7951",
   "metadata": {},
   "outputs": [],
   "source": [
    "# Adding new column with a constant value\n",
    "df2 = df.copy()\n",
    "df2[\"cv\"] = 1000\n",
    "df2[\"c\"] = 1"
   ]
  },
  {
   "cell_type": "code",
   "execution_count": 15,
   "id": "bc2fe066",
   "metadata": {},
   "outputs": [],
   "source": [
    "df2['Reviews_in_numbers'] = pd.DataFrame(df2['Reviews'] * df2['cv']).multiply(df2['c'], axis=0)\n",
    "df2 = df2.drop(['c','cv'],axis = 1)"
   ]
  },
  {
   "cell_type": "code",
   "execution_count": 16,
   "id": "996a5403",
   "metadata": {},
   "outputs": [
    {
     "data": {
      "text/plain": [
       "['40000-60000', '1000-20000', NaN, '80000-97000', '60000-80000', '20000-40000']\n",
       "Categories (5, object): ['1000-20000' < '20000-40000' < '40000-60000' < '60000-80000' < '80000-97000']"
      ]
     },
     "execution_count": 16,
     "metadata": {},
     "output_type": "execute_result"
    }
   ],
   "source": [
    "df2['REVIEWS'] = pd.cut(df2['Reviews_in_numbers'],[1000.000000,20000.000000,40000.000000,60000.000000,80000.000,97000.00],4,labels=['1000-20000','20000-40000','40000-60000','60000-80000','80000-97000'])\n",
    "df2['REVIEWS'].unique()"
   ]
  },
  {
   "cell_type": "code",
   "execution_count": 17,
   "id": "7ebf26f6",
   "metadata": {},
   "outputs": [
    {
     "data": {
      "image/png": "[encoded data removed]",
      "text/plain": [
       "<Figure size 900x400 with 1 Axes>"
      ]
     },
     "metadata": {},
     "output_type": "display_data"
    }
   ],
   "source": [
    "plt.figure(figsize=(9,4))\n",
    "ax = sns.countplot(x = df2['REVIEWS'],palette=['#35193e', '#701f57', '#ad1759', '#e13342', '#f37651', '#f6b48f'])\n",
    "ax.set(title = \"Reviews\")\n",
    "for p in ax.patches:\n",
    "     ax.annotate('{:.1f}'.format(p.get_height()),(p.get_x()+0.25,p.get_height()+3.11))\n",
    "plt.show() "
   ]
  },
  {
   "cell_type": "markdown",
   "id": "3b7dbbd2",
   "metadata": {},
   "source": [
    "# Discounted Price"
   ]
  },
  {
   "cell_type": "code",
   "execution_count": 18,
   "id": "05fb5a5e",
   "metadata": {},
   "outputs": [
    {
     "data": {
      "text/plain": [
       "['300-400', '400-500', '200-300', '<200']\n",
       "Categories (4, object): ['<200' < '200-300' < '300-400' < '400-500']"
      ]
     },
     "execution_count": 18,
     "metadata": {},
     "output_type": "execute_result"
    }
   ],
   "source": [
    "df2['Dis_price'] = pd.cut(df2['Disounted_price'],[100,200,300,400,500],4,labels=['<200','200-300','300-400','400-500'])\n",
    "df2['Dis_price'].unique()"
   ]
  },
  {
   "cell_type": "code",
   "execution_count": 19,
   "id": "c0ed4c6f",
   "metadata": {},
   "outputs": [
    {
     "data": {
      "image/png": "[encoded data removed]",
      "text/plain": [
       "<Figure size 900x400 with 1 Axes>"
      ]
     },
     "metadata": {},
     "output_type": "display_data"
    }
   ],
   "source": [
    "plt.figure(figsize=(9,4))\n",
    "ax = sns.countplot(x = df2['Dis_price'],palette=\"Spectral\")\n",
    "ax.set(title = \"Reviews\")\n",
    "for p in ax.patches:\n",
    "     ax.annotate('{:.1f}'.format(p.get_height()),(p.get_x()+0.25,p.get_height()+3.11))\n",
    "plt.show() "
   ]
  },
  {
   "cell_type": "markdown",
   "id": "b1e38adf",
   "metadata": {},
   "source": [
    "# Original_price"
   ]
  },
  {
   "cell_type": "code",
   "execution_count": 21,
   "id": "baf2a79a",
   "metadata": {},
   "outputs": [],
   "source": [
    "#df2['Orig_price'].describe()"
   ]
  },
  {
   "cell_type": "code",
   "execution_count": 22,
   "id": "53d983a4",
   "metadata": {},
   "outputs": [
    {
     "data": {
      "text/plain": [
       "['600-900', '300-600', '900-1200', '1200-1600']\n",
       "Categories (4, object): ['300-600' < '600-900' < '900-1200' < '1200-1600']"
      ]
     },
     "execution_count": 22,
     "metadata": {},
     "output_type": "execute_result"
    }
   ],
   "source": [
    "df2['Orig_price'] = pd.cut(df2['Original_price'],[300,600,900,1200,1600],4,labels=['300-600','600-900','900-1200','1200-1600'])\n",
    "df2['Orig_price'].unique()"
   ]
  },
  {
   "cell_type": "code",
   "execution_count": 23,
   "id": "bdd507af",
   "metadata": {},
   "outputs": [
    {
     "data": {
      "image/png": "[encoded data removed]",
      "text/plain": [
       "<Figure size 900x400 with 1 Axes>"
      ]
     },
     "metadata": {},
     "output_type": "display_data"
    }
   ],
   "source": [
    "plt.figure(figsize=(9,4))\n",
    "ax = sns.countplot(x = df2['Orig_price'],palette='Blues')\n",
    "ax.set(title = \"Reviews\")\n",
    "for p in ax.patches:\n",
    "     ax.annotate('{:.1f}'.format(p.get_height()),(p.get_x()+0.25,p.get_height()+3.11))\n",
    "plt.show() "
   ]
  },
  {
   "cell_type": "markdown",
   "id": "c5ce1f55",
   "metadata": {},
   "source": [
    "# Discount_percentage"
   ]
  },
  {
   "cell_type": "code",
   "execution_count": 24,
   "id": "490d364e",
   "metadata": {},
   "outputs": [
    {
     "data": {
      "text/plain": [
       "array([26])"
      ]
     },
     "execution_count": 24,
     "metadata": {},
     "output_type": "execute_result"
    }
   ],
   "source": [
    "y = np.array([len(df2['discount_per'].unique())])\n",
    "y"
   ]
  },
  {
   "cell_type": "code",
   "execution_count": 25,
   "id": "5516b5a7",
   "metadata": {},
   "outputs": [
    {
     "name": "stderr",
     "output_type": "stream",
     "text": [
      "C:\\Users\\hp\\AppData\\Local\\Temp\\ipykernel_2832\\1611165199.py:2: SettingWithCopyWarning: \n",
      "A value is trying to be set on a copy of a slice from a DataFrame.\n",
      "Try using .loc[row_indexer,col_indexer] = value instead\n",
      "\n",
      "See the caveats in the documentation: https://pandas.pydata.org/pandas-docs/stable/user_guide/indexing.html#returning-a-view-versus-a-copy\n",
      "  df3['discount_per'] = df3['discount_per'].astype(int)\n"
     ]
    },
    {
     "data": {
      "text/plain": [
       "count    1175.000000\n",
       "mean       43.308085\n",
       "std        20.709446\n",
       "min         4.000000\n",
       "25%        40.000000\n",
       "50%        50.000000\n",
       "75%        60.000000\n",
       "max        75.000000\n",
       "Name: discount_per, dtype: float64"
      ]
     },
     "execution_count": 25,
     "metadata": {},
     "output_type": "execute_result"
    }
   ],
   "source": [
    "df3 = df2[(df2['discount_per'] != 'Rs')]\n",
    "df3['discount_per'] = df3['discount_per'].astype(int)\n",
    "df3['discount_per'].describe()"
   ]
  },
  {
   "cell_type": "code",
   "execution_count": 26,
   "id": "bd2e4df0",
   "metadata": {},
   "outputs": [
    {
     "name": "stderr",
     "output_type": "stream",
     "text": [
      "C:\\Users\\hp\\AppData\\Local\\Temp\\ipykernel_2832\\1523712422.py:1: SettingWithCopyWarning: \n",
      "A value is trying to be set on a copy of a slice from a DataFrame.\n",
      "Try using .loc[row_indexer,col_indexer] = value instead\n",
      "\n",
      "See the caveats in the documentation: https://pandas.pydata.org/pandas-docs/stable/user_guide/indexing.html#returning-a-view-versus-a-copy\n",
      "  df3['discount_%'] = pd.cut(df3['discount_per'],[4,20,40,60,75],3,labels=['4-20','20-40','40-60','60-75'])\n"
     ]
    }
   ],
   "source": [
    "df3['discount_%'] = pd.cut(df3['discount_per'],[4,20,40,60,75],3,labels=['4-20','20-40','40-60','60-75'])"
   ]
  },
  {
   "cell_type": "code",
   "execution_count": 27,
   "id": "766981bd",
   "metadata": {},
   "outputs": [
    {
     "data": {
      "text/plain": [
       "['40-60', '20-40', '60-75', '4-20', NaN]\n",
       "Categories (4, object): ['4-20' < '20-40' < '40-60' < '60-75']"
      ]
     },
     "execution_count": 27,
     "metadata": {},
     "output_type": "execute_result"
    }
   ],
   "source": [
    "df3['discount_%'].unique()"
   ]
  },
  {
   "cell_type": "code",
   "execution_count": 32,
   "id": "03a57eec",
   "metadata": {},
   "outputs": [],
   "source": [
    "df3 = df3[(df3['discount_%'] != 'NaN')]"
   ]
  },
  {
   "cell_type": "code",
   "execution_count": 36,
   "id": "027cb21a",
   "metadata": {},
   "outputs": [
    {
     "data": {
      "image/png": "[encoded data removed]",
      "text/plain": [
       "<Figure size 900x400 with 1 Axes>"
      ]
     },
     "metadata": {},
     "output_type": "display_data"
    }
   ],
   "source": [
    "plt.figure(figsize=(9,4))\n",
    "ax = sns.countplot(x = df3['discount_%'],palette=['#50b131','#e98d6b','#3ba3ec','#35193e'])\n",
    "ax.set(title = \"Reviews\")\n",
    "for p in ax.patches:\n",
    "     ax.annotate('{:.1f}'.format(p.get_height()),(p.get_x()+0.25,p.get_height()+3.11))\n",
    "plt.show() "
   ]
  },
  {
   "cell_type": "code",
   "execution_count": null,
   "id": "3e7a65a5",
   "metadata": {},
   "outputs": [],
   "source": []
  },
  {
   "cell_type": "code",
   "execution_count": null,
   "id": "8f217219",
   "metadata": {},
   "outputs": [],
   "source": []
  }
 ],
 "metadata": {
  "kernelspec": {
   "display_name": "Python 3 (ipykernel)",
   "language": "python",
   "name": "python3"
  },
  "language_info": {
   "codemirror_mode": {
    "name": "ipython",
    "version": 3
   },
   "file_extension": ".py",
   "mimetype": "text/x-python",
   "name": "python",
   "nbconvert_exporter": "python",
   "pygments_lexer": "ipython3",
   "version": "3.9.13"
  }
 },
 "nbformat": 4,
 "nbformat_minor": 5
}
